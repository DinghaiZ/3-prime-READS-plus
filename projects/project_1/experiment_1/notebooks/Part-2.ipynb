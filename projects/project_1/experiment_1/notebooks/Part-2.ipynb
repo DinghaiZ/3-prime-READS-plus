{
 "cells": [
  {
   "cell_type": "markdown",
   "metadata": {},
   "source": [
    "# 3'READS+ Pipeline (Part 2)\n",
    "**This notebook is the Part 2 of the 3'READS+ pipeline, which will do the following:**\n",
    "\n",
    "1. Register settings for this analysis. One experiment can be analysed with different settings. The results for each setting will be saved in different folders in the *result_dir* directory. \n",
    "2. Extend annotated 3'UTR regions to allow identification of new pA sites in previously poorly annotated 3'UTRs. \n",
    "3. Assign pA clusters identified in Part 1 to genomic features such as extended 3'UTRs, introns, CDSs, and 5'UTRs.\n",
    "4. Resolve pA sites mapped to multiple genes.\n",
    "5. Map intergenic and intronic pA sites to Non-Coding RNAs (ncRNAs).\n",
    "6. Map intergenic pA sites to Upstream Antisense RNAs (uaRNAs).\n",
    "7. Map intergenic pA sites to mitochondria.\n",
    "8. Optionally resolve pA sites mapped to multiple genomic features of the same gene.\n",
    "9. Plot distribution of pA sites and PASS reads in different genomic features of each sample.\n",
    "10. Calculate optimal Transcript Starting Sites (TSSs).\n",
    "\n",
    "Most of the above computation intensive steps are done by **parallel computing**.\n",
    "\n",
    "**Required softwares**\n",
    " * Jupyter Lab\n",
    " * R packages: foreach, doParallel, ShortRead, Biostrings, dplyr, tidyr, grid, ggplot2, plotly, etc\n",
    " * Linux environment\n",
    " \n",
    "**Hardware requirements**\n",
    " * Muticore CPU for parallel computing"
   ]
  },
  {
   "cell_type": "markdown",
   "metadata": {},
   "source": [
    "## 1. Set configurations specific to this project, experiment, and analysis\n",
    "These parameters need to be specified for different projects and experiments. One experiment can be analysed with different settings. However, *SHARED_DATA_DIR* is a directory containing frequently used data, such as annotation databases."
   ]
  },
  {
   "cell_type": "code",
   "execution_count": 3,
   "metadata": {},
   "outputs": [],
   "source": [
    "SHARED_DATA_DIR = '/home/dinghai/projects/fud'\n",
    "\n",
    "SETTING = 'NC' # Each data set can be analyzed with different parameter settings"
   ]
  },
  {
   "cell_type": "code",
   "execution_count": 4,
   "metadata": {
    "ExecuteTime": {
     "end_time": "2019-06-25T13:18:55.110083Z",
     "start_time": "2019-06-25T13:18:55.083Z"
    }
   },
   "outputs": [],
   "source": [
    "if(SETTING == 'NC'){\n",
    "  # Which genome was used for mapping?  \n",
    "  GENOME = 'mm9' # Genome name, currently either mm9 or hg19\n",
    "  # Define which sample conditions to focus on\n",
    "  # As mentioned in Part-1 of the pipeline, sample names should be in the format of \n",
    "  # \"Treatment_Fraction_Batch\", such as in \"NT_C_1\" and \"NT_N_1\".\n",
    "  treatments = c(\"NT\") # Order matters. Earlier ones will be reference\n",
    "  fractions = c(\"C\", \"N\") # Order matters. Earlier ones will be reference \n",
    "  comparisons = c(\"N_C\") # Comparisons to make: N vs C\n",
    "    \n",
    "  # Use unique PASS reads for analysis?\n",
    "  uPASS = F \n",
    "  if(uPASS){\n",
    "    cluster_file = paste0('../results/clusters.using.unique.reads.csv')\n",
    "    cluster_min_count = 2\n",
    "  }else{\n",
    "    cluster_file = paste0('../results/clusters.using.all.reads.csv')\n",
    "    cluster_min_count = 5\n",
    "  }\n",
    "    \n",
    "  # Settings for filtering low expression pAs \n",
    "  lowest_usage = 0 # 5% \n",
    "  lowest_rpm = 0 # 1\n",
    "  lowest_count = 5\n",
    "  filter_strength = 1 # Fraction of samples satisfying the filters\n",
    "    \n",
    "  # When a pA site map to mutlple genomic features of the same gene due to alternative splicing,\n",
    "  # should we simplify the \"region\" annotation? \n",
    "  simplify_region_annotation = T\n",
    "  \n",
    "  # Settings for identifying aUTRs\n",
    "  neighbor = F # Calculate aUTRs for each neighboring isoforms?\n",
    "  toptwo = T # Pick top two isoforms for each gene?\n",
    "  \n",
    "  # Number of CPUs for parallel computing \n",
    "  MAX_WORKERS = 8  \n",
    "}"
   ]
  },
  {
   "cell_type": "code",
   "execution_count": 5,
   "metadata": {},
   "outputs": [
    {
     "name": "stdout",
     "output_type": "stream",
     "text": [
      "Analysis results will be saved in the following directory: ../results/NC"
     ]
    }
   ],
   "source": [
    "result_dir = paste0(\"../results/\", SETTING)\n",
    "system(paste0(\"mkdir \", result_dir))\n",
    "cat(\"Analysis results will be saved in the following directory:\", result_dir) "
   ]
  },
  {
   "cell_type": "markdown",
   "metadata": {},
   "source": [
    "Load packages:"
   ]
  },
  {
   "cell_type": "code",
   "execution_count": 6,
   "metadata": {
    "ExecuteTime": {
     "end_time": "2019-06-25T12:48:31.790571Z",
     "start_time": "2019-06-25T12:48:31.765Z"
    }
   },
   "outputs": [
    {
     "name": "stderr",
     "output_type": "stream",
     "text": [
      "Loading required package: tidyr\n",
      "Loading required package: magrittr\n",
      "\n",
      "Attaching package: ‘magrittr’\n",
      "\n",
      "The following object is masked from ‘package:tidyr’:\n",
      "\n",
      "    extract\n",
      "\n",
      "Loading required package: dplyr\n",
      "\n",
      "Attaching package: ‘dplyr’\n",
      "\n",
      "The following objects are masked from ‘package:stats’:\n",
      "\n",
      "    filter, lag\n",
      "\n",
      "The following objects are masked from ‘package:base’:\n",
      "\n",
      "    intersect, setdiff, setequal, union\n",
      "\n",
      "Loading required package: ggplot2\n",
      "Loading required package: plotly\n",
      "\n",
      "Attaching package: ‘plotly’\n",
      "\n",
      "The following object is masked from ‘package:ggplot2’:\n",
      "\n",
      "    last_plot\n",
      "\n",
      "The following object is masked from ‘package:stats’:\n",
      "\n",
      "    filter\n",
      "\n",
      "The following object is masked from ‘package:graphics’:\n",
      "\n",
      "    layout\n",
      "\n",
      "Loading required package: gplots\n",
      "\n",
      "Attaching package: ‘gplots’\n",
      "\n",
      "The following object is masked from ‘package:stats’:\n",
      "\n",
      "    lowess\n",
      "\n",
      "Loading required package: GenomicFeatures\n",
      "Loading required package: BiocGenerics\n",
      "Loading required package: parallel\n",
      "\n",
      "Attaching package: ‘BiocGenerics’\n",
      "\n",
      "The following objects are masked from ‘package:parallel’:\n",
      "\n",
      "    clusterApply, clusterApplyLB, clusterCall, clusterEvalQ,\n",
      "    clusterExport, clusterMap, parApply, parCapply, parLapply,\n",
      "    parLapplyLB, parRapply, parSapply, parSapplyLB\n",
      "\n",
      "The following objects are masked from ‘package:dplyr’:\n",
      "\n",
      "    combine, intersect, setdiff, union\n",
      "\n",
      "The following objects are masked from ‘package:stats’:\n",
      "\n",
      "    IQR, mad, sd, var, xtabs\n",
      "\n",
      "The following objects are masked from ‘package:base’:\n",
      "\n",
      "    anyDuplicated, append, as.data.frame, basename, cbind, colnames,\n",
      "    dirname, do.call, duplicated, eval, evalq, Filter, Find, get, grep,\n",
      "    grepl, intersect, is.unsorted, lapply, Map, mapply, match, mget,\n",
      "    order, paste, pmax, pmax.int, pmin, pmin.int, Position, rank,\n",
      "    rbind, Reduce, rownames, sapply, setdiff, sort, table, tapply,\n",
      "    union, unique, unsplit, which, which.max, which.min\n",
      "\n",
      "Loading required package: S4Vectors\n",
      "Loading required package: stats4\n",
      "\n",
      "Attaching package: ‘S4Vectors’\n",
      "\n",
      "The following object is masked from ‘package:gplots’:\n",
      "\n",
      "    space\n",
      "\n",
      "The following object is masked from ‘package:plotly’:\n",
      "\n",
      "    rename\n",
      "\n",
      "The following objects are masked from ‘package:dplyr’:\n",
      "\n",
      "    first, rename\n",
      "\n",
      "The following object is masked from ‘package:tidyr’:\n",
      "\n",
      "    expand\n",
      "\n",
      "The following object is masked from ‘package:base’:\n",
      "\n",
      "    expand.grid\n",
      "\n",
      "Loading required package: IRanges\n",
      "\n",
      "Attaching package: ‘IRanges’\n",
      "\n",
      "The following object is masked from ‘package:plotly’:\n",
      "\n",
      "    slice\n",
      "\n",
      "The following objects are masked from ‘package:dplyr’:\n",
      "\n",
      "    collapse, desc, slice\n",
      "\n",
      "Loading required package: GenomeInfoDb\n",
      "Loading required package: GenomicRanges\n",
      "Loading required package: AnnotationDbi\n",
      "Loading required package: Biobase\n",
      "Welcome to Bioconductor\n",
      "\n",
      "    Vignettes contain introductory material; view with\n",
      "    'browseVignettes()'. To cite Bioconductor, see\n",
      "    'citation(\"Biobase\")', and for packages 'citation(\"pkgname\")'.\n",
      "\n",
      "\n",
      "Attaching package: ‘AnnotationDbi’\n",
      "\n",
      "The following object is masked from ‘package:plotly’:\n",
      "\n",
      "    select\n",
      "\n",
      "The following object is masked from ‘package:dplyr’:\n",
      "\n",
      "    select\n",
      "\n",
      "Loading required package: docstring\n",
      "\n",
      "Attaching package: ‘docstring’\n",
      "\n",
      "The following object is masked from ‘package:utils’:\n",
      "\n",
      "    ?\n",
      "\n",
      "Loading required package: foreach\n",
      "Loading required package: doParallel\n",
      "Loading required package: iterators\n",
      "Loading required package: org.Mm.eg.db\n",
      "\n",
      "Loading required package: BSgenome.Mmusculus.UCSC.mm9\n",
      "Loading required package: BSgenome\n",
      "Loading required package: Biostrings\n",
      "Loading required package: XVector\n",
      "\n",
      "Attaching package: ‘Biostrings’\n",
      "\n",
      "The following object is masked from ‘package:base’:\n",
      "\n",
      "    strsplit\n",
      "\n",
      "Loading required package: rtracklayer\n",
      "\n",
      "Attaching package: ‘rtracklayer’\n",
      "\n",
      "The following object is masked from ‘package:plotly’:\n",
      "\n",
      "    export\n",
      "\n"
     ]
    }
   ],
   "source": [
    "require(tidyr)\n",
    "require(magrittr)\n",
    "require(dplyr)\n",
    "require(ggplot2)\n",
    "require(plotly)\n",
    "require(gplots)\n",
    "require(GenomicFeatures)\n",
    "require(docstring)\n",
    "require(foreach)\n",
    "require(doParallel)\n",
    "registerDoParallel(MAX_WORKERS)\n",
    "theme_set(theme_bw(base_size = 15) + theme(plot.title = element_text(hjust = 0.5)))\n",
    "\n",
    "# Depending on the genome, load the right packages:\n",
    "if(GENOME == \"mm9\"){\n",
    "  require(\"org.Mm.eg.db\")\n",
    "  org.db = org.Mm.eg.db\n",
    "  txdb_path = file.path(SHARED_DATA_DIR, \"mm9.refGene.txdb.sqlite\")\n",
    "  BSspec = \"Mmusculus\"\n",
    "}else if(GENOME == \"hg19\"){\n",
    "  require(\"org.Hs.eg.db\")\n",
    "  org.db = org.Hs.eg.db\n",
    "  txdb_path = file.path(SHARED_DATA_DIR, \"hg19.refGene.txdb.sqlite\")\n",
    "  BSspec = \"Hsapiens\"\n",
    "}\n",
    "    \n",
    "BSgeno = paste0(\"BSgenome.\", BSspec, \".UCSC.\", GENOME)\n",
    "require(BSgeno, character.only = T) "
   ]
  },
  {
   "cell_type": "markdown",
   "metadata": {},
   "source": [
    "If the txDb has not been downloaded yet, download it and save it to the shared data directory:"
   ]
  },
  {
   "cell_type": "code",
   "execution_count": 7,
   "metadata": {},
   "outputs": [],
   "source": [
    "tryCatch(\n",
    "  {txdb = loadDb(txdb_path)},\n",
    "  error = function(e){\n",
    "    txdb = makeTxDbFromUCSC(genome = GENOME, tablename = 'refGene')\n",
    "    saveDb(txdb, file.path(SHARED_DATA_DIRD, paste0(GENOME, \".refGene.txdb.sqlite\")))\n",
    "  }\n",
    ")"
   ]
  },
  {
   "cell_type": "markdown",
   "metadata": {},
   "source": [
    "## 2. Extend annotated 3'UTR regions to allow identification of new pA sites in poorly annotated 3'UTRs. \n",
    "\n",
    "First, define a helper function that will be reused several times later. The first line is a DocString."
   ]
  },
  {
   "cell_type": "code",
   "execution_count": 8,
   "metadata": {},
   "outputs": [],
   "source": [
    "rename_grl = function(grl, old_key = \"ACCNUM\", new_key = \"SYMBOL\"){\n",
    "    #' A function to rename GRanges in a GRangeList.\n",
    "    \n",
    "    # Convert a GRangeList to a GRanges for faster calculation\n",
    "    gr = unlist(grl)\n",
    "\n",
    "    # Convert the accession numbers of the genes into gene symbols\n",
    "    names(gr) = mapIds(org.db, keys = names(gr), keytype = old_key, column = new_key)\n",
    "    \n",
    "    # Rebuild 3'UTRs by gene symbol \n",
    "    grl = split(gr, names(gr))   \n",
    "\n",
    "    # Collapse features\n",
    "    grl = reduce(grl)\n",
    "}"
   ]
  },
  {
   "cell_type": "markdown",
   "metadata": {},
   "source": [
    "To extend 3'UTRs, I first get 4 kb regions downstream of annotated 3'UTRs. If the downstream regions overlap with downstream genes, I'll shrink the downstream regions to avoid overlaps. On the other hand, if the beginnings of the downstream regions are located within any genes (e.g. intronic 3'UTRs), I will undo the extension by setting the start and end of the extension to be identical. Downstream regions are processed separately for 3'UTRs on the plus and minus strands. Finally, the 3'UTRs and downstream regions are combined to get extended 3'UTRs. Please note that the extended 3'UTRs are just candidate 3'UTR regions. The exact 3'UTR boundaries will be determined by pA sites that can be mapped to them."
   ]
  },
  {
   "cell_type": "code",
   "execution_count": 9,
   "metadata": {},
   "outputs": [
    {
     "name": "stderr",
     "output_type": "stream",
     "text": [
      "Warning message in .set_group_names(ans, use.names, txdb, \"tx\"):\n",
      "“some group names are NAs or duplicated”'select()' returned 1:1 mapping between keys and columns\n",
      "Warning message in valid.GenomicRanges.seqinfo(x, suggest.trim = TRUE):\n",
      "“GRanges object contains 4 out-of-bound ranges located on sequences\n",
      "  chrUn_random, chr12, chr13, and chr3. Note that ranges located on a\n",
      "  sequence whose length is unknown (NA) or on a circular sequence are not\n",
      "  considered out-of-bound (use seqlengths() and isCircular() to get the\n",
      "  lengths and circularity flags of the underlying sequences). You can use\n",
      "  trim() to trim these ranges. See ?`trim,GenomicRanges-method` for more\n",
      "  information.”"
     ]
    }
   ],
   "source": [
    "# Get 3'UTR annotation from Refseq\n",
    "threeUTRs = threeUTRsByTranscript(txdb, use.names=T)\n",
    "\n",
    "# Rename the 3'URs with gene symbols\n",
    "threeUTRs = rename_grl(threeUTRs, old_key = \"ACCNUM\", new_key = \"SYMBOL\")\n",
    "\n",
    "# Convert to GRanges for later use\n",
    "utr3 = unlist(threeUTRs)\n",
    "\n",
    "# Get 4 kb downstream regions. 3'UTR regions not included\n",
    "# Out of boundary regions need to be trimmed\n",
    "ds = trim(flank(utr3, 4000, start=F))\n",
    "\n",
    "# Get GRanges for genes\n",
    "genes = genes(txdb, filter=NULL, single.strand.genes.only=T)\n",
    " \n",
    "# Find extensions that overlap with genes on positive strands:\n",
    "olp = findOverlaps(ds[strand(ds) == \"+\"], genes[strand(genes) == \"+\"])\n",
    "\n",
    "# Which 3'UTRs have been extended too far?\n",
    "extended_into_genes = start(ds[strand(ds) == \"+\"][queryHits(olp)]) < \n",
    "                      start(genes[strand(genes) == \"+\"][subjectHits(olp)])\n",
    "\n",
    "# Reset the extended region so that the extended region no longer overlap with genes\n",
    "end(ds[strand(ds) == \"+\"][queryHits(olp)][extended_into_genes]) =\n",
    "    start(genes[strand(genes) == \"+\"][subjectHits(olp)][extended_into_genes]) - 1 \n",
    "\n",
    "# If the bebinning of 3'UTR downstream region is located within any genes, don't extend either.\n",
    "width(ds[strand(ds) == \"+\"][queryHits(olp)][!extended_into_genes]) = 1 \n",
    "\n",
    "# Find extensions that overlap with genes on negative strands:\n",
    "olp = findOverlaps(ds[strand(ds) == \"-\"], genes[strand(genes) == \"-\"])\n",
    "\n",
    "# Which 3'UTRs have been extended too far?\n",
    "extended_into_genes = end(ds[strand(ds) == \"-\"][queryHits(olp)]) > \n",
    "                      end(genes[strand(genes) == \"-\"][subjectHits(olp)])\n",
    "\n",
    "# Reset the extended region so that the extended region no longer overlap with genes\n",
    "start(ds[strand(ds) == \"-\"][queryHits(olp)][extended_into_genes]) = \n",
    "    end(genes[strand(genes) == \"-\"][subjectHits(olp)][extended_into_genes]) + 1 \n",
    "\n",
    "# If the bebinning of 3'UTR downstream region is located within any genes, don't extend either.\n",
    "end(ds[strand(ds) == \"-\"][queryHits(olp)][!extended_into_genes]) = \n",
    "    start(ds[strand(ds) == \"-\"][queryHits(olp)][!extended_into_genes]) \n",
    "\n",
    "# Combind previous 3'UTR definition with the downstream region to define extended 3'UTRs\n",
    "utr3 = resize(utr3, width = width(utr3) + width(ds)-1, fix=\"start\")\n",
    "\n",
    "# Rebuild 3'UTRs named by gene symbol \n",
    "threeUTRs = split(utr3, names(utr3))"
   ]
  },
  {
   "cell_type": "markdown",
   "metadata": {},
   "source": [
    "## 3.1. Read the pA cluster file created in Part-1 of the pipeline and create a GRange:"
   ]
  },
  {
   "cell_type": "code",
   "execution_count": 10,
   "metadata": {},
   "outputs": [
    {
     "name": "stdout",
     "output_type": "stream",
     "text": [
      "The following samples will be used for the analysis named 'NC':"
     ]
    },
    {
     "data": {
      "text/html": [
       "<ol class=list-inline>\n",
       "\t<li>'NT_C_1'</li>\n",
       "\t<li>'NT_C_2'</li>\n",
       "\t<li>'NT_C_3'</li>\n",
       "\t<li>'NT_N_1'</li>\n",
       "\t<li>'NT_N_2'</li>\n",
       "\t<li>'NT_N_3'</li>\n",
       "</ol>\n"
      ],
      "text/latex": [
       "\\begin{enumerate*}\n",
       "\\item 'NT\\_C\\_1'\n",
       "\\item 'NT\\_C\\_2'\n",
       "\\item 'NT\\_C\\_3'\n",
       "\\item 'NT\\_N\\_1'\n",
       "\\item 'NT\\_N\\_2'\n",
       "\\item 'NT\\_N\\_3'\n",
       "\\end{enumerate*}\n"
      ],
      "text/markdown": [
       "1. 'NT_C_1'\n",
       "2. 'NT_C_2'\n",
       "3. 'NT_C_3'\n",
       "4. 'NT_N_1'\n",
       "5. 'NT_N_2'\n",
       "6. 'NT_N_3'\n",
       "\n",
       "\n"
      ],
      "text/plain": [
       "[1] \"NT_C_1\" \"NT_C_2\" \"NT_C_3\" \"NT_N_1\" \"NT_N_2\" \"NT_N_3\""
      ]
     },
     "metadata": {},
     "output_type": "display_data"
    }
   ],
   "source": [
    "# Calculate sample names and batch numbers\n",
    "header = strsplit(readLines(cluster_file, n = 1), \",\")[[1]]\n",
    "\n",
    "sample_names = grep(paste0(\"(\", paste0(treatments, collapse=\"|\"), \n",
    "                           \")_(\", paste0(fractions,collapse=\"|\"), \n",
    "                           \")_\\\\d+\"), \n",
    "                    header[-c(1:3)], value = T)\n",
    "\n",
    "batches = unique(sub(\".+_(\\\\d+.?)$\", \"\\\\1\", sample_names)) \n",
    "\n",
    "cat(paste0(\"The following samples will be used for the analysis named '\", SETTING, \"':\")) \n",
    "sample_names"
   ]
  },
  {
   "cell_type": "code",
   "execution_count": 11,
   "metadata": {},
   "outputs": [],
   "source": [
    "# Only read desirable columns of the cluster file\n",
    "cluster = read.csv(cluster_file)[, c(\"chromosome\",\"strand\",\"position\", sample_names)]\n",
    "\n",
    "# Require at least cluster_min_count reads for more than 2 samples\n",
    "cluster = subset(cluster, rowSums(cluster[,-c(1:3)] >= cluster_min_count) >= 2)\n",
    "\n",
    "# Create a GRanges object\n",
    "pA = GRanges(seqnames = cluster$chromosome, strand = cluster$strand,\n",
    "             ranges = IRanges(start = cluster$position, end = cluster$position))\n",
    "\n",
    "mcols(pA, use.names = T) = cluster[,-c(1:3)]\n",
    "\n",
    "rm(cluster)"
   ]
  },
  {
   "cell_type": "markdown",
   "metadata": {},
   "source": [
    "## 3.2. Map the pA sites to extended 3'UTRs"
   ]
  },
  {
   "cell_type": "code",
   "execution_count": 12,
   "metadata": {},
   "outputs": [],
   "source": [
    "pA$gene_symbol = \"\"\n",
    "pA$region = \"\"\n",
    "olp = findOverlaps(pA, threeUTRs)\n",
    "pA[queryHits(olp), ]$gene_symbol = names(threeUTRs[subjectHits(olp)])\n",
    "pA[queryHits(olp), ]$region = \"3UTR\""
   ]
  },
  {
   "cell_type": "markdown",
   "metadata": {},
   "source": [
    "## 3.3. Map the pA sites to introns"
   ]
  },
  {
   "cell_type": "code",
   "execution_count": 13,
   "metadata": {},
   "outputs": [
    {
     "name": "stderr",
     "output_type": "stream",
     "text": [
      "Warning message in .set_group_names(ans, use.names, x, \"tx\"):\n",
      "“some group names are NAs or duplicated”'select()' returned 1:1 mapping between keys and columns\n"
     ]
    }
   ],
   "source": [
    "# Get intron annotation\n",
    "introns = intronsByTranscript(txdb, use.names=T)\n",
    "\n",
    "# Use the previously defined helper function to rename introns\n",
    "introns = rename_grl(introns, old_key = \"ACCNUM\", new_key = \"SYMBOL\")\n",
    "\n",
    "# Which clusters are mapped to which introns?\n",
    "olp = findOverlaps(pA, introns)\n",
    "\n",
    "# Some \"intronic\" pA sites have never been considered as 3'UTR pA sites \n",
    "index1 = which(pA[queryHits(olp), ]$gene_symbol == \"\")\n",
    "pA[queryHits(olp), ][index1, ]$gene_symbol = names(introns[subjectHits(olp[index1,])])\n",
    "pA[queryHits(olp), ][index1, ]$region = \"intron\"\n",
    "\n",
    "# Some \"intronic\" pA sites have already been considered as 3'UTR pA sites \n",
    "index2 = which(pA[queryHits(olp), ]$gene_symbol != \"\")\n",
    "pA[queryHits(olp), ][index2, ]$gene_symbol = paste0(pA[queryHits(olp), ][index2, ]$gene_symbol, \n",
    "                                                    \"|\", \n",
    "                                                    names(introns[subjectHits(olp[index2,])]))\n",
    "pA[queryHits(olp), ][index2, ]$region = paste0(pA[queryHits(olp), ][index2, ]$region, \"|intron\")"
   ]
  },
  {
   "cell_type": "markdown",
   "metadata": {},
   "source": [
    "## 3.4. Map the pA sites to CDS"
   ]
  },
  {
   "cell_type": "code",
   "execution_count": 14,
   "metadata": {},
   "outputs": [
    {
     "name": "stderr",
     "output_type": "stream",
     "text": [
      "Warning message in .set_group_names(grl, use.names, txdb, by):\n",
      "“some group names are NAs or duplicated”'select()' returned 1:1 mapping between keys and columns\n"
     ]
    }
   ],
   "source": [
    "# Get CDS annotation\n",
    "cds = cdsBy(txdb, by=\"tx\", use.names=T)\n",
    "\n",
    "# Use the previously defined helper function to rename CDS\n",
    "cds = rename_grl(cds, old_key = \"ACCNUM\", new_key = \"SYMBOL\")\n",
    "\n",
    "# Which clusters are mapped to which cds?\n",
    "olp = findOverlaps(pA, cds)\n",
    "\n",
    "# Some \"CDS\" pAs have never been considered as other featuers\n",
    "index1 = which(pA[queryHits(olp), ]$gene_symbol == \"\")\n",
    "if(length(index1) > 0){\n",
    "  pA[queryHits(olp), ][index1, ]$gene_symbol = names(cds[subjectHits(olp[index1,])])\n",
    "  pA[queryHits(olp), ][index1, ]$region = \"CDS\"\n",
    "  }\n",
    "\n",
    "# Some \"CDS\" have already been considered as other featuers\n",
    "index2 = which(pA[queryHits(olp), ]$gene_symbol != \"\")\n",
    "if(length(index2) > 0){\n",
    "  pA[queryHits(olp), ][index2, ]$gene_symbol = \n",
    "    paste0(pA[queryHits(olp), ][index2, ]$gene_symbol, \"|\", \n",
    "           names(cds[subjectHits(olp[index2,])]))\n",
    "  pA[queryHits(olp), ][index2, ]$region = paste0(pA[queryHits(olp), ][index2, ]$region, \"|CDS\")\n",
    "  }"
   ]
  },
  {
   "cell_type": "markdown",
   "metadata": {},
   "source": [
    "## 3.5. Map the pA sites to 5'UTRs"
   ]
  },
  {
   "cell_type": "code",
   "execution_count": 15,
   "metadata": {},
   "outputs": [
    {
     "name": "stderr",
     "output_type": "stream",
     "text": [
      "Warning message in .set_group_names(ans, use.names, txdb, \"tx\"):\n",
      "“some group names are NAs or duplicated”'select()' returned 1:1 mapping between keys and columns\n"
     ]
    }
   ],
   "source": [
    "# Get 5'UTR annotation\n",
    "fiveUTRs = fiveUTRsByTranscript(txdb, use.names=T) \n",
    "\n",
    "# Use the previously defined helper function to rename CDS\n",
    "fiveUTRs = rename_grl(fiveUTRs, old_key = \"ACCNUM\", new_key = \"SYMBOL\")\n",
    "\n",
    "# Which clusters are mapped to which 5'UTRs?\n",
    "olp = findOverlaps(pA, fiveUTRs)\n",
    "\n",
    "# Some 5'UTR pA sites have never been considered as other featuers\n",
    "index1 = which(pA[queryHits(olp), ]$gene_symbol == \"\")\n",
    "if(length(index1) > 0){\n",
    "  pA[queryHits(olp), ][index1, ]$region = \"5UTR\"\n",
    "  pA[queryHits(olp), ][index1, ]$gene_symbol = names(fiveUTRs[subjectHits(olp[index1,])])\n",
    "  }\n",
    "\n",
    "# Some 5'UTRs have already been considered as other featuers\n",
    "index2 = which(pA[queryHits(olp), ]$gene_symbol != \"\")\n",
    "if(length(index2) > 0){\n",
    "  pA[queryHits(olp), ][index2, ]$region = paste0(pA[queryHits(olp), ][index2, ]$region, \"|5UTR\")\n",
    "  pA[queryHits(olp), ][index2, ]$gene_symbol = \n",
    "    paste0(pA[queryHits(olp), ][index2, ]$gene_symbol, \"|\", \n",
    "           names(fiveUTRs[subjectHits(olp[index2,])]))\n",
    "  }\n",
    "\n",
    "pA[pA$region == \"\"]$region = \"intergenic\""
   ]
  },
  {
   "cell_type": "markdown",
   "metadata": {},
   "source": [
    "## 4. Resolve pA sites mapped to multiple genes.\n",
    "Some pA sites are mapped to multiple genes. The conflict will be resolved based on the priority of 3UTR > intron > CDS."
   ]
  },
  {
   "cell_type": "code",
   "execution_count": 16,
   "metadata": {},
   "outputs": [],
   "source": [
    "# Resolve pAs mapped to multiple genes\n",
    "index1 = which(sapply(strsplit(pA$gene_symbol, \"\\\\|\"), function(x) length(unique(x))) > 1)\n",
    "                      \n",
    "# If the first region annotation is 3UTR, then only keep the first gene_symbol \n",
    "if(length(index1) > 0){\n",
    "  index2 = grepl(\"^3UTR\", pA[index1,]$region)\n",
    "  pA[index1,][index2,]$gene_symbol = sub(\"\\\\|.+$\", \"\", pA[index1,][index2,]$gene_symbol)\n",
    "  pA[index1,][index2,]$region = \"3UTR\"\n",
    "}\n",
    "                      \n",
    "# Next, if the first region annotation is intron, then only keep the first gene_symbol \n",
    "index1 = which(sapply(strsplit(pA$gene_symbol, \"\\\\|\"), function(x) length(unique(x))) > 1)\n",
    "if(length(index1) > 0){\n",
    "  index2 = grepl(\"^intron\", pA[index1,]$region)\n",
    "  pA[index1,][index2,]$gene_symbol = sub(\"\\\\|.+$\", \"\", pA[index1,][index2,]$gene_symbol)\n",
    "  pA[index1,][index2,]$region = \"intron\"\n",
    "}\n",
    "\n",
    "# Next, if the first region annotation is CDS, then only keep the first gene_symbol\n",
    "index1 = which(sapply(strsplit(pA$gene_symbol, \"\\\\|\"), function(x) length(unique(x))) > 1)\n",
    "if(length(index1) > 0){\n",
    "  index2 = grepl(\"^CDS\", pA[index1,]$region)\n",
    "  pA[index1,][index2,]$gene_symbol = sub(\"\\\\|.+$\", \"\", pA[index1,][index2,]$gene_symbol)\n",
    "  pA[index1,][index2,]$region = \"CDS\"\n",
    "}\n",
    "                      \n",
    "# Delete other pAs that can be mapped to >1 gene\n",
    "index1 = which(sapply(strsplit(pA$gene_symbol, \"\\\\|\"), function(x) length(unique(x))) > 1)\n",
    "if (length(index1) > 0){\n",
    "  pA = pA[-index1,]\n",
    "}\n",
    "                      \n",
    "# Now simplify gene_symbol for all genes\n",
    "pA$gene_symbol = sub(\"\\\\|.+$\", \"\", pA$gene_symbol)\n",
    "pA$gene_symbol[pA$gene_symbol == \"\"] = \"Unknown\""
   ]
  },
  {
   "cell_type": "markdown",
   "metadata": {},
   "source": [
    "## 5. Map intergenic and intronic pA sites to Non-Coding RNAs (ncRNAs)\n",
    "Non-coding RNAs can be extracted from UCSC refGene table by requiring that *cdsStart* equals *cdsEnd*. "
   ]
  },
  {
   "cell_type": "code",
   "execution_count": 17,
   "metadata": {},
   "outputs": [
    {
     "name": "stderr",
     "output_type": "stream",
     "text": [
      "Warning message in .local(conn, statement, ...):\n",
      "“Unsigned INTEGER in col 0 imported as numeric”Warning message in .local(conn, statement, ...):\n",
      "“Unsigned INTEGER in col 4 imported as numeric”Warning message in .local(conn, statement, ...):\n",
      "“Unsigned INTEGER in col 5 imported as numeric”Warning message in .local(conn, statement, ...):\n",
      "“Unsigned INTEGER in col 6 imported as numeric”Warning message in .local(conn, statement, ...):\n",
      "“Unsigned INTEGER in col 7 imported as numeric”Warning message in .local(conn, statement, ...):\n",
      "“Unsigned INTEGER in col 8 imported as numeric”Warning message in .local(conn, statement, ...):\n",
      "“Unsigned INTEGER in col 0 imported as numeric”Warning message in .local(conn, statement, ...):\n",
      "“Unsigned INTEGER in col 4 imported as numeric”Warning message in .local(conn, statement, ...):\n",
      "“Unsigned INTEGER in col 5 imported as numeric”Warning message in .local(conn, statement, ...):\n",
      "“Unsigned INTEGER in col 6 imported as numeric”Warning message in .local(conn, statement, ...):\n",
      "“Unsigned INTEGER in col 7 imported as numeric”Warning message in .local(conn, statement, ...):\n",
      "“Unsigned INTEGER in col 8 imported as numeric”"
     ]
    }
   ],
   "source": [
    "# Get noncoding RNA annotation\n",
    "con = src_mysql(dbname = GENOME, \n",
    "                user = \"genome\", \n",
    "                password = \"\", \n",
    "                host = \"genome-mysql.cse.ucsc.edu\")\n",
    "\n",
    "ncTx = con %>%\n",
    "  tbl(\"refGene\") %>%\n",
    "  # select(name,chrom,strand,cdsStart,cdsEnd, txStart, txEnd) %>% \n",
    "  filter(cdsStart==cdsEnd) %>%\n",
    "  distinct() %>%\n",
    "  collect()\n",
    "\n",
    "# Convert to GRanges\n",
    "ncTx = split(as.data.frame(ncTx), ncTx$name)\n",
    "\n",
    "# A helper function to process CDS of transcripts in multiple exons\n",
    "process_multi_exons = function(df){\n",
    "  if(length(df$name) == 1){\n",
    "    starts = as.numeric(strsplit(df$exonStarts, \",\")[[1]])\n",
    "    ends = as.numeric(strsplit(df$exonEnds, \",\")[[1]])\n",
    "    gr = GRanges(seqnames = df$chrom, strand = df$strand, \n",
    "                 ranges = IRanges(start=starts, end=ends))\n",
    "    gr$gene_symbol = df$name\n",
    "    gr\n",
    "  }\n",
    "}\n",
    "ncTx = lapply(ncTx, process_multi_exons)\n",
    "ncTx = GRangesList(ncTx[sapply(ncTx, class) == \"GRanges\"])\n",
    "\n",
    "# Map pAs in intergernic or intronic region to ncRNAs\n",
    "olp = findOverlaps(pA[grepl(\"intergenic|^intron\", pA$region)], ncTx) \n",
    "                   \n",
    "# Discard pAs mapped to multiple ncRNAs\n",
    "olp = olp[!duplicated(queryHits(olp))]\n",
    "                   \n",
    "# Remove gene symbol of the host genes\n",
    "pA[grepl(\"intergenic|^intron\", pA$region)][queryHits(olp), ]$gene_symbol = \n",
    "                                              names(ncTx)[subjectHits(olp)]\n",
    "                   \n",
    "# Update region annotation\n",
    "pA[grepl(\"intergenic|^intron\", pA$region)][queryHits(olp), ]$region = \"ncRNA\""
   ]
  },
  {
   "cell_type": "markdown",
   "metadata": {},
   "source": [
    "## 6. Map pA sites to Upstream Antisense RNAs (uaRNAs)\n",
    "Transcription in sense direction produces mRNA, while upstream antisense transcription generates non-coding transcripts called uaRNA (upstream antisense RNA). I'll define the antisense 4000 kb region as candidate UA regions."
   ]
  },
  {
   "cell_type": "code",
   "execution_count": 18,
   "metadata": {},
   "outputs": [
    {
     "name": "stderr",
     "output_type": "stream",
     "text": [
      "'select()' returned 1:1 mapping between keys and columns\n"
     ]
    }
   ],
   "source": [
    "# Define UA (upstream antisense) regions\n",
    "ua = promoters(txdb, upstream=4000, downstream=0) # returns 1 record per transcript \n",
    "\n",
    "# Reverse the strand to get antisense region\n",
    "strand(ua) = Rle(as.factor(ifelse(strand(ua) == \"+\", \"-\", \"+\")))\n",
    "\n",
    "# Convert the accession numbers of the genes into gene symbols\n",
    "names(ua) = mapIds(org.db, keys = ua$tx_name, keytype =  \"ACCNUM\", column =  \"SYMBOL\")\n",
    "\n",
    "ua = split(ua, names(ua))"
   ]
  },
  {
   "cell_type": "markdown",
   "metadata": {},
   "source": [
    "Map pA sites that have never been annotated to UA regions."
   ]
  },
  {
   "cell_type": "code",
   "execution_count": 19,
   "metadata": {},
   "outputs": [],
   "source": [
    "# Which clusters are mapped to which ua?\n",
    "olp = findOverlaps(pA, ua)\n",
    "\n",
    "# Which pAs have never been considered as other featuers?\n",
    "index1 = which(pA[queryHits(olp), ]$gene_symbol == \"Unknown\") \n",
    "\n",
    "# Only update pAs that have never been considered as other featuers\n",
    "if(length(index1)){\n",
    "  pA[queryHits(olp), ][index1, ]$gene_symbol = names(ua[subjectHits(olp[index1,])])\n",
    "  pA[queryHits(olp), ][index1, ]$region = \"UA\"\n",
    "}"
   ]
  },
  {
   "cell_type": "markdown",
   "metadata": {},
   "source": [
    "## 7. Plot the fractions of intergenic pAs mapped to the mitochondria genome"
   ]
  },
  {
   "cell_type": "code",
   "execution_count": 26,
   "metadata": {},
   "outputs": [
    {
     "data": {
      "text/html": [
       "<strong>png:</strong> 2"
      ],
      "text/latex": [
       "\\textbf{png:} 2"
      ],
      "text/markdown": [
       "**png:** 2"
      ],
      "text/plain": [
       "png \n",
       "  2 "
      ]
     },
     "metadata": {},
     "output_type": "display_data"
    }
   ],
   "source": [
    "# Count chrM reads\n",
    "chrM_counts = colSums(data.frame(mcols(pA)[seqnames(pA)==\"chrM\",])[,sample_names])\n",
    "total_counts = colSums(data.frame(mcols(pA))[,sample_names])\n",
    "\n",
    "df = data.frame(chrM_counts, total_counts, sample_names) %>%\n",
    "     mutate(chrM_fraction = chrM_counts/total_counts) %>%\n",
    "     mutate(group = sub(\"(.+)_\\\\d.*$\", \"\\\\1\", sample_names)) %>%\n",
    "     arrange(sample_names)\n",
    "\n",
    "p = ggplot(df, aes(x = sample_names, y = chrM_fraction, fill = group)) +\n",
    "    geom_col() +\n",
    "    scale_fill_hue() +\n",
    "    coord_flip() +\n",
    "    xlab(\"Sample Names\") +\n",
    "    ylab(\"Fraction of chrM PASS reads\")\n",
    "\n",
    "png(file.path(result_dir, \"chrM_PASS_reads_fraction.png\"), 100*nrow(df), 500)\n",
    "print(p)\n",
    "dev.off()"
   ]
  },
  {
   "cell_type": "code",
   "execution_count": 27,
   "metadata": {},
   "outputs": [
    {
     "data": {
      "image/png": "[encoded data removed]",
      "text/plain": [
       "plot without title"
      ]
     },
     "metadata": {},
     "output_type": "display_data"
    }
   ],
   "source": [
    "# Change plot size \n",
    "library(repr)\n",
    "options(repr.plot.width=8, repr.plot.height=3)\n",
    "\n",
    "p"
   ]
  },
  {
   "cell_type": "code",
   "execution_count": 28,
   "metadata": {},
   "outputs": [
    {
     "data": {
      "image/png": "[encoded data removed]",
      "text/plain": [
       "plot without title"
      ]
     },
     "metadata": {},
     "output_type": "display_data"
    }
   ],
   "source": [
    "# Calculate mean and sd of chrM fractions\n",
    "if(length(batches) > 1){\n",
    "#  df$sample_names = sub(paste0(\"_(\", paste(batches, collapse = \"|\"), \")\"), \"\", df$sample_names)\n",
    "  df = df %>%\n",
    "    group_by(group) %>%\n",
    "    summarise(chrM_mean_fraction = mean(chrM_fraction), chrM_fraction_sd = sd(chrM_fraction)) \n",
    "  \n",
    "  p = ggplot(df, aes(x = group, y=chrM_mean_fraction, fill = group)) +\n",
    "    geom_col() +\n",
    "    geom_errorbar(aes(x = group, \n",
    "                      ymin = chrM_mean_fraction-chrM_fraction_sd, \n",
    "                      ymax = chrM_mean_fraction+chrM_fraction_sd), \n",
    "                  width = 0.5) + \n",
    "    coord_flip() +\n",
    "    xlab(\"Sample Group\") +\n",
    "    ylab(\"Mean fraction of chrM PASS reads\")\n",
    "  \n",
    "  png(file.path(result_dir, \"mean_chrM_reads_fraction.png\"), 100*nrow(df), 500)\n",
    "  print(p)\n",
    "    \n",
    "  \n",
    "  options(repr.plot.width=8, repr.plot.height=2)\n",
    "  dev.off()\n",
    "  p\n",
    "}"
   ]
  },
  {
   "cell_type": "markdown",
   "metadata": {},
   "source": [
    "Set the \"region\" of intergenic pAs mapped to the mitochondria genome to \"chrM\":"
   ]
  },
  {
   "cell_type": "code",
   "execution_count": 29,
   "metadata": {},
   "outputs": [],
   "source": [
    "pA[pA$region == \"intergenic\" & seqnames(pA) == \"chrM\"]$region = \"chrM\""
   ]
  },
  {
   "cell_type": "markdown",
   "metadata": {},
   "source": [
    "## 8. Optionally resolve pA sites mapped to multiple genomic features of the same gene\n",
    "pA sites can be mapped to multiple genomic features of the same gene due to alternative splicing. By default, the region annotation is simplified unless specified otherwise."
   ]
  },
  {
   "cell_type": "code",
   "execution_count": 30,
   "metadata": {},
   "outputs": [],
   "source": [
    "# Fix pAs mapped to multiple features\n",
    "if(!exists(\"simplify_region_annotation\") || simplify_region_annotation){\n",
    "  pA$region[grepl(\"\\\\|intron$\", pA$region)] = \"intron\"\n",
    "  pA$region[grepl(\"\\\\|CDS$\", pA$region)] = \"CDS\"\n",
    "  pA$region[grepl(\"\\\\|5UTR$\", pA$region)] = \"5UTR\"\n",
    "}"
   ]
  },
  {
   "cell_type": "markdown",
   "metadata": {},
   "source": [
    "## 9. Plot summarised distribution of pA sites and reads in genomic features in each sample.\n",
    "First, summarize pA sites and read numbers in each genomic features in each sample. pA sites with less than *min_count_* in the sample are omitted. The results are saved in an Excel file."
   ]
  },
  {
   "cell_type": "code",
   "execution_count": 31,
   "metadata": {},
   "outputs": [
    {
     "name": "stderr",
     "output_type": "stream",
     "text": [
      "Loading required package: scales\n",
      "Loading required package: openxlsx\n",
      "Note: zip::zip() is deprecated, please use zip::zipr() instead\n"
     ]
    }
   ],
   "source": [
    "require(scales)\n",
    "require(openxlsx)\n",
    "\n",
    "min_count_ = 5 # Read count filter\n",
    "\n",
    "df = mcols(pA)[, c(\"region\", sample_names)]\n",
    "\n",
    "# Collapse pAs mapped to multiple features\n",
    "df$region[grepl(\"\\\\|intron$\", df$region)] = \"intron\"\n",
    "df$region[grepl(\"\\\\|CDS$\", df$region)] = \"CDS\"\n",
    "df$region[grepl(\"\\\\|5UTR$\", df$region)] = \"5UTR\"\n",
    "\n",
    "# Change region names so that they can be used as column names\n",
    "df$region[df$region == \"3UTR\"] = \"UTR3\"\n",
    "df$region[df$region == \"5UTR\"] = \"UTR5\"\n",
    "\n",
    "\n",
    "# Initialize counting matrixes\n",
    "region_summary = matrix(nrow = 0, ncol = length(names(table(df$region))))\n",
    "colnames(region_summary) = names(table(df$region))\n",
    "\n",
    "read_summary = matrix(ncol = 0, nrow = length(names(table(df$region))))\n",
    "rownames(read_summary) = names(table(df$region))\n",
    "\n",
    "\n",
    "# Go through each sample, filter out pAs with low read numbers, and summarize\n",
    "for(sample_name in sample_names){\n",
    "  df_ = df[, c(\"region\", sample_name)]\n",
    "  df_ = df_[df_[, sample_name] >= min_count_, ]\n",
    "  \n",
    "  # Summarize numbers of pA site\n",
    "  region_summary = rbind(region_summary, table(df_$region))\n",
    "  \n",
    "  # Summarize read numbers \n",
    "  col = group_by(as.data.frame(df_), region) %>%\n",
    "    summarize_at(vars(sample_name), sum)\n",
    "  read_summary = cbind(read_summary, col[, sample_name])\n",
    "  \n",
    "}\n",
    "\n",
    "# Add row names and reorder rows\n",
    "rownames(region_summary) = sample_names\n",
    "region_summary = region_summary[order(rownames(region_summary)),]\n",
    "region_summary = t(region_summary)\n",
    "\n",
    "# Write to Excel\n",
    "wb = createWorkbook()\n",
    "addWorksheet(wb, \"pA_region_summary\")\n",
    "writeData(wb, sheet = 1, region_summary, rowNames = T)\n",
    "addWorksheet(wb, \"pA_read_summary\")\n",
    "writeData(wb, sheet = 2, read_summary, rowNames = T)\n",
    "saveWorkbook(wb, file.path(result_dir, \"pA_region_and_read_summary.xlsx\"), overwrite = TRUE)"
   ]
  },
  {
   "cell_type": "markdown",
   "metadata": {},
   "source": [
    "Plot distribution of pA sites. The ggplotly() function from the plotly library converts static ggplot2 figures into interactive figures."
   ]
  },
  {
   "cell_type": "code",
   "execution_count": 32,
   "metadata": {},
   "outputs": [
    {
     "data": {
      "text/html": [
       "<strong>png:</strong> 2"
      ],
      "text/latex": [
       "\\textbf{png:} 2"
      ],
      "text/markdown": [
       "**png:** 2"
      ],
      "text/plain": [
       "png \n",
       "  2 "
      ]
     },
     "metadata": {},
     "output_type": "display_data"
    }
   ],
   "source": [
    "# Plotting\n",
    "region_summary = as.data.frame(region_summary)\n",
    "region_summary$region = rownames(region_summary)\n",
    "region_summary = gather(region_summary, key=Sample, value=num_pA, -region)\n",
    "region_summary$region = factor(region_summary$region, \n",
    "                               levels = c(\"intergenic\", \"chrM\", \"ncRNA\", \"UA\", \n",
    "                                          \"UTR5\", \"CDS\", \"intron\", \"UTR3\"))\n",
    "\n",
    "p = ggplot(data=region_summary, aes(x=Sample, y=num_pA, fill = region)) + \n",
    "  geom_col(position = \"fill\") + \n",
    "  scale_y_continuous(labels = percent_format()) +\n",
    "  ylab(\"Percentage of pA sites\") +\n",
    "  coord_flip()\n",
    "\n",
    "png(file.path(result_dir, \"num_pA_summary.png\"), 800, length(sample_names)*50)\n",
    "print(p)\n",
    "dev.off()\n",
    "\n",
    "# ggplotly(p) # Uncomment this if you want to see interactive plots."
   ]
  },
  {
   "cell_type": "code",
   "execution_count": 33,
   "metadata": {},
   "outputs": [
    {
     "data": {
      "image/png": "[encoded data removed]",
      "text/plain": [
       "plot without title"
      ]
     },
     "metadata": {},
     "output_type": "display_data"
    }
   ],
   "source": [
    "# Change plot size \n",
    "library(repr)\n",
    "options(repr.plot.width=8, repr.plot.height=3)\n",
    "p"
   ]
  },
  {
   "cell_type": "markdown",
   "metadata": {},
   "source": [
    "Plot distribution of PASS reads. The ggplotly() function from the plotly library converts static ggplot2 figures into interactive figures."
   ]
  },
  {
   "cell_type": "code",
   "execution_count": 34,
   "metadata": {},
   "outputs": [
    {
     "data": {
      "text/html": [
       "<strong>png:</strong> 2"
      ],
      "text/latex": [
       "\\textbf{png:} 2"
      ],
      "text/markdown": [
       "**png:** 2"
      ],
      "text/plain": [
       "png \n",
       "  2 "
      ]
     },
     "metadata": {},
     "output_type": "display_data"
    }
   ],
   "source": [
    "read_summary = as.data.frame(read_summary)\n",
    "read_summary$region = rownames(read_summary)\n",
    "read_summary = gather(read_summary, key=Sample, value=num_read, -region)\n",
    "read_summary$region = factor(read_summary$region, \n",
    "                             levels = c(\"intergenic\", \"chrM\", \"ncRNA\", \"UA\",\n",
    "                                        \"UTR5\", \"CDS\", \"intron\", \"UTR3\"))\n",
    "\n",
    "p = ggplot(data=read_summary, aes(x=Sample, y=num_read, fill = region)) + \n",
    "  geom_col(position = \"fill\") + \n",
    "  scale_y_continuous(labels = percent_format()) +\n",
    "  ylab(\"Percentage of PASS reads\") +\n",
    "  coord_flip()\n",
    "\n",
    "png(file.path(result_dir, \"num_read_summary.png\"), 800, length(sample_names)*50)\n",
    "print(p)\n",
    "dev.off()\n",
    "\n",
    "# ggplotly(p) # Uncomment this if you want to see interactive plots."
   ]
  },
  {
   "cell_type": "code",
   "execution_count": 35,
   "metadata": {},
   "outputs": [
    {
     "data": {
      "image/png": "[encoded data removed]",
      "text/plain": [
       "plot without title"
      ]
     },
     "metadata": {},
     "output_type": "display_data"
    }
   ],
   "source": [
    "p"
   ]
  },
  {
   "cell_type": "markdown",
   "metadata": {},
   "source": [
    "# 10. Calculate transcript starting sites (TSSs) \n",
    "If >1 UA pA sites and >1 TSSs exist, use the TSS closest to the most downstream UA pA site, otherwise only keep the most upstream TSS."
   ]
  },
  {
   "cell_type": "code",
   "execution_count": 36,
   "metadata": {},
   "outputs": [
    {
     "name": "stderr",
     "output_type": "stream",
     "text": [
      "'select()' returned 1:1 mapping between keys and columns\n"
     ]
    }
   ],
   "source": [
    "# Get TSS \n",
    "tss = promoters(txdb, upstream=0, downstream=1, columns=c(\"tx_name\", \"gene_id\"))\n",
    "\n",
    "# Convert the accession numbers of the genes into gene symbols\n",
    "tss$gene_symbol = mapIds(org.db, keys = as.character(tss$tx_name),\n",
    "                         keytype =  \"ACCNUM\", column =  \"SYMBOL\")\n",
    "\n",
    "# Only consider detected genes\n",
    "tss = tss[tss$gene_symbol %in% pA$gene_symbol]\n",
    "\n",
    "# Remove duplicates (One gene can have multiple transcripts with the same TSS)\n",
    "tss = data.frame(chr = seqnames(tss), strand = strand(tss), \n",
    "                 position = start(tss), gene_symbol = tss$gene_symbol)\n",
    "tss = unique(tss)\n",
    "tss$gene_symbol = as.vector(tss$gene_symbol)\n",
    "\n",
    "# Calculate signed position for later use \n",
    "pA$signed_position = start(pA) * ifelse(strand(pA) == \"+\", 1, -1)\n",
    "tss$signed_position = tss$position * ifelse(tss$strand == \"+\", 1, -1) \n",
    "\n",
    "# Split tss into two categories and treat them differently\n",
    "tss_with_ua = tss[tss$gene_symbol %in% pA[pA$region == \"UA\"]$gene_symbol, ]\n",
    "tss_without_ua = tss[!tss$gene_symbol %in% pA[pA$region == \"UA\"]$gene_symbol, ]\n",
    "\n",
    "# Loop through genes in tss_with_ua, select the most reasonable TSS for each gene\n",
    "tss_with_ua_new = data.frame()\n",
    "for(gene in unique(tss_with_ua$gene_symbol)){\n",
    "  tss_for_gene = subset(tss_with_ua, gene_symbol == gene)\n",
    "  if(nrow(tss_for_gene) == 1){\n",
    "    tss_with_ua_new = rbind(tss_with_ua_new, tss_for_gene)\n",
    "  }else{\n",
    "    # Determine the most reasonable UA pA sites: \n",
    "    # pick the UA pA sites upstream to all other UA pA sites\n",
    "    ua_pA = pA[pA$gene_symbol == gene & pA$region == \"UA\"] # may have >1 rows\n",
    "    # ua_pA$signed_position is negative if the gene is on positive strand!\n",
    "    ua_pA = ua_pA[order(ua_pA$signed_position), ][1,] \n",
    "    # tss must be down stream of UA pA site \n",
    "    tss_for_gene = tss_for_gene[-ua_pA$signed_position - tss_for_gene$signed_position < 0,]\n",
    "    # Select the tss closest to the UA pA site\n",
    "    tss_for_gene = tss_for_gene[which.max(-ua_pA$signed_position - \n",
    "                                          tss_for_gene$signed_position),]\n",
    "    tss_with_ua_new = rbind(tss_with_ua_new, tss_for_gene)\n",
    "  }\n",
    "}\n",
    "\n",
    "# For tss without detected ua pA sites, simply pick the most upstream one\n",
    "tss_without_ua = tss_without_ua[order(tss_without_ua$gene_symbol, \n",
    "                                      tss_without_ua$signed_position), ]\n",
    "tss_without_ua = split(tss_without_ua, f=tss_without_ua$gene_symbol)\n",
    "tss_without_ua = do.call(rbind, lapply(tss_without_ua, function(x) x[1,]))\n",
    "                                       \n",
    "# Combine the two data frame\n",
    "tss = rbind(tss_with_ua_new, tss_without_ua)\n",
    "df = data.frame(gene_symbol = as.vector(pA$gene_symbol))\n",
    "                                       \n",
    "# Unmatched rows will be put at the end of the merged table\n",
    "df = merge(df, tss, by = \"gene_symbol\", all.x=T, sort=F)\n",
    "                                       \n",
    "# Cannot assume that the order remain the same even after setting sort = F\n",
    "pA = pA[order(pA$gene_symbol)] \n",
    "df = df[order(df$gene_symbol),]\n",
    "pA$tss_position = df$position\n",
    "\n",
    "rm(tss)\n",
    "rm(df)"
   ]
  },
  {
   "cell_type": "markdown",
   "metadata": {},
   "source": [
    "This is the end of Part-2 of the pipeline. The *pA* object can be saved for further analysis."
   ]
  },
  {
   "cell_type": "code",
   "execution_count": 37,
   "metadata": {},
   "outputs": [],
   "source": [
    "saveRDS(pA, file = file.path(result_dir, \"pA.rds\"))"
   ]
  },
  {
   "cell_type": "markdown",
   "metadata": {},
   "source": [
    "## 11.1. Calculate CDS features for the transcript with longest CDS of each gene"
   ]
  },
  {
   "cell_type": "code",
   "execution_count": 38,
   "metadata": {},
   "outputs": [
    {
     "name": "stderr",
     "output_type": "stream",
     "text": [
      "Warning message in .set_group_names(grl, use.names, txdb, by):\n",
      "“some group names are NAs or duplicated”'select()' returned 1:1 mapping between keys and columns\n",
      "'select()' returned 1:1 mapping between keys and columns\n"
     ]
    }
   ],
   "source": [
    "# Calculate CDS features of the transcript with maximum CDS length for each gene\n",
    "cds = cdsBy(txdb, by=\"tx\", use.names=T) \n",
    "\n",
    "# Calculate total CDS length for each transcript\n",
    "cds_length = foreach(i=1:length(cds), .combine = \"c\") %dopar%{\n",
    "  sum(width(cds[i]))\n",
    "}\n",
    "\n",
    "# Split by gene symbols\n",
    "cds_length = split(cds_length, mapIds(org.db, keys = names(cds_length), \n",
    "                                      keytype =  \"ACCNUM\", column =  \"SYMBOL\"))\n",
    "\n",
    "# Get transcripts with longest CDS\n",
    "max_cds_tx_name = names(sapply(cds_length, which.max))\n",
    "max_cds_tx_name = sub(\"^.+\\\\.\", \"\", max_cds_tx_name) \n",
    "\n",
    "# Get CDS sequence\n",
    "maxCDS_seq = getSeq(eval(parse(text = BSspec)), cds[max_cds_tx_name])\n",
    "maxCDS_seq = lapply(maxCDS_seq, function(x) unlist(x))\n",
    "maxCDS_seq = DNAStringSet(maxCDS_seq)\n",
    "                    \n",
    "# Calculate base frequency\n",
    "base_fraction = alphabetFrequency(maxCDS_seq, baseOnly=T, as.prob=T)\n",
    "                    \n",
    "CDS_features = data.frame(maxCDS_tx= names(maxCDS_seq), \n",
    "                          cds_start = unlist(start(range(cds[max_cds_tx_name]))),\n",
    "                          cds_end = unlist(end(range(cds[max_cds_tx_name]))),\n",
    "                          CDS_size = width(maxCDS_seq), \n",
    "                          CDS_GC = base_fraction[, \"C\"] + base_fraction[, \"G\"])\n",
    "                    \n",
    "CDS_features$maxCDS_tx = as.character(CDS_features$maxCDS_tx)\n",
    "                    \n",
    "CDS_features$gene_symbol =  mapIds(org.db, keys = CDS_features$maxCDS_tx, \n",
    "                                   keytype =  \"ACCNUM\", column =  \"SYMBOL\")"
   ]
  },
  {
   "cell_type": "markdown",
   "metadata": {},
   "source": [
    "## 11.2. Calculate intron features for the transcript with longest CDS of each gene"
   ]
  },
  {
   "cell_type": "code",
   "execution_count": 39,
   "metadata": {},
   "outputs": [],
   "source": [
    "# Calculate features of introns of the longest CDS transcript\n",
    "options(echo = F)\n",
    "options(warn = -1)\n",
    "\n",
    "introns = intronsByTranscript(txdb, use.names=T)\n",
    "\n",
    "introns = introns[names(introns) %in% CDS_features$maxCDS_tx]\n",
    "\n",
    "intron_sizes = lapply(introns, function(intron) width(intron))\n",
    "\n",
    "intron_features = data.frame(maxCDS_tx = as.character(names(introns)), \n",
    "                             max_intron_size = sapply(intron_sizes, max), \n",
    "                             min_intron_size = sapply(intron_sizes, min),\n",
    "                             total_intron_size = sapply(intron_sizes, sum),\n",
    "                             num_intron = sapply(intron_sizes, \n",
    "                                                 function(sizes) sum(sizes > 0)))\n",
    "                                                 \n",
    "intron_features[intron_features %in% c(Inf, -Inf)] = 0"
   ]
  },
  {
   "cell_type": "markdown",
   "metadata": {},
   "source": [
    "## 11.3. Calculate 5'UTR features for the transcript with longest CDS of each gene"
   ]
  },
  {
   "cell_type": "code",
   "execution_count": 40,
   "metadata": {},
   "outputs": [],
   "source": [
    "# Calculation features of 5'UTRs of the longest CDS transcript\n",
    "UTR5 = fiveUTRsByTranscript(txdb, use.names=T) \n",
    "UTR5 = UTR5[names(UTR5) %in% CDS_features$maxCDS_tx]\n",
    "\n",
    "UTR5_seq = getSeq(eval(parse(text = BSspec)), UTR5)\n",
    "UTR5_seq = lapply(UTR5_seq, function(x) unlist(x))\n",
    "UTR5_seq = DNAStringSet(UTR5_seq)\n",
    "                  \n",
    "base_fraction = alphabetFrequency(UTR5_seq, baseOnly=T, as.prob=T)\n",
    "\n",
    "UTR5_features = data.frame(maxCDS_tx = names(UTR5), \n",
    "                           UTR5_size = sapply(UTR5, function(UTR5) sum(width(UTR5))), \n",
    "                           UTR5_GC = base_fraction[, \"C\"] + base_fraction[, \"G\"])\n",
    "                           \n",
    "UTR5_features$maxCDS_tx = as.character(UTR5_features$maxCDS_tx)"
   ]
  },
  {
   "cell_type": "code",
   "execution_count": 42,
   "metadata": {},
   "outputs": [],
   "source": [
    "findPotentialStartsAndStops <- function(sequence){\n",
    "  library(\"Biostrings\")\n",
    "  # Define a vector with the sequences of potential start and stop codons\n",
    "  codons <- c(\"ATG\", \"TAA\", \"TAG\", \"TGA\")\n",
    "  sequence = toupper(sequence)\n",
    "  # Find the number of occurrences of each type of potential start or stop codon\n",
    "  for(i in 1:4){\n",
    "    codon <- codons[i]\n",
    "    # Find all occurrences of codon \"codon\" in sequence \"sequence\"\n",
    "    occurrences <- matchPattern(codon, sequence)\n",
    "    # Find the start positions of all occurrences of \"codon\" in sequence \"sequence\"\n",
    "    codonpositions <- start(occurrences)\n",
    "    # Find the total number of potential start and stop codons in sequence \"sequence\"\n",
    "    numoccurrences <- length(codonpositions)\n",
    "    if (i == 1){\n",
    "      # Make a copy of vector \"codonpositions\" called \"positions\"\n",
    "      positions <- codonpositions\n",
    "      # Make a vector \"types\" containing \"numoccurrences\" copies of \"codon\"\n",
    "      types <- rep(codon, numoccurrences)\n",
    "    }else{\n",
    "      # Add the vector \"codonpositions\" to the end of vector \"positions\":\n",
    "      positions   <- append(positions, codonpositions, after=length(positions))\n",
    "      # Add the vector \"rep(codon, numoccurrences)\" to the end of vector \"types\":\n",
    "      types       <- append(types, rep(codon, numoccurrences), after=length(types))\n",
    "    }\n",
    "  }\n",
    "  # Sort the vectors \"positions\" and \"types\" in order of position along the input sequence:\n",
    "  indices <- order(positions)\n",
    "  positions <- positions[indices]\n",
    "  types <- types[indices]\n",
    "  # Return a list variable including vectors \"positions\" and \"types\":\n",
    "  mylist <- list(positions,types)\n",
    "  return(mylist)\n",
    "}\n",
    "# s1 <- \"aaaatgcagtaacccatgccc\"\n",
    "# findPotentialStartsAndStops(s1)"
   ]
  },
  {
   "cell_type": "code",
   "execution_count": 43,
   "metadata": {},
   "outputs": [
    {
     "data": {
      "text/html": [
       "<dl>\n",
       "\t<dt>$starts</dt>\n",
       "\t\t<dd>4</dd>\n",
       "\t<dt>$ends</dt>\n",
       "\t\t<dd>12</dd>\n",
       "\t<dt>$lengths</dt>\n",
       "\t\t<dd>9</dd>\n",
       "</dl>\n"
      ],
      "text/latex": [
       "\\begin{description}\n",
       "\\item[\\$starts] 4\n",
       "\\item[\\$ends] 12\n",
       "\\item[\\$lengths] 9\n",
       "\\end{description}\n"
      ],
      "text/markdown": [
       "$starts\n",
       ":   4\n",
       "$ends\n",
       ":   12\n",
       "$lengths\n",
       ":   9\n",
       "\n",
       "\n"
      ],
      "text/plain": [
       "$starts\n",
       "[1] 4\n",
       "\n",
       "$ends\n",
       "[1] 12\n",
       "\n",
       "$lengths\n",
       "[1] 9\n"
      ]
     },
     "metadata": {},
     "output_type": "display_data"
    }
   ],
   "source": [
    "findORFsinSeq <- function(sequence){\n",
    "  require(Biostrings)\n",
    "  # Make vectors \"positions\" and \"types\" containing information on the positions of ATGs in the sequence:\n",
    "  mylist <- findPotentialStartsAndStops(sequence)\n",
    "  positions <- mylist[[1]]\n",
    "  types <- mylist[[2]]\n",
    "  # Make vectors \"orfstarts\" and \"orfstops\" to store the predicted start and stop codons of ORFs\n",
    "  orfstarts <- numeric()\n",
    "  orfstops <- numeric()\n",
    "  # Make a vector \"orflengths\" to store the lengths of the ORFs\n",
    "  orflengths <- numeric()\n",
    "  # Print out the positions of ORFs in the sequence:\n",
    "  # Find the length of vector \"positions\"\n",
    "  numpositions <- length(positions)\n",
    "  # There must be at least one start codon and one stop codon to have an ORF.\n",
    "  if (numpositions >= 2){\n",
    "    for (i in 1:(numpositions-1)){\n",
    "      posi <- positions[i]\n",
    "      typei <- types[i]\n",
    "      found <- 0\n",
    "      while (found == 0){\n",
    "        for (j in (i+1):numpositions){\n",
    "          posj  <- positions[j]\n",
    "          typej <- types[j]\n",
    "          posdiff <- posj - posi\n",
    "          posdiffmod3 <- posdiff %% 3\n",
    "          # Add in the length of the stop codon\n",
    "          orflength <- posj - posi + 3\n",
    "          if (typei == \"ATG\" && (typej == \"TAA\" || typej == \"TAG\" || typej == \"TGA\") && posdiffmod3 == 0){\n",
    "            # Check if we have already used the stop codon at posj+2 in an ORF\n",
    "            numorfs <- length(orfstops)\n",
    "            usedstop <- -1\n",
    "            if (numorfs > 0){\n",
    "              for (k in 1:numorfs){\n",
    "                orfstopk <- orfstops[k]\n",
    "                if (orfstopk == (posj + 2)) { usedstop <- 1 }\n",
    "              }\n",
    "            }\n",
    "            if (usedstop == -1){\n",
    "              orfstarts <- append(orfstarts, posi, after=length(orfstarts))\n",
    "              orfstops <- append(orfstops, posj+2, after=length(orfstops)) # Including the stop codon.\n",
    "              orflengths <- append(orflengths, orflength, after=length(orflengths))\n",
    "            }\n",
    "            found <- 1\n",
    "            break\n",
    "          }\n",
    "          if (j == numpositions) { found <- 1 }\n",
    "        }\n",
    "      }\n",
    "    }\n",
    "  }\n",
    "  # Sort the final ORFs by start position:\n",
    "  indices <- order(orfstarts)\n",
    "  orfstarts <- orfstarts[indices]\n",
    "  orfstops <- orfstops[indices]\n",
    "  # Find the lengths of the ORFs that we have\n",
    "  orflengths <- numeric()\n",
    "  numorfs <- length(orfstarts)\n",
    "  for (i in 1:numorfs)\n",
    "  {\n",
    "    orfstart <- orfstarts[i]\n",
    "    orfstop <- orfstops[i]\n",
    "    orflength <- orfstop - orfstart + 1\n",
    "    orflengths <- append(orflengths,orflength,after=length(orflengths))\n",
    "  }\n",
    "  mylist <- list(orfstarts, orfstops, orflengths)\n",
    "  names(mylist) = c(\"starts\", \"ends\", \"lengths\")\n",
    "  return(mylist)\n",
    "}\n",
    "s1 <- \"aaaatgcagtaacccatgccc\"\n",
    "findORFsinSeq(s1)"
   ]
  },
  {
   "cell_type": "code",
   "execution_count": 44,
   "metadata": {},
   "outputs": [],
   "source": [
    "# Predict uORF in 5'UTRs\n",
    "orf_count = data.frame(gene_symbol = names(UTR5_seq), uORF = 0)\n",
    "\n",
    "for(gene in names(UTR5_seq)){\n",
    "  orf = findORFsinSeq(unlist(UTR5_seq[[gene]]))\n",
    "  if(sum(orf[[\"lengths\"]] > 30, na.rm = T)){\n",
    "    orf_count[orf_count$gene_symbol == gene, \"uORF\"] = sum(orf[[\"lengths\"]] > 30)\n",
    "  }\n",
    "}\n",
    "\n",
    "uORF = orf_count$uORF\n",
    "names(uORF) = orf_count$gene_symbol\n",
    "\n",
    "pA$uORF = uORF[pA$gene_symbol]"
   ]
  },
  {
   "cell_type": "markdown",
   "metadata": {},
   "source": [
    "## 11.4. Calculate ncRNA features"
   ]
  },
  {
   "cell_type": "code",
   "execution_count": 45,
   "metadata": {},
   "outputs": [],
   "source": [
    "# Calculate ncRNA features\n",
    "ncRNA_seq = getSeq(eval(parse(text=BSgeno)), ncTx)\n",
    "ncRNA_seq = lapply(ncRNA_seq, function(x) unlist(x))\n",
    "ncRNA_seq = DNAStringSet(ncRNA_seq)\n",
    "base_fraction = alphabetFrequency(ncRNA_seq, baseOnly=T, as.prob=T)\n",
    "ncRNA_features = data.frame(gene_symbol = names(ncRNA_seq), \n",
    "                            ncRNA_size = width(ncRNA_seq), \n",
    "                            ncRNA_GC = base_fraction[, \"C\"] + base_fraction[, \"G\"])\n",
    "ncRNA_features$gene_symbol = as.character(ncRNA_features$gene_symbol) \n",
    "                   \n"
   ]
  },
  {
   "cell_type": "markdown",
   "metadata": {},
   "source": [
    "## 11.5. Combine 5'UTR, CDS, intron, and ncRNA features with pA sites in a dataframe"
   ]
  },
  {
   "cell_type": "code",
   "execution_count": 46,
   "metadata": {},
   "outputs": [],
   "source": [
    "#### Add 5'UTR, CDS, intron, and ncRNA features\n",
    "pA.df = cbind(data.frame(chr = seqnames(pA), strand = strand(pA), pA_pos = start(pA)), data.frame(mcols(pA)))\n",
    "pA.df$pAid = with(pA.df, paste0(chr, strand, pA_pos))\n",
    "\n",
    "utr3 = pA.df %>%\n",
    "  dplyr::filter(region == \"3UTR\") %>%\n",
    "  left_join(CDS_features, by = \"gene_symbol\") %>%\n",
    "  left_join(UTR5_features, by = \"maxCDS_tx\") %>%\n",
    "  left_join(intron_features, by = \"maxCDS_tx\") \n",
    "\n",
    "other = pA.df %>%\n",
    "  dplyr::filter(region != \"3UTR\") %>%\n",
    "  left_join(ncRNA_features, by = \"gene_symbol\")\n",
    "  \n",
    "pA.df = bind_rows(utr3, other)\n",
    "\n",
    "pA.df[pA.df$region == \"ncRNA\", ]$tx_size = pA.df[pA.df$region == \"ncRNA\", ]$ncRNA_size \n",
    "\n",
    "rm(txDb)\n",
    "rm(CDS_features)\n",
    "rm(intron_features)\n",
    "rm(UTR5_features)\n",
    "rm(ncRNA_features)"
   ]
  },
  {
   "cell_type": "markdown",
   "metadata": {},
   "source": [
    "## 12.1. Calculate RPM"
   ]
  },
  {
   "cell_type": "code",
   "execution_count": 47,
   "metadata": {},
   "outputs": [],
   "source": [
    "#### Calculate RPM, using total reads # between 0.5 and 0.95 quantile\n",
    "for(sample_name in sample_names){\n",
    "  all_counts = pA.df[pA.df$gene_symbol != \"Unknown\", sample_name] # only use genic reads\n",
    "  lower_upper = quantile(all_counts, c(0.05, 0.95))\n",
    "  trimmed_counts = all_counts[all_counts >= lower_upper[1] & all_counts <= lower_upper[2]]\n",
    "  pA.df[,paste0(sample_name, \"_rpm\")] = 10^6*pA.df[,sample_name]/sum(trimmed_counts)\n",
    "}"
   ]
  },
  {
   "cell_type": "markdown",
   "metadata": {},
   "source": [
    "## 12.2. Calculate total read number per gene, UA pA sites not included"
   ]
  },
  {
   "cell_type": "code",
   "execution_count": 48,
   "metadata": {},
   "outputs": [],
   "source": [
    "#### Calculate total reads number per gene, without counting pAs in UA \n",
    "num_per_gene = aggregate(pA.df[pA.df$region != \"UA\" & pA.df$region != \"intergenic\", sample_names], \n",
    "                         list(gene_symbol= pA.df[pA.df$region != \"UA\" & pA.df$region != \"intergenic\",]$gene_symbol), sum)\n",
    "names(num_per_gene)[-1] = paste0(names(num_per_gene)[-1], \"_gene\")\n",
    "pA.df = merge(pA.df, num_per_gene, all.x=T, sort = F)\n",
    "rm(num_per_gene)"
   ]
  },
  {
   "cell_type": "markdown",
   "metadata": {},
   "source": [
    "## 12.3. Calculate pA site usage for each gene"
   ]
  },
  {
   "cell_type": "code",
   "execution_count": 52,
   "metadata": {},
   "outputs": [
    {
     "ename": "ERROR",
     "evalue": "Error in x[[jj]][iseq] <- vjj: replacement has length zero\n",
     "output_type": "error",
     "traceback": [
      "Error in x[[jj]][iseq] <- vjj: replacement has length zero\nTraceback:\n",
      "1. `[<-`(`*tmp*`, pA.df$region != \"UA\", paste0(sample_name, \"_usage\"), \n .     value = numeric(0))",
      "2. `[<-.data.frame`(`*tmp*`, pA.df$region != \"UA\", paste0(sample_name, \n .     \"_usage\"), value = numeric(0))"
     ]
    }
   ],
   "source": [
    "#### Calculate pA usage\n",
    "for(sample_name in sample_names){\n",
    "  pA.df[,paste0(sample_name, \"_usage\")] = 0\n",
    "  pA.df[pA.df$region != \"UA\", paste0(sample_name, \"_usage\")] = \n",
    "    100*pA.df[pA.df$region != \"UA\", sample_name]/pA.df[pA.df$region != \"UA\", paste0(sample_name, \"_gene\")]\n",
    "}"
   ]
  },
  {
   "cell_type": "markdown",
   "metadata": {},
   "source": [
    "## 12.4. Calculate total 3'UTR reads per gene"
   ]
  },
  {
   "cell_type": "code",
   "execution_count": 33,
   "metadata": {},
   "outputs": [],
   "source": [
    "#### Calculate total 3'UTR reads per gene\n",
    "num_in_3utr_per_gene = aggregate(pA.df[pA.df$region == \"3UTR\", sample_names], \n",
    "                                 list(gene_symbol= pA.df[pA.df$region == \"3UTR\",]$gene_symbol), sum)\n",
    "names(num_in_3utr_per_gene)[-1] = paste0(names(num_in_3utr_per_gene)[-1], \"_3utr\")\n",
    "pA.df = merge(pA.df, num_in_3utr_per_gene, all.x=T, sort = F)\n",
    "rm(num_in_3utr_per_gene)"
   ]
  },
  {
   "cell_type": "markdown",
   "metadata": {},
   "source": [
    "## 12.5. Calculate total 3'UTR rpms per gene"
   ]
  },
  {
   "cell_type": "code",
   "execution_count": 34,
   "metadata": {},
   "outputs": [],
   "source": [
    "#### Calculate total 3'UTR rpms per gene\n",
    "rpm_in_3utr_per_gene = aggregate(pA.df[pA.df$region == \"3UTR\", paste0(sample_names, \"_rpm\")], \n",
    "                                 list(gene_symbol= pA.df[pA.df$region == \"3UTR\",]$gene_symbol), sum)\n",
    "names(rpm_in_3utr_per_gene)[-1] = paste0(names(rpm_in_3utr_per_gene)[-1], \"_3utr\")\n",
    "pA.df = merge(pA.df, rpm_in_3utr_per_gene, all.x=T, sort = F)\n",
    "rm(rpm_in_3utr_per_gene)\n",
    "# Change column names\n",
    "colnames(pA.df) = sub(\"(_\\\\d+[a-z]?)$\", \"\\\\1_count\", colnames(pA.df))"
   ]
  },
  {
   "cell_type": "markdown",
   "metadata": {},
   "source": [
    "## 13. Filter lowly expressed pAs"
   ]
  },
  {
   "cell_type": "code",
   "execution_count": 35,
   "metadata": {},
   "outputs": [],
   "source": [
    "#### Filter lowly expressed pAs\n",
    "if(exists(\"filter_strength\")){\n",
    "  if(filter_strength < 0 | filter_strength > 1){\n",
    "    stop(\"filter_strength must be between 0 and 1.\")\n",
    "  }\n",
    "}else{\n",
    "  filter_strength = 1/2 # between 0 and 1, bigger filter_strength means more stringent filtering\n",
    "}\n",
    "filter1 = rowSums(pA.df[,grepl(\"_usage$\", names(pA.df))] >= lowest_usage, na.rm = T) >= length(sample_names)*filter_strength\n",
    "filter2 = rowSums(pA.df[,grepl(\"_rpm$\", names(pA.df))] >= lowest_rpm, na.rm = T) >= length(sample_names)*filter_strength\n",
    "filter3 = rowSums(pA.df[,grepl(\"_count$\", names(pA.df))] >= lowest_count, na.rm = T) >= length(sample_names)*filter_strength\n",
    "# Keep pAs in other genic regions (outside of 3'UTRs)\n",
    "filter4 = pA.df$region != \"3UTR\"\n",
    "pA.df = pA.df[(filter1 & filter2 & filter3)|filter4,]\n",
    "if(exists(\"filter_by_conservation\") && filter_by_conservation){\n",
    "  pA.df = subset(pA.df, !is.na(conserveLV) & conserveLV != \"C\")\n",
    "}"
   ]
  },
  {
   "cell_type": "code",
   "execution_count": 51,
   "metadata": {},
   "outputs": [],
   "source": [
    "#### Calculate genewise RPM\n",
    "\n",
    "# Change column names\n",
    "colnames(pA.df) = sub(\"(_\\\\d+[a-z]?)$\", \"\\\\1_count\", colnames(pA.df))\n",
    "\n",
    "for(samplename in sample_names){\n",
    "  all_counts = pA.df[, paste0(samplename, \"_count\")]\n",
    "  lower_upper = quantile(all_counts, c(0.05, 0.95))\n",
    "  trimmed_counts = all_counts[all_counts >= lower_upper[1] & all_counts <= lower_upper[2]]\n",
    "  pA.df[, paste0(\"Gene_RPM_\", samplename)] = 10^6 * pA.df[, paste0(samplename, \"_gene\")]/sum(trimmed_counts)\n",
    "}"
   ]
  },
  {
   "cell_type": "markdown",
   "metadata": {},
   "source": [
    "## 14. Calculate exonic 3'UTR sequence and length"
   ]
  },
  {
   "cell_type": "code",
   "execution_count": 36,
   "metadata": {},
   "outputs": [],
   "source": [
    "#### Calculate exonic 3'UTR sequence/length\n",
    "# Two columns (exonic_3UTR_seq, UTR_length) will be appended to df. The columns may contain NA.\n",
    "# This step was done after the filtering for speed\n",
    "pA.df = get_exonic_3UTR(df = pA.df, threeUTRs = threeUTRs, geno = GENOME)\n",
    "tx_size = pA.df[, c(\"UTR5_size\", \"CDS_size\", \"UTR_length\")]\n",
    "tx_size[tx_size == -1] = 0\n",
    "tx_size[is.na(tx_size)] = 0\n",
    "pA.df$tx_size = rowSums(tx_size)\n",
    "rm(tx_size)"
   ]
  },
  {
   "cell_type": "markdown",
   "metadata": {},
   "source": [
    "## 15. Calculate pA_type"
   ]
  },
  {
   "cell_type": "code",
   "execution_count": 37,
   "metadata": {},
   "outputs": [],
   "source": [
    "#### Calculate pA_type\n",
    "pA.df$pA_type = ifelse(pA.df$region %in% c(\"intron\", \"3UTR|intron\", \"3UTR|intron|CDS\", \"intron|5UTR\", \"intron|CDS\", \"intron|CDS|5UTR\"), \n",
    "                       \"I\", \n",
    "                       ifelse(pA.df$region %in% c(\"5UTR\", \"CDS\", \"CDS|5UTR\"), \n",
    "                              \"E\", \n",
    "                              ifelse(pA.df$region == \"UA\",\n",
    "                                     \"UA\",\n",
    "                                     ifelse(pA.df$region == \"intergenic\",\n",
    "                                            \"Intergenic\",\n",
    "                                            \"SFML\")))) # ncRNA may also have SFML types\n",
    "pA.df$pA_type[table(pA.df$gene_symbol)[pA.df$gene_symbol] == 1 & pA.df$pA_type == \"SFML\"] = \"S\"\n",
    "pA.df$signed_pA_pos = pA.df$pA_pos * ifelse(pA.df$strand == \"+\", 1, -1)\n",
    "tmp = filter(pA.df, pA_type == \"SFML\") %>%\n",
    "  group_by(gene_symbol) %>%\n",
    "  mutate(percrank=percent_rank(signed_pA_pos))\n",
    "tmp$pA_type = ifelse(tmp$percrank == 0, \"F\", \n",
    "                     ifelse(tmp$percrank == 1, \"L\", \"M\"))\n",
    "pA.df = rbind(pA.df[pA.df$pA_type != \"SFML\",], as.data.frame(tmp[, -grep(\"percrank\", names(tmp))]))\n",
    "pA.df %<>% group_by(gene_symbol) %>%\n",
    "  arrange(signed_pA_pos)\n",
    "rm(tmp)\n",
    "pA.df = as.data.frame(pA.df)\n",
    "\n",
    "\n",
    "#### Set the \"region\" of intergenic pAs on mitochondria to \"chrM\"\n",
    "pA.df[pA.df$pA_type == \"Intergenic\" & pA.df$chr == \"chrM\", ]$pA_type = \"chrM\""
   ]
  },
  {
   "cell_type": "markdown",
   "metadata": {},
   "source": [
    "## 16. Calculate PAS using the 40 nt sequence upstream of pA"
   ]
  },
  {
   "cell_type": "code",
   "execution_count": 39,
   "metadata": {},
   "outputs": [],
   "source": [
    "#### Calculate PAS using the 40 nt sequence upstream of pA\n",
    "motifcounts = countAllMotif(pA.df, geno = GENOME, search_from = 0, search_len = 40, motif_width = 6)\n",
    "motifcounts = motifcounts[, colnames(motifcounts) %in% c(\"AATAAA\",\"ATTAAA\", \n",
    "                            \"AGTAAA\", \"TATAAA\", \"CATAAA\", \"GATAAA\", \"AATATA\", \"AATACA\", \"AATAGA\", \"AAAAAG\",\n",
    "                            \"ACTAAA\", \"AAAAAA\")]\n",
    "PAScounts = cbind(motifcounts[, c(\"AATAAA\",\"ATTAAA\")], \n",
    "                  OtherPAS = rowSums(motifcounts[, c(\"AGTAAA\", \"TATAAA\", \"CATAAA\", \"GATAAA\", \n",
    "                                                  \"AATATA\", \"AATACA\", \"AATAGA\", \"AAAAAG\",\n",
    "                                                  \"ACTAAA\")]),\n",
    "                  Arich = motifcounts[, \"AAAAAA\"])\n",
    "PAScounts = as.data.frame(PAScounts)\n",
    "pA.df$PAS = ifelse(PAScounts$AATAAA > 0, \"AATAAA\", \n",
    "                   ifelse(PAScounts$ATTAAA > 0, \"ATTAAA\",\n",
    "                          ifelse(PAScounts$OtherPAS > 0, \"OtherPAS\",\n",
    "                                 ifelse(PAScounts$Arich > 0, \"Arich\", \"NoPAS\"))))\n",
    "rm(motifcounts)\n",
    "rm(PAScounts)"
   ]
  },
  {
   "cell_type": "markdown",
   "metadata": {},
   "source": [
    "## 17. Calculate number of pAs per gene"
   ]
  },
  {
   "cell_type": "code",
   "execution_count": 41,
   "metadata": {},
   "outputs": [],
   "source": [
    "#### Calculate number of pAs per gene\n",
    "Num_pA = as.data.frame(table(pA.df$gene_symbol[pA.df$gene_symbol != \"Unknown\"]))\n",
    "names(Num_pA) = c(\"gene_symbol\", \"Num_pA\")\n",
    "pA.df = merge(pA.df, Num_pA, by = \"gene_symbol\", all.x = T, sort=F)\n",
    "rm(Num_pA)"
   ]
  },
  {
   "cell_type": "markdown",
   "metadata": {},
   "source": [
    "## 18. Calculate distance between pA site and TSS"
   ]
  },
  {
   "cell_type": "code",
   "execution_count": 42,
   "metadata": {},
   "outputs": [],
   "source": [
    "#### Calculate distance between pA site and TSS\n",
    "pA.df$distance_to_tss = abs(pA.df$pA_pos - pA.df$tss_position)\n",
    "pA.df$distance_to_tss = ifelse(pA.df$region == \"UA\", -1*pA.df$distance_to_tss, pA.df$distance_to_tss)"
   ]
  },
  {
   "cell_type": "markdown",
   "metadata": {},
   "source": [
    "## 19. Add gene_symbol and gene_id"
   ]
  },
  {
   "cell_type": "code",
   "execution_count": 43,
   "metadata": {},
   "outputs": [
    {
     "name": "stderr",
     "output_type": "stream",
     "text": [
      "'select()' returned 1:many mapping between keys and columns\n",
      "'select()' returned 1:1 mapping between keys and columns\n"
     ]
    }
   ],
   "source": [
    "#### Add gene_symbol and gene_id using org.x.db\n",
    "pA.df$gene_id = as.numeric(mapIds(org.db, keys = pA.df$gene_symbol, keytype =  \"SYMBOL\", column =  \"ENTREZID\"))\n",
    "pA.df$description = mapIds(org.db, keys = pA.df$gene_symbol, keytype =  \"SYMBOL\", column =  \"GENENAME\")"
   ]
  },
  {
   "cell_type": "code",
   "execution_count": null,
   "metadata": {},
   "outputs": [],
   "source": []
  },
  {
   "cell_type": "code",
   "execution_count": null,
   "metadata": {},
   "outputs": [],
   "source": []
  },
  {
   "cell_type": "code",
   "execution_count": null,
   "metadata": {},
   "outputs": [],
   "source": []
  }
 ],
 "metadata": {
  "kernelspec": {
   "display_name": "R",
   "language": "R",
   "name": "ir"
  },
  "language_info": {
   "codemirror_mode": "r",
   "file_extension": ".r",
   "mimetype": "text/x-r-source",
   "name": "R",
   "pygments_lexer": "r",
   "version": "3.6.1"
  },
  "toc": {
   "nav_menu": {},
   "number_sections": true,
   "sideBar": true,
   "skip_h1_title": false,
   "toc_cell": false,
   "toc_position": {},
   "toc_section_display": "block",
   "toc_window_display": false
  },
  "varInspector": {
   "cols": {
    "lenName": 16,
    "lenType": 16,
    "lenVar": 40
   },
   "kernels_config": {
    "python": {
     "delete_cmd_postfix": "",
     "delete_cmd_prefix": "del ",
     "library": "var_list.py",
     "varRefreshCmd": "print(var_dic_list())"
    },
    "r": {
     "delete_cmd_postfix": ") ",
     "delete_cmd_prefix": "rm(",
     "library": "var_list.r",
     "varRefreshCmd": "cat(var_dic_list()) "
    }
   },
   "types_to_exclude": [
    "module",
    "function",
    "builtin_function_or_method",
    "instance",
    "_Feature"
   ],
   "window_display": false
  }
 },
 "nbformat": 4,
 "nbformat_minor": 4
}
