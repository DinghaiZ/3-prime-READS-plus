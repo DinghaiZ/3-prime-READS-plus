{
 "cells": [
  {
   "cell_type": "markdown",
   "metadata": {
    "ExecuteTime": {
     "end_time": "2019-06-25T12:17:10.905438Z",
     "start_time": "2019-06-25T12:17:10.881Z"
    }
   },
   "source": [
    "**This notebook is the PHASE 2 of the 3'READS+ pipeline, which will do the following:**\n",
    "1. Update Refseq 3'UTR definition using polyA_DB3\n",
    "2. Assign pA clusters identified in PHASE 1 to genomic features such as TSS upstream antisense regions, 5'UTRs, CDSs, introns, and 3'UTRs\n",
    "3. Plot distribution of genomic features in each sample\n",
    "4. APA (alternative polyadenylation) analysis\n",
    "5. DE (differential gene expression) analysis\n",
    "6. Automatic qPCR primer design for validation of APA\n",
    "4. Other tasks such as calculating 5'UTR, CDS, and 3'UTR sizes and predicting 5' ORF  \n",
    "\n",
    "**Required softwares**\n",
    " * DZ.misc.R in the modules folder \n",
    " * R packages: foreach, doParallel, ShortRead, Biostrings, dplyr, tidyr, grid, ggplot2, ...\n",
    " * Linux environment\n",
    " \n",
    "**Hardware requirements**\n",
    " * Muticore CPU for parallel computing"
   ]
  },
  {
   "cell_type": "markdown",
   "metadata": {},
   "source": [
    "## Set parameters for Part 2\n",
    "These parameters need to be specified for different projects and experiments. "
   ]
  },
  {
   "cell_type": "code",
   "execution_count": null,
   "metadata": {},
   "outputs": [],
   "source": [
    "PROJECT = 'rip' # Project name\n",
    "\n",
    "EXPERIMENT = 'hur' # Experiment name\n",
    "\n",
    "GENOME = 'mm9' # Genome name, currently either mm9 or hg19\n",
    "\n",
    "ANALYSIS = 'normalize_to_IgG' # Each data set can be analyzed with different parameters\n",
    "#ANALYSIS = 'normalize_to_C' # Each data set can be analyzed with different parameters\n",
    "#ANALYSIS = 'AS_vs_NT' # Each data set can be analyzed with different parameters"
   ]
  },
  {
   "cell_type": "code",
   "execution_count": 4,
   "metadata": {
    "ExecuteTime": {
     "end_time": "2019-06-25T13:18:55.110083Z",
     "start_time": "2019-06-25T13:18:55.083Z"
    }
   },
   "outputs": [
    {
     "ename": "ERROR",
     "evalue": "Error in eval(expr, envir, enclos): object 'ANALYSIS' not found\n",
     "output_type": "error",
     "traceback": [
      "Error in eval(expr, envir, enclos): object 'ANALYSIS' not found\nTraceback:\n"
     ]
    }
   ],
   "source": [
    "if(ANALYSIS == 'normalize_to_IgG'){\n",
    "  # Define which samples to focus on\n",
    "  treatments = c(\"NT\", \"AS\") # Order matters. Earlier ones will be denominators\n",
    "  fractions = c(\"IgG\", \"HuR\") # Order matters. Earlier ones will be denominators \n",
    "  comparisons = c(\"HuR_IgG\") # The type of comparisons you want to make. \"HuR_IgG\": HuR vs IgG\n",
    "  \n",
    "  # Set up dirs\n",
    "  data_dir = paste0(\"../../data/\", experiment)\n",
    "  result_dir = paste0(\"../../results/\", experiment,\"/\", setting)\n",
    "  system(paste0(\"mkdir \", result_dir))\n",
    "    \n",
    "  uPASS = F # Use unique PASS reads for analysis?\n",
    "  if(uPASS){\n",
    "    cluster_file = paste0('../../results/', experiment, '/clusters.using.unique.reads.csv')\n",
    "    lowest_count = 2\n",
    "    filter_strength = 0.5\n",
    "  }else{\n",
    "    cluster_file = paste0('../../results/', experiment, '/clusters.using.all.reads.csv')\n",
    "    lowest_count = 5\n",
    "    filter_strength = 0.5\n",
    "  }\n",
    "    \n",
    "  # Settings for filtering low expression pAs \n",
    "  min_cluster_read_num = 2 # minimal reads number per cluster in the cluster file\n",
    "  lowest_usage = 0 # 5% \n",
    "  lowest_rpm = 0\n",
    "  USE_PSEUDOCOUNTS = F\n",
    "  \n",
    "  # Settings for identifying aUTRs\n",
    "  neighbor = F # Do not calculate aUTRs for each neighboring isoforms\n",
    "  toptwo = T # Pick top two isoforms for each gene\n",
    "  \n",
    "  # How to calculate 3'UTR length\n",
    "  quick_UTR_length = F  # If true, the UTR length will be calculated more accurately but slower\n",
    "}\n",
    "\n",
    "if(ANALYSIS == 'normalize_to_C'){\n",
    "  # Define which samples to focus on\n",
    "  treatments = c(\"NT\", \"AS\") # Order matters. Earlier ones will be denominators\n",
    "  fractions = c(\"C\", \"IgG\", \"HuR\") # Order matters. Earlier ones will be denominators \n",
    "  comparisons = c(\"IgG_C\", \"HuR_C\") # The type of comparisons you want to make. \"HuR_IgG\": HuR vs IgG\n",
    "  \n",
    "  # Set up dirs\n",
    "  data_dir = paste0(\"../../data/\", experiment)\n",
    "  result_dir = paste0(\"../../results/\", experiment,\"/\", setting)\n",
    "  system(paste0(\"mkdir \", result_dir))\n",
    "    \n",
    "  uPASS = F # Use unique PASS reads for analysis?\n",
    "  if(uPASS){\n",
    "    cluster_file = paste0('../../results/', experiment, '/clusters.using.unique.reads.csv')\n",
    "    lowest_count = 2\n",
    "    filter_strength = 0.5\n",
    "  }else{\n",
    "    cluster_file = paste0('../../results/', experiment, '/clusters.using.all.reads.csv')\n",
    "    lowest_count = 5\n",
    "    filter_strength = 0.5\n",
    "  }\n",
    "    \n",
    "  # Settings for filtering low expression pAs \n",
    "  min_cluster_read_num = 2 # minimal reads number per cluster in the cluster file\n",
    "  lowest_usage = 0 # 5% \n",
    "  lowest_rpm = 0\n",
    "  USE_PSEUDOCOUNTS = F\n",
    "  \n",
    "  # Settings for identifying aUTRs\n",
    "  neighbor = F # Do not calculate aUTRs for each neighboring isoforms\n",
    "  toptwo = T # Pick top two isoforms for each gene\n",
    "  \n",
    "  # How to calculate 3'UTR length\n",
    "  quick_UTR_length = F  # If true, the UTR length will be calculated more accurately but slower\n",
    "}\n",
    "\n",
    "if(ANALYSIS == 'AS_vs_NT'){\n",
    "  # Define which samples to focus on\n",
    "  treatments = c(\"NT\", \"AS\") # Order matters. Earlier ones will be denominators\n",
    "  fractions = c(\"C\", \"IgG\", \"HuR\") # Order matters. Earlier ones will be denominators \n",
    "  comparisons = c(\"AS_NT\") # The type of comparisons you want to make. \"HuR_IgG\": HuR vs IgG\n",
    "  \n",
    "  # Set up dirs\n",
    "  data_dir = paste0(\"../../data/\", experiment)\n",
    "  result_dir = paste0(\"../../results/\", experiment,\"/\", setting)\n",
    "  system(paste0(\"mkdir \", result_dir))\n",
    "    \n",
    "  uPASS = F # Use unique PASS reads for analysis?\n",
    "  if(uPASS){\n",
    "    cluster_file = paste0('../../results/', experiment, '/clusters.using.unique.reads.csv')\n",
    "    lowest_count = 2\n",
    "    filter_strength = 0.5\n",
    "  }else{\n",
    "    cluster_file = paste0('../../results/', experiment, '/clusters.using.all.reads.csv')\n",
    "    lowest_count = 5\n",
    "    filter_strength = 0.5\n",
    "  }\n",
    "    \n",
    "  # Settings for filtering low expression pAs \n",
    "  min_cluster_read_num = 2 # minimal reads number per cluster in the cluster file\n",
    "  lowest_usage = 0 # 5% \n",
    "  lowest_rpm = 0\n",
    "  USE_PSEUDOCOUNTS = F\n",
    "  \n",
    "  # Settings for identifying aUTRs\n",
    "  neighbor = F # Do not calculate aUTRs for each neighboring isoforms\n",
    "  toptwo = T # Pick top two isoforms for each gene\n",
    "  \n",
    "  # How to calculate 3'UTR length\n",
    "  quick_UTR_length = F  # If true, the UTR length will be calculated more accurately but slower\n",
    "}\n",
    "\n",
    "\n",
    "header = strsplit(readLines(cluster_file, n=1), \",\")[[1]]\n",
    "sample_names = grep(paste0(\"(\", paste0(treatments,collapse=\"|\"), \")_(\", paste0(fractions,collapse=\"|\"), \")_\\\\d+\"), header[-c(1:3)], value=T)\n",
    "\n",
    "# Calculate batch numbers\n",
    "batches = unique(sub(\".+_(\\\\d+.?)$\", \"\\\\1\", sample_names)) "
   ]
  },
  {
   "cell_type": "code",
   "execution_count": 3,
   "metadata": {
    "ExecuteTime": {
     "end_time": "2019-06-25T12:48:31.790571Z",
     "start_time": "2019-06-25T12:48:31.765Z"
    }
   },
   "outputs": [],
   "source": [
    "oldw = getOption(\"warn\")\n",
    "options(warn = -1)\n",
    "\n",
    "require(ggplot2)\n",
    "require(gplots)\n",
    "require(GGally)\n",
    "require(\"org.Hs.eg.db\")\n",
    "library(GenomicFeatures)\n",
    "require(\"BSgenome.Hsapiens.UCSC.hg19\") \n",
    "\n",
    "options(warn = oldw)"
   ]
  }
 ],
 "metadata": {
  "kernelspec": {
   "display_name": "R",
   "language": "R",
   "name": "ir"
  },
  "language_info": {
   "codemirror_mode": "r",
   "file_extension": ".r",
   "mimetype": "text/x-r-source",
   "name": "R",
   "pygments_lexer": "r",
   "version": "3.6.1"
  },
  "toc": {
   "nav_menu": {},
   "number_sections": true,
   "sideBar": true,
   "skip_h1_title": false,
   "toc_cell": false,
   "toc_position": {},
   "toc_section_display": "block",
   "toc_window_display": false
  },
  "varInspector": {
   "cols": {
    "lenName": 16,
    "lenType": 16,
    "lenVar": 40
   },
   "kernels_config": {
    "python": {
     "delete_cmd_postfix": "",
     "delete_cmd_prefix": "del ",
     "library": "var_list.py",
     "varRefreshCmd": "print(var_dic_list())"
    },
    "r": {
     "delete_cmd_postfix": ") ",
     "delete_cmd_prefix": "rm(",
     "library": "var_list.r",
     "varRefreshCmd": "cat(var_dic_list()) "
    }
   },
   "types_to_exclude": [
    "module",
    "function",
    "builtin_function_or_method",
    "instance",
    "_Feature"
   ],
   "window_display": false
  }
 },
 "nbformat": 4,
 "nbformat_minor": 2
}
