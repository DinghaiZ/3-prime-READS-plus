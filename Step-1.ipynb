{
 "cells": [
  {
   "cell_type": "markdown",
   "metadata": {},
   "source": [
    "This notebook is the step 1 of 3'READS+ pipeline. It will search, download, merge, and QC fastq files, trim 3' adapter, **trim 5' Ts while recording information about the trimmed sequences**, map the trimmed reads to the genome, **identify PASS reads and unique PASS reads** using recorded information from the 5'T trimming step, **cluster neighboring PASS reads** in the genome to define poly(A) sites, and **create genome browser tracks for both PASS and nonPASS reads**. Most of the computation intensive steps are done by parallel computing.\n",
    "\n",
    "**Required softwares**\n",
    " * PASS.py and FastqQC.R in the modules folder \n",
    " * cutadapt, STAR, samtools, genomeCoverageBed, bedGraphToBigWig in your system's PATH\n",
    " * Python packages: rpy2, time, warnings, sys, os, re, pathlib, suprocess, collections, itertools, numpy, pandas, seaborn, multiprocessing, webbrowser\n",
    " * R packages: foreach, doParallel, ShortRead, Biostrings, dplyr, tidyr, grid, ggplot2\n",
    " * Linux environment\n",
    " \n",
    "**Hardware requirements**\n",
    " * At least 48G RAM for fast mapping of the reads using STAR. \n",
    " * Muticore CPU for parallel computing"
   ]
  },
  {
   "cell_type": "markdown",
   "metadata": {},
   "source": [
    "## Load packages an settings for this notebook\n",
    "Please note that more required packages are loaded when importing PASS.py, a custom module for processing 3'READS+ data."
   ]
  },
  {
   "cell_type": "code",
   "execution_count": 2,
   "metadata": {
    "ExecuteTime": {
     "end_time": "2019-03-24T23:27:07.894403Z",
     "start_time": "2019-03-24T23:27:07.107305Z"
    },
    "scrolled": true
   },
   "outputs": [],
   "source": [
    "%load_ext rpy2.ipython \n",
    "%load_ext autoreload\n",
    "%autoreload 2\n",
    "%matplotlib inline\n",
    "\n",
    "import rpy2.robjects.numpy2ri as n2r\n",
    "from time import sleep\n",
    "import warnings\n",
    "warnings.filterwarnings('ignore')\n",
    "import sys\n",
    "sys.path.append('/home/dinghai/dev/3-prime-READS-plus/modules')\n",
    "from PASS import *"
   ]
  },
  {
   "cell_type": "markdown",
   "metadata": {},
   "source": [
    "## Set parameters specific to this project and experiment\n",
    "These parameters need to be specified for different projects and experiments. The format of SAMPLE_DESCRIPTION_FILE will be shown later. "
   ]
  },
  {
   "cell_type": "code",
   "execution_count": 2,
   "metadata": {
    "ExecuteTime": {
     "end_time": "2019-03-24T17:34:28.406805Z",
     "start_time": "2019-03-24T17:34:28.387061Z"
    }
   },
   "outputs": [],
   "source": [
    "PROJECT = 'ER' # Project name\n",
    "\n",
    "EXPERIMENT = '160411_C2C12_Dif' # Experiment name\n",
    "\n",
    "GENOME = 'mm9' # Genome name, either mm9 or hg19\n",
    "\n",
    "SEQUENCER = 'nextseq' # Either \"hiseq\" or \"nextseq\"\n",
    "\n",
    "SAMPLE_DESCRIPTION_FILE = 'sample_description.csv' # Sample discription file.\n",
    "    \n",
    "FASTQ_QC_PLOT_NUM_COLUMNS = 4  # Number of columns for fastq QC plots\n",
    "\n",
    "SAVE_SPACE = True # To save space, delete intermediate files asap.    \n",
    "\n",
    "SPIKE_IN = None # None if no spike-in, or a 4-charactor string for identifying spike-in RNA. \n",
    "# SPIKE_IN = 'ychr' # yeast RNA spike-in if yeast chromosomes are named as 'ychr*' in the genome index files\n",
    "\n",
    "DATA_SOURCE = 'internal_warehouse' # Either 'internal_warehouse' or 'local'"
   ]
  },
  {
   "cell_type": "markdown",
   "metadata": {},
   "source": [
    "## Set general parameters\n",
    "The following parameters are usually set once before running the notebook the first time and can be reused for different experiments. "
   ]
  },
  {
   "cell_type": "code",
   "execution_count": 3,
   "metadata": {
    "ExecuteTime": {
     "end_time": "2019-03-24T17:34:29.608033Z",
     "start_time": "2019-03-24T17:34:29.557675Z"
    }
   },
   "outputs": [],
   "source": [
    "# Configurations for data source\n",
    "if DATA_SOURCE == 'internal_warehouse':\n",
    "    WAREHOUSE_USER = 'zhengdh'\n",
    "    WAREHOUSE_SERVER = 'intron.njms.rutgers.edu'\n",
    "elif DATA_SOURCE == 'basespace':\n",
    "    BASESPACE_PROJECT = ''\n",
    "    BASESPACE_TOKEN = ''\n",
    "elif DATA_SOURCE == 'local':\n",
    "    LOCAL_DATA_SOURCE = '/home/dinghai/dev/3-prime-READS-plus/tests/data'\n",
    "    assert Path(LOCAL_DATA_SOURCE).exists()\n",
    "\n",
    "\n",
    "# Configurations for read alignment    \n",
    "# Directory containing index files for different genomes\n",
    "GENOME_INDEX_DIR = '/home/dinghai/projects/fud/star_index'\n",
    "# Specific genome index for STAR\n",
    "genome_index = Path(GENOME_INDEX_DIR)/GENOME\n",
    "# Directory containing fasta files for different genomes\n",
    "GENOME_FASTA_DIR = '/home/dinghai/projects/fud/ucsc/genomes' \n",
    "# Specific genome sequence in fasta format for identifying PASS reads\n",
    "genome_dir = Path(GENOME_FASTA_DIR)/GENOME\n",
    "assert genome_index.exists(), f\"Please make sure the following genome index folder exists: {str(genome_index)}\"\n",
    "assert genome_dir.exists(), f\"Please make sure the following genome fasta file folder exists: {str(genome_dir)}\"\n",
    "\n",
    "\n",
    "# Configurations for using UCSC genome browser to visualize PASS and nonPASS reads   \n",
    "MAKE_URL = True # Set to True if you have access to an http server.        \n",
    "if MAKE_URL:\n",
    "    HTTP_USER = 'zhengdh'\n",
    "    HTTP_SERVER = 'intron.njms.rutgers.edu'\n",
    "\n",
    "    \n",
    "# Other configurations\n",
    "# Maximum number of processes for parallel computing\n",
    "MAX_WORKERS = 8  \n",
    "# Minimum read lenth after removing 5' adapter\n",
    "CUTADAPT_MINLEN = 25  \n",
    "# Minimum MAPQ score for alignments in sam files\n",
    "MIN_MAPQ = 10  \n",
    "# Sequencing direction relative to mRNA sequence. Either 'reverse' (antisense) or 'forward' (sense).\n",
    "SEQ_DIRECTION = 'reverse' \n",
    "# Maximum distance between clustered reads in the same cluster\n",
    "MAX_DISTANCE = 24 \n",
    "genome_size = f'~/projects/fud/ucsc/genomes/{GENOME}.chrom.sizes'"
   ]
  },
  {
   "cell_type": "markdown",
   "metadata": {},
   "source": [
    "The following lines set up directories for saving data and intermediate results."
   ]
  },
  {
   "cell_type": "code",
   "execution_count": 4,
   "metadata": {
    "ExecuteTime": {
     "end_time": "2019-03-24T17:34:31.194566Z",
     "start_time": "2019-03-24T17:34:31.172635Z"
    }
   },
   "outputs": [],
   "source": [
    "# Project directory\n",
    "project_dir = Path(f'projects/{PROJECT}')\n",
    "# Data directories\n",
    "data_dir = project_dir/'data'/EXPERIMENT\n",
    "rawfastq_dir = data_dir/'rawfastq'\n",
    "fastq_dir = data_dir/'fastq'\n",
    "sam_dir = data_dir/'sam'\n",
    "# Result directory\n",
    "result_dir = project_dir/'result'/EXPERIMENT\n",
    "\n",
    "# Create directories\n",
    "project_dir.mkdir(parents=True, exist_ok=True)\n",
    "data_dir.mkdir(parents=True, exist_ok=True)\n",
    "rawfastq_dir.mkdir(parents=True, exist_ok=True)\n",
    "fastq_dir.mkdir(parents=True, exist_ok=True)\n",
    "sam_dir.mkdir(parents=True, exist_ok=True)\n",
    "result_dir.mkdir(parents=True, exist_ok=True)"
   ]
  },
  {
   "cell_type": "markdown",
   "metadata": {},
   "source": [
    "## Read sample annotation and choose colors for UCSC genome browser tracks\n",
    "The sample description file is a .csv file containing at least the following columns: warehouse_folder_string, fastq_file_string, sample. If the genome_browser_track_color column is present, it must contain integers indicating which samples should have the same color for UCSC genome browser tracks."
   ]
  },
  {
   "cell_type": "code",
   "execution_count": 22,
   "metadata": {
    "ExecuteTime": {
     "end_time": "2019-03-24T19:03:22.320519Z",
     "start_time": "2019-03-24T19:03:22.206323Z"
    },
    "scrolled": false
   },
   "outputs": [
    {
     "name": "stdout",
     "output_type": "stream",
     "text": [
      "\n",
      "Sample description:\n"
     ]
    },
    {
     "data": {
      "text/html": [
       "<div>\n",
       "<style>\n",
       "    .dataframe thead tr:only-child th {\n",
       "        text-align: right;\n",
       "    }\n",
       "\n",
       "    .dataframe thead th {\n",
       "        text-align: left;\n",
       "    }\n",
       "\n",
       "    .dataframe tbody tr th {\n",
       "        vertical-align: top;\n",
       "    }\n",
       "</style>\n",
       "<table border=\"1\" class=\"dataframe\">\n",
       "  <thead>\n",
       "    <tr style=\"text-align: right;\">\n",
       "      <th></th>\n",
       "      <th>warehouse_folder_string</th>\n",
       "      <th>fastq_file_string</th>\n",
       "      <th>genome_browser_track_color</th>\n",
       "      <th>read_type</th>\n",
       "    </tr>\n",
       "    <tr>\n",
       "      <th>sample</th>\n",
       "      <th></th>\n",
       "      <th></th>\n",
       "      <th></th>\n",
       "      <th></th>\n",
       "    </tr>\n",
       "  </thead>\n",
       "  <tbody>\n",
       "    <tr>\n",
       "      <th>C2C12P_1</th>\n",
       "      <td>160411</td>\n",
       "      <td>ACTGAT</td>\n",
       "      <td>1</td>\n",
       "      <td>single</td>\n",
       "    </tr>\n",
       "    <tr>\n",
       "      <th>C2C12D_1</th>\n",
       "      <td>160411</td>\n",
       "      <td>ATTCCT</td>\n",
       "      <td>2</td>\n",
       "      <td>single</td>\n",
       "    </tr>\n",
       "    <tr>\n",
       "      <th>C2C12P_2</th>\n",
       "      <td>160411</td>\n",
       "      <td>CAGGCG</td>\n",
       "      <td>1</td>\n",
       "      <td>single</td>\n",
       "    </tr>\n",
       "    <tr>\n",
       "      <th>C2C12D_2</th>\n",
       "      <td>160411</td>\n",
       "      <td>CCAACA</td>\n",
       "      <td>2</td>\n",
       "      <td>single</td>\n",
       "    </tr>\n",
       "  </tbody>\n",
       "</table>\n",
       "</div>"
      ],
      "text/plain": [
       "         warehouse_folder_string fastq_file_string  \\\n",
       "sample                                               \n",
       "C2C12P_1                  160411            ACTGAT   \n",
       "C2C12D_1                  160411            ATTCCT   \n",
       "C2C12P_2                  160411            CAGGCG   \n",
       "C2C12D_2                  160411            CCAACA   \n",
       "\n",
       "          genome_browser_track_color read_type  \n",
       "sample                                          \n",
       "C2C12P_1                           1    single  \n",
       "C2C12D_1                           2    single  \n",
       "C2C12P_2                           1    single  \n",
       "C2C12D_2                           2    single  "
      ]
     },
     "metadata": {},
     "output_type": "display_data"
    },
    {
     "name": "stdout",
     "output_type": "stream",
     "text": [
      "The following colors will be used for UCSC genome browser tracks:\n"
     ]
    },
    {
     "data": {
      "image/png": "[encoded data removed]",
      "text/plain": [
       "<matplotlib.figure.Figure at 0x7f124950eb38>"
      ]
     },
     "metadata": {},
     "output_type": "display_data"
    }
   ],
   "source": [
    "sample_description = pd.read_csv(SAMPLE_DESCRIPTION_FILE, dtype = 'str')\n",
    "\n",
    "if not set(['warehouse_folder_string', 'fastq_file_string', 'sample', 'read_type']) <= set(sample_description.columns):\n",
    "    msg = (f'The sample discription file should at least have the following columns:\\n'\n",
    "           f'\"warehouse_folder_string\": unique string in the name of the data warehouse folder '\n",
    "           f'containing the fastq files.\\n'\n",
    "           f'\"fastq_file_string\": string in the fastq files for mapping fastq files to samples.\\n'\n",
    "           f'\"sample\": user defined sample name.'\n",
    "           f'\"read_type\": either \"single\" or \"paired\"'\n",
    "          )\n",
    "    print(msg)\n",
    "    \n",
    "# Remove potential whitespace \n",
    "sample_description.apply(lambda x: x.str.strip(), axis=1)\n",
    "sample_description.genome_browser_track_color = sample_description.genome_browser_track_color.astype(int)\n",
    "sample_description = sample_description.set_index('sample')\n",
    "\n",
    "print(\"\\nSample description:\")\n",
    "display(sample_description)    \n",
    "\n",
    "print('The following colors will be used for UCSC genome browser tracks:')\n",
    "if 'genome_browser_track_color' in sample_description.columns:\n",
    "    color_max = sample_description.genome_browser_track_color.max(axis=0)\n",
    "else:\n",
    "    color_max = sample_description.shape[0]\n",
    "    \n",
    "sns.palplot(sns.color_palette(\"colorblind\", color_max))"
   ]
  },
  {
   "cell_type": "markdown",
   "metadata": {},
   "source": [
    "## Find, download, merge, and rename fastq files\n",
    "First, use the *warehouse_folder_string* to search the data warehouse for folders that may contain the data file. Then copy/download fastq files matching *fastq_file_string* in those folders.\n",
    "\n",
    "Fastq files with the same *file_string will* be merged and renamed using the corresponding *sample* name defined in SAMPLE_DESCRIPTION_FILE."
   ]
  },
  {
   "cell_type": "code",
   "execution_count": 13,
   "metadata": {
    "ExecuteTime": {
     "end_time": "2019-03-24T18:09:53.041480Z",
     "start_time": "2019-03-24T18:04:36.425602Z"
    },
    "scrolled": false
   },
   "outputs": [
    {
     "name": "stdout",
     "output_type": "stream",
     "text": [
      "\n",
      "Searching folders with 160411 in their names on the server intron.njms.rutgers.edu\n",
      "\n",
      "Using command \"ssh zhengdh@intron.njms.rutgers.edu find ../database4 -type d -name *160411*\"\n",
      "\n",
      "Fastq folders found:\n",
      "../database4/Data01/NextSeq/160411_NB500952_0051_AHYFCNBGXX\n",
      "../database4/Data01/FASTQ/160411_NB500952_0051_AHYFCNBGXX\n",
      "\n",
      "\n",
      "Serching files using the command ssh zhengdh@intron.njms.rutgers.edu find ../database4/Data01/NextSeq/160411_NB500952_0051_AHYFCNBGXX -type f -name \"*ACTGAT*\"\n",
      "\n",
      "Fastq files found:\n",
      " \n",
      "\n",
      "\n",
      "Serching files using the command ssh zhengdh@intron.njms.rutgers.edu find ../database4/Data01/FASTQ/160411_NB500952_0051_AHYFCNBGXX -type f -name \"*ACTGAT*\"\n",
      "\n",
      "Fastq files found:\n",
      "../database4/Data01/FASTQ/160411_NB500952_0051_AHYFCNBGXX/C2C12_diff_4sU/25/ACTGAT_S21_L002_R1_001.fastq.gz ../database4/Data01/FASTQ/160411_NB500952_0051_AHYFCNBGXX/C2C12_diff_4sU/25/ACTGAT_S21_L001_R1_001.fastq.gz ../database4/Data01/FASTQ/160411_NB500952_0051_AHYFCNBGXX/C2C12_diff_4sU/25/ACTGAT_S21_L003_R1_001.fastq.gz ../database4/Data01/FASTQ/160411_NB500952_0051_AHYFCNBGXX/C2C12_diff_4sU/25/ACTGAT_S21_L004_R1_001.fastq.gz  \n",
      "\n",
      "\n",
      "Downloading fastq files ....\n",
      "\n",
      "Merging, unzipping, and renaming fastq files ....\n",
      "zcat /home/dinghai/projects/ER/data/160411_C2C12_Dif/rawfastq/160411/ACTGAT_S21_L004_R1_001.fastq.gz /home/dinghai/projects/ER/data/160411_C2C12_Dif/rawfastq/160411/ACTGAT_S21_L003_R1_001.fastq.gz /home/dinghai/projects/ER/data/160411_C2C12_Dif/rawfastq/160411/ACTGAT_S21_L002_R1_001.fastq.gz /home/dinghai/projects/ER/data/160411_C2C12_Dif/rawfastq/160411/ACTGAT_S21_L001_R1_001.fastq.gz > /home/dinghai/projects/ER/data/160411_C2C12_Dif/rawfastq/C2C12P_1.fastq\n",
      "\n",
      "Serching files using the command ssh zhengdh@intron.njms.rutgers.edu find ../database4/Data01/NextSeq/160411_NB500952_0051_AHYFCNBGXX -type f -name \"*ATTCCT*\"\n",
      "\n",
      "Fastq files found:\n",
      " \n",
      "\n",
      "\n",
      "Serching files using the command ssh zhengdh@intron.njms.rutgers.edu find ../database4/Data01/FASTQ/160411_NB500952_0051_AHYFCNBGXX -type f -name \"*ATTCCT*\"\n",
      "\n",
      "Fastq files found:\n",
      "../database4/Data01/FASTQ/160411_NB500952_0051_AHYFCNBGXX/C2C12_diff_4sU/27/ATTCCT_S23_L003_R1_001.fastq.gz ../database4/Data01/FASTQ/160411_NB500952_0051_AHYFCNBGXX/C2C12_diff_4sU/27/ATTCCT_S23_L002_R1_001.fastq.gz ../database4/Data01/FASTQ/160411_NB500952_0051_AHYFCNBGXX/C2C12_diff_4sU/27/ATTCCT_S23_L004_R1_001.fastq.gz ../database4/Data01/FASTQ/160411_NB500952_0051_AHYFCNBGXX/C2C12_diff_4sU/27/ATTCCT_S23_L001_R1_001.fastq.gz  \n",
      "\n",
      "\n",
      "Downloading fastq files ....\n",
      "\n",
      "Merging, unzipping, and renaming fastq files ....\n",
      "zcat /home/dinghai/projects/ER/data/160411_C2C12_Dif/rawfastq/160411/ATTCCT_S23_L001_R1_001.fastq.gz /home/dinghai/projects/ER/data/160411_C2C12_Dif/rawfastq/160411/ATTCCT_S23_L002_R1_001.fastq.gz /home/dinghai/projects/ER/data/160411_C2C12_Dif/rawfastq/160411/ATTCCT_S23_L003_R1_001.fastq.gz /home/dinghai/projects/ER/data/160411_C2C12_Dif/rawfastq/160411/ATTCCT_S23_L004_R1_001.fastq.gz > /home/dinghai/projects/ER/data/160411_C2C12_Dif/rawfastq/C2C12D_1.fastq\n",
      "\n",
      "Serching files using the command ssh zhengdh@intron.njms.rutgers.edu find ../database4/Data01/NextSeq/160411_NB500952_0051_AHYFCNBGXX -type f -name \"*CAGGCG*\"\n",
      "\n",
      "Fastq files found:\n",
      " \n",
      "\n",
      "\n",
      "Serching files using the command ssh zhengdh@intron.njms.rutgers.edu find ../database4/Data01/FASTQ/160411_NB500952_0051_AHYFCNBGXX -type f -name \"*CAGGCG*\"\n",
      "\n",
      "Fastq files found:\n",
      "../database4/Data01/FASTQ/160411_NB500952_0051_AHYFCNBGXX/C2C12_diff_4sU/33/CAGGCG_S25_L004_R1_001.fastq.gz ../database4/Data01/FASTQ/160411_NB500952_0051_AHYFCNBGXX/C2C12_diff_4sU/33/CAGGCG_S25_L002_R1_001.fastq.gz ../database4/Data01/FASTQ/160411_NB500952_0051_AHYFCNBGXX/C2C12_diff_4sU/33/CAGGCG_S25_L003_R1_001.fastq.gz ../database4/Data01/FASTQ/160411_NB500952_0051_AHYFCNBGXX/C2C12_diff_4sU/33/CAGGCG_S25_L001_R1_001.fastq.gz  \n",
      "\n",
      "\n",
      "Downloading fastq files ....\n",
      "\n",
      "Merging, unzipping, and renaming fastq files ....\n",
      "zcat /home/dinghai/projects/ER/data/160411_C2C12_Dif/rawfastq/160411/CAGGCG_S25_L001_R1_001.fastq.gz /home/dinghai/projects/ER/data/160411_C2C12_Dif/rawfastq/160411/CAGGCG_S25_L003_R1_001.fastq.gz /home/dinghai/projects/ER/data/160411_C2C12_Dif/rawfastq/160411/CAGGCG_S25_L002_R1_001.fastq.gz /home/dinghai/projects/ER/data/160411_C2C12_Dif/rawfastq/160411/CAGGCG_S25_L004_R1_001.fastq.gz > /home/dinghai/projects/ER/data/160411_C2C12_Dif/rawfastq/C2C12P_2.fastq\n",
      "\n",
      "Serching files using the command ssh zhengdh@intron.njms.rutgers.edu find ../database4/Data01/NextSeq/160411_NB500952_0051_AHYFCNBGXX -type f -name \"*CCAACA*\"\n",
      "\n",
      "Fastq files found:\n",
      " \n",
      "\n",
      "\n",
      "Serching files using the command ssh zhengdh@intron.njms.rutgers.edu find ../database4/Data01/FASTQ/160411_NB500952_0051_AHYFCNBGXX -type f -name \"*CCAACA*\"\n",
      "\n",
      "Fastq files found:\n",
      "../database4/Data01/FASTQ/160411_NB500952_0051_AHYFCNBGXX/C2C12_diff_4sU/36/CCAACA_S27_L004_R1_001.fastq.gz ../database4/Data01/FASTQ/160411_NB500952_0051_AHYFCNBGXX/C2C12_diff_4sU/36/CCAACA_S27_L002_R1_001.fastq.gz ../database4/Data01/FASTQ/160411_NB500952_0051_AHYFCNBGXX/C2C12_diff_4sU/36/CCAACA_S27_L001_R1_001.fastq.gz ../database4/Data01/FASTQ/160411_NB500952_0051_AHYFCNBGXX/C2C12_diff_4sU/36/CCAACA_S27_L003_R1_001.fastq.gz  \n",
      "\n",
      "\n",
      "Downloading fastq files ....\n",
      "\n",
      "Merging, unzipping, and renaming fastq files ....\n",
      "zcat /home/dinghai/projects/ER/data/160411_C2C12_Dif/rawfastq/160411/CCAACA_S27_L003_R1_001.fastq.gz /home/dinghai/projects/ER/data/160411_C2C12_Dif/rawfastq/160411/CCAACA_S27_L004_R1_001.fastq.gz /home/dinghai/projects/ER/data/160411_C2C12_Dif/rawfastq/160411/CCAACA_S27_L001_R1_001.fastq.gz /home/dinghai/projects/ER/data/160411_C2C12_Dif/rawfastq/160411/CCAACA_S27_L002_R1_001.fastq.gz > /home/dinghai/projects/ER/data/160411_C2C12_Dif/rawfastq/C2C12D_2.fastq\n",
      "\n",
      "Done!\n"
     ]
    }
   ],
   "source": [
    "for folder_string in sample_description.warehouse_folder_string.unique():\n",
    "    rawfastq_subdir = rawfastq_dir/folder_string\n",
    "    df = sample_description[sample_description.warehouse_folder_string == folder_string]\n",
    "    \n",
    "    if DATA_SOURCE == 'internal_warehouse':\n",
    "        # Find folder in the warehouse that may contain the fastq files\n",
    "        cmd = f'ssh {WAREHOUSE_USER}@{WAREHOUSE_SERVER} find ../database4 -type d -name *{folder_string}*'\n",
    "        print(f'\\nSearching folders with {folder_string} in their names on the server {WAREHOUSE_SERVER}')\n",
    "        print(f'\\nUsing command \"{cmd}\"')\n",
    "        fastq_folders = check_output(cmd, shell=True).decode().split('\\n')\n",
    "        print('\\nFastq folders found:')\n",
    "        print('\\n'.join(fastq_folders))\n",
    "\n",
    "        # Find fastq files in the folders\n",
    "        for file_string in df.fastq_file_string:\n",
    "            sample_name = df[df.fastq_file_string == file_string]['sample'].values[0]\n",
    "            # Some of the folders may not contain fastq data\n",
    "            for fastq_folder in fastq_folders:\n",
    "                cmd = f'ssh {WAREHOUSE_USER}@{WAREHOUSE_SERVER} find {fastq_folder} -type f -name \"*{file_string}*R1*\"'\n",
    "                fastq_files = check_output(cmd, shell=True).decode().replace('\\n', \" \")\n",
    "                # Escape special characters\n",
    "                fastq_files = fastq_files.replace(\"&\", \"\\&\").replace(\":\", \"\\:\")\n",
    "                # Skip the current fastq_folder if fastq_files have already been found\n",
    "                if not fastq_files == '': \n",
    "                    break\n",
    "            # Download fastq files from internal server\n",
    "            print('\\nDownloading fastq files ....')\n",
    "            rawfastq_subdir.mkdir(parents=True, exist_ok=True)\n",
    "            cmd = f'scp -r {WAREHOUSE_USER}@{WAREHOUSE_SERVER}:\"{fastq_files}\" {rawfastq_subdir}'\n",
    "            os.system(cmd)\n",
    "            # Find fastq file names begining with file_string\n",
    "            R1_fastq_gz_with_file_string = [str(filename) for filename in Path(fastq_folder).iterdir() \n",
    "                                            if re.search(file_string + '.*R1.+fastq.gz$', str(filename))]\n",
    "            R1_fastq_with_file_string = [str(filename) for filename in Path(fastq_folder).iterdir() \n",
    "                                         if re.search(file_string + '.*R1.+fastq$', str(filename))]\n",
    "            merge_and_rename(R1_fastq_gz_with_file_string, f'{sample_name}.fastq', rawfastq_dir)\n",
    "            merge_and_rename(R1_fastq_with_file_string, f'{sample_name}.fastq', rawfastq_dir)\n",
    "        \n",
    "    elif DATA_SOURCE == 'local':\n",
    "        cmd = f'find {LOCAL_DATA_SOURCE} -type d -name \"*{folder_string}*\"'\n",
    "        # On the local computer, there is usually just one folder for each data set.\n",
    "        fastq_folder = check_output(cmd, shell=True).decode().strip() \n",
    "        print('\\nLocal fastq folders found:', fastq_folder)\n",
    "        rawfastq_subdir.mkdir(parents=True, exist_ok=True)\n",
    "\n",
    "        # Find fastq files in the folders\n",
    "        for file_string in df.fastq_file_string:\n",
    "            sample_name = df[df.fastq_file_string == file_string]['sample'].values[0]\n",
    "            # Find fastq file names begining with file_string\n",
    "            R1_fastq_gz_with_file_string = [str(filename) for filename in Path(fastq_folder).iterdir() \n",
    "                                            if re.search(file_string + '.*R1.+fastq.gz$', str(filename))]\n",
    "            R1_fastq_with_file_string = [str(filename) for filename in Path(fastq_folder).iterdir() \n",
    "                                         if re.search(file_string + '.*R1.+fastq$', str(filename))]\n",
    "            merge_and_rename(R1_fastq_gz_with_file_string, f'{sample_name}.fastq', rawfastq_dir)\n",
    "            merge_and_rename(R1_fastq_with_file_string, f'{sample_name}.fastq', rawfastq_dir)\n",
    "    \n",
    "    elif DATA_SOURCE == 'basespace':\n",
    "        # TODO\n",
    "        pass\n",
    "    \n",
    "    print('\\nDone!')"
   ]
  },
  {
   "cell_type": "code",
   "execution_count": 14,
   "metadata": {
    "ExecuteTime": {
     "end_time": "2019-03-24T18:09:53.114722Z",
     "start_time": "2019-03-24T18:09:53.091134Z"
    },
    "code_folding": [],
    "scrolled": false
   },
   "outputs": [
    {
     "name": "stdout",
     "output_type": "stream",
     "text": [
      "\n",
      "4 workers will be used for all parallel computing.\n"
     ]
    }
   ],
   "source": [
    "fastq_files = sorted([str(filename.absolute()) for filename in rawfastq_dir.glob('*.fastq')])\n",
    "\n",
    "if len(fastq_files) == 0:\n",
    "    print(f\"\\nPleae put fastq files in the {str(rawfastq_dir)} folder first.\")    \n",
    "    \n",
    "WORKERS = min(MAX_WORKERS, len(fastq_files))\n",
    "\n",
    "print(f'\\n{WORKERS} workers will be used for all parallel computing.')    "
   ]
  },
  {
   "cell_type": "markdown",
   "metadata": {},
   "source": [
    "Count raw fastq records in each fastq file:"
   ]
  },
  {
   "cell_type": "code",
   "execution_count": 45,
   "metadata": {
    "ExecuteTime": {
     "end_time": "2019-03-14T22:59:53.943057Z",
     "start_time": "2019-03-14T22:59:46.879561Z"
    },
    "scrolled": true
   },
   "outputs": [
    {
     "name": "stdout",
     "output_type": "stream",
     "text": [
      "\n",
      "Raw fastq counts in each file:\n"
     ]
    },
    {
     "data": {
      "text/html": [
       "<div>\n",
       "<style>\n",
       "    .dataframe thead tr:only-child th {\n",
       "        text-align: right;\n",
       "    }\n",
       "\n",
       "    .dataframe thead th {\n",
       "        text-align: left;\n",
       "    }\n",
       "\n",
       "    .dataframe tbody tr th {\n",
       "        vertical-align: top;\n",
       "    }\n",
       "</style>\n",
       "<table border=\"1\" class=\"dataframe\">\n",
       "  <thead>\n",
       "    <tr style=\"text-align: right;\">\n",
       "      <th></th>\n",
       "      <th>Raw</th>\n",
       "    </tr>\n",
       "    <tr>\n",
       "      <th>File_Name</th>\n",
       "      <th></th>\n",
       "    </tr>\n",
       "  </thead>\n",
       "  <tbody>\n",
       "    <tr>\n",
       "      <th>C2C12D_1</th>\n",
       "      <td>12901771</td>\n",
       "    </tr>\n",
       "    <tr>\n",
       "      <th>C2C12D_2</th>\n",
       "      <td>16763626</td>\n",
       "    </tr>\n",
       "    <tr>\n",
       "      <th>C2C12P_1</th>\n",
       "      <td>11280672</td>\n",
       "    </tr>\n",
       "    <tr>\n",
       "      <th>C2C12P_2</th>\n",
       "      <td>16568113</td>\n",
       "    </tr>\n",
       "  </tbody>\n",
       "</table>\n",
       "</div>"
      ],
      "text/plain": [
       "                Raw\n",
       "File_Name          \n",
       "C2C12D_1   12901771\n",
       "C2C12D_2   16763626\n",
       "C2C12P_1   11280672\n",
       "C2C12P_2   16568113"
      ]
     },
     "execution_count": 45,
     "metadata": {},
     "output_type": "execute_result"
    }
   ],
   "source": [
    "# Count raw reads   \n",
    "with mp.Pool(processes=WORKERS) as pool:\n",
    "    raw_fastq_counts = pool.map(count_fastq, fastq_files)\n",
    "    \n",
    "raw_fastq_counts = pd.DataFrame(raw_fastq_counts, columns = [\"File_Name\", \"Raw\"])\n",
    "raw_fastq_counts[\"File_Name\"] = raw_fastq_counts[\"File_Name\"].str.replace('.fastq', '') \n",
    "raw_fastq_counts = raw_fastq_counts.set_index(\"File_Name\")\n",
    "\n",
    "print('\\nRaw fastq counts in each file:')\n",
    "raw_fastq_counts "
   ]
  },
  {
   "cell_type": "markdown",
   "metadata": {},
   "source": [
    "## FASTQ QC and Calculate length of random nucleotides in 3' ligation adapter\n",
    "Plots sequencing quality. Parallel computing was used for speed. \n",
    "\n",
    "For libraries prepared using different versions of 3' adapters (usually in different batches), the numbers of random nucleotides could be different. This code will also figure out the number of random nucleotides (*random_NT_lens*) in the 3' adapter (5' end of the reads when the libraries are sequenced in reverse direction). The *random_NT_lens* will be used for identifying PASS reads and unique PASS reads later. "
   ]
  },
  {
   "cell_type": "code",
   "execution_count": 17,
   "metadata": {
    "ExecuteTime": {
     "end_time": "2019-03-24T18:13:18.895580Z",
     "start_time": "2019-03-24T18:13:18.867352Z"
    }
   },
   "outputs": [],
   "source": [
    "result_dir_str = str(result_dir.absolute()) # For R input"
   ]
  },
  {
   "cell_type": "code",
   "execution_count": 19,
   "metadata": {
    "ExecuteTime": {
     "end_time": "2019-03-24T18:15:40.863932Z",
     "start_time": "2019-03-24T18:15:20.244742Z"
    },
    "code_folding": [],
    "scrolled": false
   },
   "outputs": [
    {
     "data": {
      "text/plain": [
       "\n",
       "Number of random nucleotides in 5' end of the fastq reads (due to 3' ligation adapter):\n",
       "\n",
       "C2C12D_1 C2C12D_2 C2C12P_1 C2C12P_2 \n",
       "       3        3        3        3 \n",
       "\n"
      ]
     },
     "metadata": {},
     "output_type": "display_data"
    },
    {
     "data": {
      "image/png": "[encoded data removed]"
     },
     "metadata": {},
     "output_type": "display_data"
    }
   ],
   "source": [
    "%%R -i fastq_files,FASTQ_QC_PLOT_NUM_COLUMNS,result_dir_str,WORKERS -w 1000 -h 1500 -o random_NT_lens\n",
    "\n",
    "## Load helper functions\n",
    "source(\"/home/dinghai/dev/3-prime-READS-plus/modules/FastqQC.R\")\n",
    "library(foreach)\n",
    "library(doParallel)\n",
    "\n",
    "## Step 1: Creat list of plots using parellel computing             \n",
    "registerDoParallel(WORKERS)   \n",
    "fqlist = foreach(f = 1:length(fastq_files), \n",
    "                 .packages = c(\"ShortRead\", \"Biostrings\")) %dopar% {\n",
    "    seeFastq(fastq = fastq_files[[f]])\n",
    "    }\n",
    "names(fqlist) = sapply(fastq_files, function(x) sub(\".+\\\\/(.+).fastq\", \"\\\\1\", x))                     \n",
    "\n",
    "## Step 2: Output pdf and browser image              \n",
    "mycol = seq(along = fqlist)     \n",
    "myrow = c(1, 3, 2)\n",
    "n = min(FASTQ_QC_PLOT_NUM_COLUMNS, length(fastq_files))                                                \n",
    "if(length(mycol) %% n){\n",
    "  groups = 0:floor(length(mycol)/n)\n",
    "}else{\n",
    "  groups = 0:(length(mycol)/n - 1)\n",
    "}  \n",
    "                       \n",
    "# Make pdf plots                        \n",
    "pdf(file.path(result_dir_str, \"fastqReport.pdf\"), height=20, width=4*n)                         \n",
    "for(group in groups){\n",
    "  if(group < max(groups)){\n",
    "    subcol = mycol[n*group + 1:n]\n",
    "  }else{\n",
    "    subcol = mycol[(n*group + 1):length(mycol)]\n",
    "  }\n",
    "  seeFastqPlot(fqlist[subcol], arrange = myrow, n = n)\n",
    "}\n",
    "dev.off()  \n",
    "                       \n",
    "# Print to screen\n",
    "for(group in groups){\n",
    "  if(group < max(groups)){\n",
    "    subcol = mycol[n*group + 1:n]\n",
    "  }else{\n",
    "    subcol = mycol[(n*group + 1):length(mycol)]\n",
    "  }\n",
    "  seeFastqPlot(fqlist[subcol], arrange = myrow, n = n)\n",
    "}       \n",
    "                \n",
    "# Automatically figure out the number of random nucleotides in the 3' adapter (5' end of the reads \n",
    "                       # when the libraries are sequenced in reverse direction) \n",
    "cycle_with_max_T_frequency = function(fq){\n",
    "    base_frequency = fq$bstats\n",
    "    T_frequency = subset(base_frequency, Base == \"T\")\n",
    "    # The number of random nucleotides in the 3'adapter is also where the frequency of T increased most \n",
    "    which.max(diff(T_frequency$Frequency))\n",
    "}\n",
    "                       \n",
    "random_NT_lens = sapply(fqlist, cycle_with_max_T_frequency)\n",
    "names(random_NT_lens) = names(fqlist)\n",
    "\n",
    "cat(\"\\nNumber of random nucleotides in 5' end of the fastq reads (due to 3' ligation adapter):\\n\\n\")\n",
    "print(random_NT_lens)\n",
    "cat(\"\\n\")                       "
   ]
  },
  {
   "cell_type": "markdown",
   "metadata": {},
   "source": [
    "## Clip adapters \n",
    "Remove the read's 3' end adapter (originated from 5' RNA ligation adapter) from the reads using cutadapt. Parallel computing was used for speed. "
   ]
  },
  {
   "cell_type": "code",
   "execution_count": 38,
   "metadata": {
    "ExecuteTime": {
     "end_time": "2019-03-24T20:01:48.561821Z",
     "start_time": "2019-03-24T20:01:48.543282Z"
    },
    "scrolled": true
   },
   "outputs": [],
   "source": [
    "cmds = [] \n",
    "for sample_name in sample_description.index:\n",
    "    fastq_file = str(rawfastq_dir/f'{sample_name}.fastq')\n",
    "    read_type = sample_description.loc[sample_name, 'read_type']\n",
    "    if read_type == 'single':\n",
    "        cmd = (f'cutadapt -a NNNNTGGAATTCTCGGGTGCCAAGG -n 1 -O 10 -m {CUTADAPT_MINLEN} -f fastq -q 10 {fastq_file} '\n",
    "               f'-o {fastq_file.replace(\".fastq\", \".cut.fastq\").replace(\"rawfastq\", \"fastq\")} '\n",
    "               f'&& rm {fastq_file}')\n",
    "    elif read_type == 'paired':\n",
    "        cmd = (f'cutadapt -u -75 -a NNNNTGGAATTCTCGGGTGCCAAGG -n 1 -O 10 -m {CUTADAPT_MINLEN} -f fastq '\n",
    "               f'-q 10 {fastq_file} -o {fastq_file.replace(\".fastq\", \".cut.fastq\").replace(\"rawfastq\", \"fastq\")} '\n",
    "               f'&& rm {fastq_file}')\n",
    "    cmds.append(cmd)"
   ]
  },
  {
   "cell_type": "code",
   "execution_count": 47,
   "metadata": {
    "ExecuteTime": {
     "end_time": "2019-03-14T23:02:52.304543Z",
     "start_time": "2019-03-14T23:00:17.764433Z"
    },
    "scrolled": false
   },
   "outputs": [
    {
     "name": "stdout",
     "output_type": "stream",
     "text": [
      "\n",
      "Removing ligation adapters from fastq reads in the following files:\n",
      "\n",
      "C2C12D_1.fastq\n",
      "C2C12D_2.fastq\n",
      "C2C12P_1.fastq\n",
      "C2C12P_2.fastq\n",
      "\n",
      "Done!\n"
     ]
    }
   ],
   "source": [
    "print(\"\\nRemoving ligation adapters from fastq reads in the following files:\\n\") \n",
    "print('\\n'.join([fastq_file.split('/')[-1] for fastq_file in fastq_files]))\n",
    "\n",
    "with mp.Pool(processes = WORKERS) as pool: \n",
    "    pool.map(os.system, cmds)\n",
    "    \n",
    "print('\\nDone!')"
   ]
  },
  {
   "cell_type": "markdown",
   "metadata": {},
   "source": [
    "## Trim 5' Ts "
   ]
  },
  {
   "cell_type": "code",
   "execution_count": 67,
   "metadata": {
    "ExecuteTime": {
     "end_time": "2019-03-14T23:20:51.991228Z",
     "start_time": "2019-03-14T23:18:44.523658Z"
    },
    "scrolled": false
   },
   "outputs": [
    {
     "name": "stdout",
     "output_type": "stream",
     "text": [
      "\n",
      "Trimming 5' T-stretches from fastq reads in the following files:\n",
      "\n",
      "C2C12D_1.cut.fastq\n",
      "C2C12D_2.cut.fastq\n",
      "C2C12P_1.cut.fastq\n",
      "C2C12P_2.cut.fastq\n",
      "\n",
      "Done!\n",
      "\n",
      "Fastq counts in each file:\n"
     ]
    },
    {
     "data": {
      "text/html": [
       "<div>\n",
       "<style>\n",
       "    .dataframe thead tr:only-child th {\n",
       "        text-align: right;\n",
       "    }\n",
       "\n",
       "    .dataframe thead th {\n",
       "        text-align: left;\n",
       "    }\n",
       "\n",
       "    .dataframe tbody tr th {\n",
       "        vertical-align: top;\n",
       "    }\n",
       "</style>\n",
       "<table border=\"1\" class=\"dataframe\">\n",
       "  <thead>\n",
       "    <tr style=\"text-align: right;\">\n",
       "      <th></th>\n",
       "      <th>Raw</th>\n",
       "      <th>Cut</th>\n",
       "      <th>Trimmed</th>\n",
       "    </tr>\n",
       "  </thead>\n",
       "  <tbody>\n",
       "    <tr>\n",
       "      <th>C2C12D_1</th>\n",
       "      <td>12901771</td>\n",
       "      <td>12397026</td>\n",
       "      <td>9739930</td>\n",
       "    </tr>\n",
       "    <tr>\n",
       "      <th>C2C12D_2</th>\n",
       "      <td>16763626</td>\n",
       "      <td>15978740</td>\n",
       "      <td>11795122</td>\n",
       "    </tr>\n",
       "    <tr>\n",
       "      <th>C2C12P_1</th>\n",
       "      <td>11280672</td>\n",
       "      <td>10775762</td>\n",
       "      <td>8563380</td>\n",
       "    </tr>\n",
       "    <tr>\n",
       "      <th>C2C12P_2</th>\n",
       "      <td>16568113</td>\n",
       "      <td>15742372</td>\n",
       "      <td>11733243</td>\n",
       "    </tr>\n",
       "  </tbody>\n",
       "</table>\n",
       "</div>"
      ],
      "text/plain": [
       "               Raw       Cut   Trimmed\n",
       "C2C12D_1  12901771  12397026   9739930\n",
       "C2C12D_2  16763626  15978740  11795122\n",
       "C2C12P_1  11280672  10775762   8563380\n",
       "C2C12P_2  16568113  15742372  11733243"
      ]
     },
     "execution_count": 67,
     "metadata": {},
     "output_type": "execute_result"
    }
   ],
   "source": [
    "cutadapt_outputs = sorted([str(filename.absolute()) for filename in fastq_dir.glob('*cut.fastq')])\n",
    "\n",
    "print(\"\\nTrimming 5' T-stretches from fastq reads in the following files:\\n\") \n",
    "print('\\n'.join([fastq_file.split('/')[-1] for fastq_file in cutadapt_outputs]))\n",
    "\n",
    "with mp.Pool(processes = WORKERS) as pool:\n",
    "    trimmed_fastq_counts = pool.starmap(trim_write_count_fastq, \n",
    "                            list(zip(cutadapt_outputs, list(random_NT_lens), [4]*len(random_NT_lens))))\n",
    "    \n",
    "if SAVE_SPACE:\n",
    "    cmd = 'rm ' + ' '.join(cutadapt_outputs)\n",
    "    os.system(cmd)    \n",
    "\n",
    "print('\\nDone!')\n",
    "\n",
    "trimmed_fastq_counts = pd.DataFrame(trimmed_fastq_counts, columns = [\"File_Name\", \"Cut\", \"Trimmed\"])\n",
    "trimmed_fastq_counts[\"File_Name\"] = trimmed_fastq_counts[\"File_Name\"].str.replace('.cut.fastq', '')  \n",
    "trimmed_fastq_counts = trimmed_fastq_counts.set_index(\"File_Name\")\n",
    "fastq_counts = pd.concat([raw_fastq_counts, trimmed_fastq_counts], axis = 1)\n",
    "\n",
    "print('\\nFastq counts in each file:')\n",
    "fastq_counts"
   ]
  },
  {
   "cell_type": "markdown",
   "metadata": {},
   "source": [
    "## Map the reads to the genome using STAR "
   ]
  },
  {
   "cell_type": "markdown",
   "metadata": {},
   "source": [
    "AlignEndsType is set to EndToEnd.\n",
    "According to the STAR manual, add the following lines to /etc/sysctl.conf:\n",
    "1. kernel.shmmax = 31000000000 \n",
    "2. kernel.shmall = 7568360\n",
    "\n",
    "Then run 'sudo /sbin/sysctl -p' to allow large shared memory blocks."
   ]
  },
  {
   "cell_type": "code",
   "execution_count": 68,
   "metadata": {
    "ExecuteTime": {
     "end_time": "2019-03-14T23:20:52.083988Z",
     "start_time": "2019-03-14T23:20:52.071736Z"
    }
   },
   "outputs": [],
   "source": [
    "trimmed_fastq_files = sorted([str(filename.absolute()) for filename in fastq_dir.glob('*trimmed.fastq')])\n",
    "# Commands for mapping reads\n",
    "cmds = [(f'STAR --runThreadN {WORKERS} --genomeDir {genome_index} --genomeLoad LoadAndKeep '\n",
    "         f'--readFilesIn {fastq_file} --alignEndsType EndToEnd --outFilterType BySJout '\n",
    "         f'--outFilterMultimapNmax 10 --alignSJoverhangMin 8 --alignSJDBoverhangMin 1 '\n",
    "         f'--alignIntronMin 20 --alignIntronMax 1000000 --outFileNamePrefix '\n",
    "         f'{fastq_file.replace(\"/fastq/\", \"/sam/\").replace(\"cut.trimmed.fastq\", \"\")}') \n",
    "         for fastq_file in trimmed_fastq_files]\n",
    "\n",
    "# Commands for removing fastq files\n",
    "cmds_rm = ['rm ' + fastq_file for fastq_file in trimmed_fastq_files]  "
   ]
  },
  {
   "cell_type": "code",
   "execution_count": 69,
   "metadata": {
    "ExecuteTime": {
     "end_time": "2019-03-14T23:29:33.115235Z",
     "start_time": "2019-03-14T23:20:52.151538Z"
    },
    "scrolled": false
   },
   "outputs": [
    {
     "name": "stdout",
     "output_type": "stream",
     "text": [
      "\n",
      "Mapping reads from the following files to mm9:\n",
      "\n",
      "C2C12D_1.cut.trimmed.fastq\n",
      "C2C12D_2.cut.trimmed.fastq\n",
      "C2C12P_1.cut.trimmed.fastq\n",
      "C2C12P_2.cut.trimmed.fastq\n",
      "\n",
      "Done!\n"
     ]
    }
   ],
   "source": [
    "print(f'\\nMapping reads from the following files to {GENOME}:\\n') \n",
    "print('\\n'.join([fastq_file.split('/')[-1] for fastq_file in trimmed_fastq_files]))\n",
    "\n",
    "# Map reads and then delete fastq files immediately\n",
    "for i in range(len(cmds)):\n",
    "    os.system(cmds[i])    \n",
    "    if SAVE_SPACE:\n",
    "        os.system(cmds_rm[i])\n",
    "    \n",
    "# Remove genome from memory. Note \"--genomeDir\" is still needed!\n",
    "cmd = f'STAR --genomeDir {genome_index} --genomeLoad Remove'\n",
    "os.system(cmd)\n",
    "\n",
    "print('\\nDone!')"
   ]
  },
  {
   "cell_type": "markdown",
   "metadata": {},
   "source": [
    "## Identfy PASS reads"
   ]
  },
  {
   "cell_type": "markdown",
   "metadata": {},
   "source": [
    "1. Unlike pool.map(), pool.starmap() allows passing multiple arguments to functions.\n",
    "2. If I pass genome to each process, I will get an error.\n",
    "3. If the pick_PASS is not defined in the notebook but loaded from PASS.py, genome will not be available for all processes."
   ]
  },
  {
   "cell_type": "code",
   "execution_count": 70,
   "metadata": {
    "ExecuteTime": {
     "end_time": "2019-03-14T23:29:33.526249Z",
     "start_time": "2019-03-14T23:29:33.287845Z"
    }
   },
   "outputs": [],
   "source": [
    "def split_sam(sam_file, min_mapq = 10, direction = 'reverse', spike_in = None):\n",
    "    '''Split a sam_file into PASS, nonpass, and spike-in sam files.\n",
    "\n",
    "    Loop through records in the sam file, if the record is PASS, write to\n",
    "    pass_file. Mapped non-PASS reads are saved in nonpass_file. Reads mapped to \n",
    "    rRNA genes are skipped. Sequencing direction can only be reverse or forward. \n",
    "\n",
    "    Attach matched tail length (ML), unmatched tail length (UL), and last mapped\n",
    "    position (LM) to the end of readname. The head (such as 'TS11AAC') and the \n",
    "    tail (such as 'ML:i:4\\tUL:i:9\\tLM:i:1234') of the read name is the unique \n",
    "    identifier of the read.\n",
    "    \n",
    "    Arguments:\n",
    "    sam_file: string. Name of input sam file.\n",
    "    min_mapq: int. Minimum MAPQ score\n",
    "    direction: string. Either 'reverse' (default) or 'forward'\n",
    "    spike_in: a 4-charactor string for identifying spike-in RNA. For example,\n",
    "    spike_in = 'ychr' for spike-in yeast RNA if yeast chromosomes are named as 'ychr1', \n",
    "    'ychrM', etc. \n",
    "    \n",
    "    Outputs:\n",
    "    Separate sam files containing either PASS reads, nonPASS reads, or spike-ins.\n",
    "    '''\n",
    "    pass_file = open(sam_file.replace('.sam', '.pass'), 'w')\n",
    "    nonpass_file = open(sam_file.replace('.sam', '.nonpass'), 'w')\n",
    "    if spike_in: spike_in_file = open(sam_file.replace('.sam', '.spike_in'), 'w')\n",
    "    \n",
    "    lap = 0\n",
    "\n",
    "    with open(sam_file, 'r') as fin:\n",
    "        for line in fin:\n",
    "            # Skip header\n",
    "            if line[0] == '@':\n",
    "                pass_file.write(line)\n",
    "                nonpass_file.write(line)\n",
    "                if spike_in: spike_in_file.write(line)\n",
    "                continue\n",
    "            # Process each line\n",
    "            (readname, flag, chromosome, position, mapq, cigar) = line.split()[:6]\n",
    "            position = int(position)\n",
    "            mapq = int(mapq)\n",
    "\n",
    "            # Discard reads with low mapping scores\n",
    "            if mapq < min_mapq:\n",
    "                continue\n",
    "            # Record reads mapped to spiked-in yeast genome \n",
    "            if spike_in and chromosome[:4] == spike_in:  \n",
    "                spike_in_file.write(line)\n",
    "                continue\n",
    "            # Ignore reads mapped to other chromosomes, such as 'BK000964'\n",
    "            if not chromosome[:3] == 'chr':\n",
    "                continue\n",
    "\n",
    "            # Extract the T-stretch length encoded in the readname\n",
    "            match = re.match('TS(\\d+)', line)\n",
    "            t_stretch_len = int(match.groups()[0])\n",
    "\n",
    "            # Get genomic sequence downstream of the LAP (last mapped position).\n",
    "            # (The length of returned sequence is t_stretch_len.)\n",
    "            if (direction.lower() == 'reverse' and flag == '16') or \\\n",
    "                    (direction.lower() == 'forward' and flag == '0'):\n",
    "                strand = '+'\n",
    "                # Process cigar to determine the LAP.\n",
    "                # Insertion (I) will not affect the covered distance.\n",
    "                nums = re.split('[MDN]', re.sub('\\d+I', '', cigar))[:-1]\n",
    "                covered = sum(int(x) for x in nums)\n",
    "                # get_seq() returns reverse complemented sequence if strand == '-'\n",
    "                downstream_seq = get_seq(chromosome, strand,\n",
    "                                         start = position + covered,\n",
    "                                         end = position + covered + t_stretch_len - 1,\n",
    "                                         genome = genome)\n",
    "                lap = position + covered - 1\n",
    "            elif (direction.lower() == 'reverse' and flag == '0') or \\\n",
    "                    (direction.lower() == 'forward' and flag == '16'):\n",
    "                strand = '-'\n",
    "                downstream_seq = get_seq(chromosome, strand,\n",
    "                                         start = position - t_stretch_len, \n",
    "                                         end = position - 1,\n",
    "                                         genome = genome)\n",
    "                lap = position\n",
    "            else:\n",
    "                continue\n",
    "\n",
    "            # If the 5' T-stretch was trimmed twice (like 'TTTTTTTGTTTT')\n",
    "            # and if GTTTT (reverse-compliment: AAAAC) comes from the genome,\n",
    "            # update the downstream_seq, lap, and t_stretch_len\n",
    "            elements = readname.split('::')\n",
    "            if len(elements) == 2:\n",
    "                elements[1] = elements[1].split(':')[0]   \n",
    "                match = re.match(reverse_complement(elements[1]), downstream_seq)\n",
    "                if match:\n",
    "                    downstream_seq = downstream_seq[len(elements[1]):]\n",
    "                    t_stretch_len -= len(elements[1])\n",
    "                    if strand == '+':\n",
    "                        lap += len(elements[1])\n",
    "                    if strand == '-':\n",
    "                        lap -= len(elements[1])\n",
    "            \n",
    "            # If the t_stretch_len is reduced enough, no need to analyze downstream sequence\n",
    "            #assert t_stretch_len >= 0\n",
    "            \n",
    "            if t_stretch_len == 0:\n",
    "                nonpass_file.write(line.strip() + '\\tML:i:%d\\tUL:i:%d\\tLM:i:%d\\n'\n",
    "                                      % (0, 0, lap))\n",
    "                continue\n",
    "\n",
    "            # Check if downstream sequence matches trimmed T-stretches \n",
    "            if not downstream_seq[:-1] == 'A' * (t_stretch_len - 1):\n",
    "                match = re.match('A+', downstream_seq)\n",
    "                matched_len = len(match.group()) if match else 0\n",
    "                # ML: Matched Length \n",
    "                # UL: Unmatched Length\n",
    "                # LM: Last Mapped position(UL) \n",
    "                pass_file.write(line.strip() + '\\tML:i:%d\\tUL:i:%d\\tLM:i:%d\\n'\n",
    "                                    % (matched_len, t_stretch_len - matched_len, lap))\n",
    "            # If t_stretch_len == 1, the following block will also run.\n",
    "            else:\n",
    "                match = re.match('A*', downstream_seq)\n",
    "                matched_len = len(match.group())  \n",
    "                nonpass_file.write(line.strip() + '\\tML:i:%d\\tUL:i:%d\\tLM:i:%d\\n'\n",
    "                                      % (matched_len, t_stretch_len - matched_len, lap))\n",
    "    pass_file.close()\n",
    "    nonpass_file.close()\n",
    "    if spike_in: spike_in_file.close()\n",
    "    \n",
    "    os.system('rm ' + sam_file)"
   ]
  },
  {
   "cell_type": "code",
   "execution_count": 71,
   "metadata": {
    "ExecuteTime": {
     "end_time": "2019-03-14T23:32:12.193174Z",
     "start_time": "2019-03-14T23:29:33.593997Z"
    },
    "scrolled": true
   },
   "outputs": [
    {
     "name": "stdout",
     "output_type": "stream",
     "text": [
      "\n",
      "Picking PASS reads from the following files:\n",
      "\n",
      "C2C12D_1.Aligned.out.sam\n",
      "C2C12D_2.Aligned.out.sam\n",
      "C2C12P_1.Aligned.out.sam\n",
      "C2C12P_2.Aligned.out.sam\n",
      "\n",
      "Done!\n"
     ]
    }
   ],
   "source": [
    "# List of sam files as input\n",
    "sam_files = sorted(str(sam_file) for sam_file in sam_dir.glob('*Aligned.out.sam'))\n",
    "l = len(sam_files)\n",
    "\n",
    "print('\\nPicking PASS reads from the following files:\\n') \n",
    "print('\\n'.join([sam_file.split('/')[-1] for sam_file in sam_files]))\n",
    "\n",
    "# Genome loaded into memory is available for all processes\n",
    "genome = load_fasta_genome(genome_dir)\n",
    "\n",
    "# Try parallel computing, which requires more disk space\n",
    "try:\n",
    "    with mp.Pool(processes = WORKERS) as pool:\n",
    "        pool.starmap(split_sam, zip(sam_files, [MIN_MAPQ]*l, [SEQ_DIRECTION]*l, [SPIKE_IN]*l))\n",
    "except OSError:\n",
    "    os.system(f'rm {str(sam_dir)}/*pass')\n",
    "    if SPIKE_IN: os.system(f'rm {str(sam_dir)}/*.spike_in')\n",
    "    print(\"\\nNo space left on device. Trying again with parallel computing turned off.\")\n",
    "    for sam_file in sam_files:\n",
    "        print(\"Processing \", sam_file)\n",
    "        split_sam(sam_file = sam_file)\n",
    "\n",
    "# Release memory    \n",
    "del genome  \n",
    "\n",
    "print('\\nDone!') "
   ]
  },
  {
   "cell_type": "markdown",
   "metadata": {},
   "source": [
    "## Pick unique PASS reads"
   ]
  },
  {
   "cell_type": "code",
   "execution_count": 72,
   "metadata": {
    "ExecuteTime": {
     "end_time": "2019-03-14T23:32:49.215886Z",
     "start_time": "2019-03-14T23:32:12.292069Z"
    },
    "code_folding": []
   },
   "outputs": [
    {
     "name": "stdout",
     "output_type": "stream",
     "text": [
      "\n",
      "Picking unique PASS reads from the following files:\n",
      "\n",
      "C2C12D_1.Aligned.out.pass\n",
      "C2C12D_2.Aligned.out.pass\n",
      "C2C12P_1.Aligned.out.pass\n",
      "C2C12P_2.Aligned.out.pass\n",
      "\n",
      "Done!\n"
     ]
    }
   ],
   "source": [
    "pass_files = sorted(str(pass_file) for pass_file in sam_dir.glob('*Aligned.out.pass'))\n",
    "print('\\nPicking unique PASS reads from the following files:\\n') \n",
    "print('\\n'.join([pass_file.split('/')[-1] for pass_file in pass_files]))\n",
    "\n",
    "with mp.Pool(processes = WORKERS) as pool:\n",
    "    pool.starmap(pick_unique_pass, list(zip(pass_files, list(random_NT_lens))))\n",
    "    \n",
    "print('\\nDone!')     "
   ]
  },
  {
   "cell_type": "markdown",
   "metadata": {},
   "source": [
    "## Cluster all PASS or unique PASS reads"
   ]
  },
  {
   "cell_type": "code",
   "execution_count": 73,
   "metadata": {
    "ExecuteTime": {
     "end_time": "2019-03-14T23:34:27.141544Z",
     "start_time": "2019-03-14T23:32:49.307661Z"
    }
   },
   "outputs": [
    {
     "name": "stdout",
     "output_type": "stream",
     "text": [
      "Reading sam files containing PASS reads ...\n",
      "Clustering reads ...\n",
      "Writing to output file ...\n",
      "Done!\n"
     ]
    }
   ],
   "source": [
    "# Cluster all PASS reads\n",
    "pass_files = sorted(str(pass_file) for pass_file in sam_dir.glob('*Aligned.out.pass'))\n",
    "pass_reads_output = result_dir/'clusters.using.all.reads.csv'\n",
    "\n",
    "cluster_pass_reads(pass_files, output = pass_reads_output,\n",
    "                   direction = SEQ_DIRECTION, max_distance = MAX_DISTANCE)"
   ]
  },
  {
   "cell_type": "code",
   "execution_count": 74,
   "metadata": {
    "ExecuteTime": {
     "end_time": "2019-03-14T23:35:37.240761Z",
     "start_time": "2019-03-14T23:34:27.221564Z"
    },
    "scrolled": false
   },
   "outputs": [
    {
     "name": "stdout",
     "output_type": "stream",
     "text": [
      "Reading sam files containing PASS reads ...\n",
      "Clustering reads ...\n",
      "Writing to output file ...\n",
      "Done!\n"
     ]
    }
   ],
   "source": [
    "# Cluster unique PASS reads\n",
    "upass_files = sorted(str(pass_file) for pass_file in sam_dir.glob('*Aligned.out.unique.pass'))\n",
    "upass_reads_output = result_dir/'clusters.using.unique.reads.csv'\n",
    "\n",
    "cluster_pass_reads(upass_files, output = upass_reads_output,\n",
    "                   direction = SEQ_DIRECTION, max_distance = MAX_DISTANCE)\n"
   ]
  },
  {
   "cell_type": "markdown",
   "metadata": {},
   "source": [
    "## Read number statistics"
   ]
  },
  {
   "cell_type": "code",
   "execution_count": 106,
   "metadata": {
    "ExecuteTime": {
     "end_time": "2019-03-15T00:08:40.666797Z",
     "start_time": "2019-03-15T00:08:36.880274Z"
    }
   },
   "outputs": [],
   "source": [
    "with mp.Pool(processes = WORKERS) as pool: \n",
    "    pass_counts = pool.map(count_sam, pass_files)\n",
    "    \n",
    "pass_counts = pd.DataFrame(pass_counts, columns = ['Sample', 'PASS'])\n",
    "pass_counts.iloc[:,0] = pass_counts.iloc[:,0].str.replace('.Aligned.out.pass', '')\n",
    "pass_counts = pass_counts.set_index('Sample')   \n",
    "\n",
    "\n",
    "\n",
    "nonpass_files = sorted(str(nonpass_file) for nonpass_file in sam_dir.glob('*Aligned.out.nonpass'))\n",
    "with mp.Pool(processes = WORKERS) as pool: \n",
    "    nonpass_counts = pool.map(count_sam, nonpass_files)\n",
    "    \n",
    "nonpass_counts = pd.DataFrame(nonpass_counts, columns = ['Sample', 'nonPASS'])\n",
    "nonpass_counts.iloc[:,0] = nonpass_counts.iloc[:,0].str.replace('.Aligned.out.nonpass', '')\n",
    "nonpass_counts = nonpass_counts.set_index('Sample')  \n",
    "\n",
    "\n",
    "    \n",
    "with mp.Pool(processes = WORKERS) as pool: \n",
    "    upass_counts = pool.map(count_sam, upass_files)\n",
    "    \n",
    "upass_counts = pd.DataFrame(upass_counts, columns = ['Sample', 'uPASS'])\n",
    "upass_counts.iloc[:,0] = upass_counts.iloc[:,0].str.replace('.Aligned.out.unique.pass', '')\n",
    "upass_counts = upass_counts.set_index('Sample')    \n",
    "\n",
    "\n",
    "\n",
    "if SPIKE_IN: \n",
    "    spike_in_files = sorted(str(nonpass_file) for nonpass_file in sam_dir.glob('*Aligned.out.spike_in'))\n",
    "    with mp.Pool(processes = WORKERS) as pool: \n",
    "        spike_in_counts = pool.map(count_sam, spike_in_files)\n",
    "    spike_in_counts = pd.DataFrame(spike_in_counts, columns = ['Sample', 'Spike-in'])\n",
    "    spike_in_counts.iloc[:,0] = spike_in_counts.iloc[:,0].str.replace('.Aligned.out.Spike-in', '')\n",
    "    spike_in_counts = spike_in_counts.set_index('Sample') \n",
    "    \n"
   ]
  },
  {
   "cell_type": "code",
   "execution_count": 140,
   "metadata": {
    "ExecuteTime": {
     "end_time": "2019-03-15T00:21:22.463947Z",
     "start_time": "2019-03-15T00:21:22.420422Z"
    },
    "scrolled": false
   },
   "outputs": [
    {
     "data": {
      "text/html": [
       "<div>\n",
       "<style>\n",
       "    .dataframe thead tr:only-child th {\n",
       "        text-align: right;\n",
       "    }\n",
       "\n",
       "    .dataframe thead th {\n",
       "        text-align: left;\n",
       "    }\n",
       "\n",
       "    .dataframe tbody tr th {\n",
       "        vertical-align: top;\n",
       "    }\n",
       "</style>\n",
       "<table border=\"1\" class=\"dataframe\">\n",
       "  <thead>\n",
       "    <tr style=\"text-align: right;\">\n",
       "      <th></th>\n",
       "      <th>Raw</th>\n",
       "      <th>Cut</th>\n",
       "      <th>Trimmed</th>\n",
       "      <th>Mapped</th>\n",
       "      <th>PASS</th>\n",
       "      <th>nonPASS</th>\n",
       "      <th>uPASS</th>\n",
       "      <th>Cut%</th>\n",
       "      <th>Trimmed%</th>\n",
       "      <th>MAP%</th>\n",
       "      <th>PASS%</th>\n",
       "      <th>uPASS%</th>\n",
       "    </tr>\n",
       "    <tr>\n",
       "      <th>Sample</th>\n",
       "      <th></th>\n",
       "      <th></th>\n",
       "      <th></th>\n",
       "      <th></th>\n",
       "      <th></th>\n",
       "      <th></th>\n",
       "      <th></th>\n",
       "      <th></th>\n",
       "      <th></th>\n",
       "      <th></th>\n",
       "      <th></th>\n",
       "      <th></th>\n",
       "    </tr>\n",
       "  </thead>\n",
       "  <tbody>\n",
       "    <tr>\n",
       "      <th>C2C12D_1</th>\n",
       "      <td>12901771</td>\n",
       "      <td>12397026</td>\n",
       "      <td>9739930</td>\n",
       "      <td>8537730</td>\n",
       "      <td>4489793</td>\n",
       "      <td>4047937</td>\n",
       "      <td>1832400</td>\n",
       "      <td>96.1</td>\n",
       "      <td>78.6</td>\n",
       "      <td>68.9</td>\n",
       "      <td>52.6</td>\n",
       "      <td>40.8</td>\n",
       "    </tr>\n",
       "    <tr>\n",
       "      <th>C2C12D_2</th>\n",
       "      <td>16763626</td>\n",
       "      <td>15978740</td>\n",
       "      <td>11795122</td>\n",
       "      <td>10972179</td>\n",
       "      <td>5169233</td>\n",
       "      <td>5802946</td>\n",
       "      <td>2073143</td>\n",
       "      <td>95.3</td>\n",
       "      <td>73.8</td>\n",
       "      <td>68.7</td>\n",
       "      <td>47.1</td>\n",
       "      <td>40.1</td>\n",
       "    </tr>\n",
       "    <tr>\n",
       "      <th>C2C12P_1</th>\n",
       "      <td>11280672</td>\n",
       "      <td>10775762</td>\n",
       "      <td>8563380</td>\n",
       "      <td>7143739</td>\n",
       "      <td>3836394</td>\n",
       "      <td>3307345</td>\n",
       "      <td>1628222</td>\n",
       "      <td>95.5</td>\n",
       "      <td>79.5</td>\n",
       "      <td>66.3</td>\n",
       "      <td>53.7</td>\n",
       "      <td>42.4</td>\n",
       "    </tr>\n",
       "    <tr>\n",
       "      <th>C2C12P_2</th>\n",
       "      <td>16568113</td>\n",
       "      <td>15742372</td>\n",
       "      <td>11733243</td>\n",
       "      <td>10406929</td>\n",
       "      <td>4826574</td>\n",
       "      <td>5580355</td>\n",
       "      <td>2031736</td>\n",
       "      <td>95.0</td>\n",
       "      <td>74.5</td>\n",
       "      <td>66.1</td>\n",
       "      <td>46.4</td>\n",
       "      <td>42.1</td>\n",
       "    </tr>\n",
       "  </tbody>\n",
       "</table>\n",
       "</div>"
      ],
      "text/plain": [
       "               Raw       Cut   Trimmed    Mapped     PASS  nonPASS    uPASS  \\\n",
       "Sample                                                                        \n",
       "C2C12D_1  12901771  12397026   9739930   8537730  4489793  4047937  1832400   \n",
       "C2C12D_2  16763626  15978740  11795122  10972179  5169233  5802946  2073143   \n",
       "C2C12P_1  11280672  10775762   8563380   7143739  3836394  3307345  1628222   \n",
       "C2C12P_2  16568113  15742372  11733243  10406929  4826574  5580355  2031736   \n",
       "\n",
       "          Cut%  Trimmed%  MAP%  PASS%  uPASS%  \n",
       "Sample                                         \n",
       "C2C12D_1  96.1      78.6  68.9   52.6    40.8  \n",
       "C2C12D_2  95.3      73.8  68.7   47.1    40.1  \n",
       "C2C12P_1  95.5      79.5  66.3   53.7    42.4  \n",
       "C2C12P_2  95.0      74.5  66.1   46.4    42.1  "
      ]
     },
     "metadata": {},
     "output_type": "display_data"
    }
   ],
   "source": [
    "mapped_counts = pd.DataFrame(pd.concat([pass_counts, nonpass_counts], \n",
    "                                       axis=1).sum(axis=1), columns = ['Mapped'])\n",
    "\n",
    "if SPIKE_IN: \n",
    "    count_stats = pd.concat([fastq_counts, mapped_counts, pass_counts, \n",
    "                             nonpass_counts, upass_counts, spike_in_counts], axis=1)\n",
    "else:\n",
    "    count_stats = pd.concat([fastq_counts, mapped_counts, pass_counts, \n",
    "                             nonpass_counts, upass_counts], axis=1)\n",
    "\n",
    "count_stats['Cut%'] = round(count_stats.Cut/count_stats.Raw * 100, 1)\n",
    "count_stats['Trimmed%'] = round(count_stats.Trimmed/count_stats.Cut * 100, 1)\n",
    "count_stats['MAP%'] = round(count_stats.Mapped/count_stats.Cut * 100, 1)\n",
    "count_stats['PASS%'] = round(count_stats.PASS/count_stats.Mapped * 100, 1)\n",
    "count_stats['uPASS%'] = round(count_stats.uPASS/count_stats.PASS * 100, 1)\n",
    "\n",
    "count_stats.to_csv(result_dir/'ReadStats.csv')\n",
    "\n",
    "display(count_stats)"
   ]
  },
  {
   "cell_type": "markdown",
   "metadata": {},
   "source": [
    "## T-stretch statistics"
   ]
  },
  {
   "cell_type": "code",
   "execution_count": 141,
   "metadata": {
    "ExecuteTime": {
     "end_time": "2019-03-15T00:22:14.269007Z",
     "start_time": "2019-03-15T00:22:04.460085Z"
    },
    "scrolled": true
   },
   "outputs": [],
   "source": [
    "pass_files = sorted([str(sam_file) for sam_file in sam_dir.glob('*.Aligned.out.pass')])\n",
    "nonpass_files = sorted([str(sam_file) for sam_file in sam_dir.glob('*.Aligned.out.nonpass')])\n",
    "\n",
    "pass_TS = summarize_5T_stretch(sam_files = pass_files, processes = WORKERS, max_TS = 25)\n",
    "nonpass_TS = summarize_5T_stretch(sam_files = nonpass_files, processes = WORKERS, max_TS = 25)\n",
    "\n",
    "pass_TS.columns = pass_TS.columns + '.PASS'\n",
    "nonpass_TS.columns = nonpass_TS.columns + '.nonPASS'\n",
    "\n",
    "TS = pd.concat([pass_TS, nonpass_TS], axis = 1)"
   ]
  },
  {
   "cell_type": "code",
   "execution_count": 142,
   "metadata": {
    "ExecuteTime": {
     "end_time": "2019-03-15T00:22:14.400392Z",
     "start_time": "2019-03-15T00:22:14.379236Z"
    },
    "scrolled": false
   },
   "outputs": [
    {
     "data": {
      "text/html": [
       "<div>\n",
       "<style>\n",
       "    .dataframe thead tr:only-child th {\n",
       "        text-align: right;\n",
       "    }\n",
       "\n",
       "    .dataframe thead th {\n",
       "        text-align: left;\n",
       "    }\n",
       "\n",
       "    .dataframe tbody tr th {\n",
       "        vertical-align: top;\n",
       "    }\n",
       "</style>\n",
       "<table border=\"1\" class=\"dataframe\">\n",
       "  <thead>\n",
       "    <tr style=\"text-align: right;\">\n",
       "      <th></th>\n",
       "      <th>C2C12D_1.PASS</th>\n",
       "      <th>C2C12D_2.PASS</th>\n",
       "      <th>C2C12P_1.PASS</th>\n",
       "      <th>C2C12P_2.PASS</th>\n",
       "      <th>C2C12D_1.nonPASS</th>\n",
       "      <th>C2C12D_2.nonPASS</th>\n",
       "      <th>C2C12P_1.nonPASS</th>\n",
       "      <th>C2C12P_2.nonPASS</th>\n",
       "    </tr>\n",
       "    <tr>\n",
       "      <th>T_Stretch_Length</th>\n",
       "      <th></th>\n",
       "      <th></th>\n",
       "      <th></th>\n",
       "      <th></th>\n",
       "      <th></th>\n",
       "      <th></th>\n",
       "      <th></th>\n",
       "      <th></th>\n",
       "    </tr>\n",
       "  </thead>\n",
       "  <tbody>\n",
       "    <tr>\n",
       "      <th>0</th>\n",
       "      <td>0</td>\n",
       "      <td>0</td>\n",
       "      <td>0</td>\n",
       "      <td>0</td>\n",
       "      <td>2000224</td>\n",
       "      <td>3126792</td>\n",
       "      <td>1634765</td>\n",
       "      <td>2960093</td>\n",
       "    </tr>\n",
       "    <tr>\n",
       "      <th>1</th>\n",
       "      <td>0</td>\n",
       "      <td>0</td>\n",
       "      <td>0</td>\n",
       "      <td>0</td>\n",
       "      <td>1065704</td>\n",
       "      <td>1421741</td>\n",
       "      <td>845853</td>\n",
       "      <td>1360394</td>\n",
       "    </tr>\n",
       "    <tr>\n",
       "      <th>2</th>\n",
       "      <td>26951</td>\n",
       "      <td>33287</td>\n",
       "      <td>23126</td>\n",
       "      <td>34187</td>\n",
       "      <td>505352</td>\n",
       "      <td>657286</td>\n",
       "      <td>408240</td>\n",
       "      <td>651404</td>\n",
       "    </tr>\n",
       "    <tr>\n",
       "      <th>3</th>\n",
       "      <td>12848</td>\n",
       "      <td>16625</td>\n",
       "      <td>11027</td>\n",
       "      <td>17603</td>\n",
       "      <td>143384</td>\n",
       "      <td>191543</td>\n",
       "      <td>123008</td>\n",
       "      <td>199540</td>\n",
       "    </tr>\n",
       "    <tr>\n",
       "      <th>4</th>\n",
       "      <td>12911</td>\n",
       "      <td>16502</td>\n",
       "      <td>12140</td>\n",
       "      <td>19292</td>\n",
       "      <td>40562</td>\n",
       "      <td>54154</td>\n",
       "      <td>34155</td>\n",
       "      <td>56241</td>\n",
       "    </tr>\n",
       "    <tr>\n",
       "      <th>5</th>\n",
       "      <td>22911</td>\n",
       "      <td>27231</td>\n",
       "      <td>21657</td>\n",
       "      <td>31764</td>\n",
       "      <td>15036</td>\n",
       "      <td>18499</td>\n",
       "      <td>13253</td>\n",
       "      <td>20968</td>\n",
       "    </tr>\n",
       "    <tr>\n",
       "      <th>6</th>\n",
       "      <td>43355</td>\n",
       "      <td>50925</td>\n",
       "      <td>42752</td>\n",
       "      <td>60634</td>\n",
       "      <td>14067</td>\n",
       "      <td>16180</td>\n",
       "      <td>13092</td>\n",
       "      <td>18802</td>\n",
       "    </tr>\n",
       "    <tr>\n",
       "      <th>7</th>\n",
       "      <td>88473</td>\n",
       "      <td>102926</td>\n",
       "      <td>87717</td>\n",
       "      <td>116531</td>\n",
       "      <td>29153</td>\n",
       "      <td>36545</td>\n",
       "      <td>25915</td>\n",
       "      <td>36937</td>\n",
       "    </tr>\n",
       "    <tr>\n",
       "      <th>8</th>\n",
       "      <td>167443</td>\n",
       "      <td>196638</td>\n",
       "      <td>163820</td>\n",
       "      <td>200532</td>\n",
       "      <td>30080</td>\n",
       "      <td>37007</td>\n",
       "      <td>29116</td>\n",
       "      <td>40104</td>\n",
       "    </tr>\n",
       "    <tr>\n",
       "      <th>9</th>\n",
       "      <td>356048</td>\n",
       "      <td>418779</td>\n",
       "      <td>336612</td>\n",
       "      <td>401294</td>\n",
       "      <td>37015</td>\n",
       "      <td>44958</td>\n",
       "      <td>35644</td>\n",
       "      <td>46483</td>\n",
       "    </tr>\n",
       "    <tr>\n",
       "      <th>10</th>\n",
       "      <td>712882</td>\n",
       "      <td>812345</td>\n",
       "      <td>638599</td>\n",
       "      <td>762194</td>\n",
       "      <td>41014</td>\n",
       "      <td>49609</td>\n",
       "      <td>34460</td>\n",
       "      <td>44114</td>\n",
       "    </tr>\n",
       "    <tr>\n",
       "      <th>11</th>\n",
       "      <td>1045046</td>\n",
       "      <td>1184801</td>\n",
       "      <td>895236</td>\n",
       "      <td>1092507</td>\n",
       "      <td>46646</td>\n",
       "      <td>54291</td>\n",
       "      <td>40620</td>\n",
       "      <td>52059</td>\n",
       "    </tr>\n",
       "    <tr>\n",
       "      <th>12</th>\n",
       "      <td>1075473</td>\n",
       "      <td>1228466</td>\n",
       "      <td>879020</td>\n",
       "      <td>1115172</td>\n",
       "      <td>46088</td>\n",
       "      <td>54174</td>\n",
       "      <td>38123</td>\n",
       "      <td>51211</td>\n",
       "    </tr>\n",
       "    <tr>\n",
       "      <th>13</th>\n",
       "      <td>603811</td>\n",
       "      <td>704143</td>\n",
       "      <td>480882</td>\n",
       "      <td>636132</td>\n",
       "      <td>22279</td>\n",
       "      <td>26729</td>\n",
       "      <td>19966</td>\n",
       "      <td>26599</td>\n",
       "    </tr>\n",
       "    <tr>\n",
       "      <th>14</th>\n",
       "      <td>223625</td>\n",
       "      <td>265045</td>\n",
       "      <td>171920</td>\n",
       "      <td>237452</td>\n",
       "      <td>8269</td>\n",
       "      <td>9764</td>\n",
       "      <td>8055</td>\n",
       "      <td>11082</td>\n",
       "    </tr>\n",
       "    <tr>\n",
       "      <th>15</th>\n",
       "      <td>61913</td>\n",
       "      <td>71642</td>\n",
       "      <td>45674</td>\n",
       "      <td>64324</td>\n",
       "      <td>2327</td>\n",
       "      <td>2874</td>\n",
       "      <td>2435</td>\n",
       "      <td>3380</td>\n",
       "    </tr>\n",
       "    <tr>\n",
       "      <th>16</th>\n",
       "      <td>15025</td>\n",
       "      <td>16537</td>\n",
       "      <td>10403</td>\n",
       "      <td>15001</td>\n",
       "      <td>378</td>\n",
       "      <td>454</td>\n",
       "      <td>378</td>\n",
       "      <td>547</td>\n",
       "    </tr>\n",
       "    <tr>\n",
       "      <th>17</th>\n",
       "      <td>4913</td>\n",
       "      <td>5147</td>\n",
       "      <td>3176</td>\n",
       "      <td>4604</td>\n",
       "      <td>113</td>\n",
       "      <td>95</td>\n",
       "      <td>86</td>\n",
       "      <td>124</td>\n",
       "    </tr>\n",
       "    <tr>\n",
       "      <th>18</th>\n",
       "      <td>2494</td>\n",
       "      <td>2703</td>\n",
       "      <td>1815</td>\n",
       "      <td>2550</td>\n",
       "      <td>44</td>\n",
       "      <td>38</td>\n",
       "      <td>37</td>\n",
       "      <td>52</td>\n",
       "    </tr>\n",
       "    <tr>\n",
       "      <th>19</th>\n",
       "      <td>2182</td>\n",
       "      <td>2323</td>\n",
       "      <td>1629</td>\n",
       "      <td>2179</td>\n",
       "      <td>49</td>\n",
       "      <td>48</td>\n",
       "      <td>43</td>\n",
       "      <td>44</td>\n",
       "    </tr>\n",
       "    <tr>\n",
       "      <th>20</th>\n",
       "      <td>2254</td>\n",
       "      <td>2603</td>\n",
       "      <td>1734</td>\n",
       "      <td>2289</td>\n",
       "      <td>24</td>\n",
       "      <td>44</td>\n",
       "      <td>26</td>\n",
       "      <td>43</td>\n",
       "    </tr>\n",
       "    <tr>\n",
       "      <th>21</th>\n",
       "      <td>2177</td>\n",
       "      <td>2553</td>\n",
       "      <td>1793</td>\n",
       "      <td>2388</td>\n",
       "      <td>49</td>\n",
       "      <td>48</td>\n",
       "      <td>36</td>\n",
       "      <td>51</td>\n",
       "    </tr>\n",
       "    <tr>\n",
       "      <th>22</th>\n",
       "      <td>2095</td>\n",
       "      <td>2338</td>\n",
       "      <td>1680</td>\n",
       "      <td>2270</td>\n",
       "      <td>42</td>\n",
       "      <td>37</td>\n",
       "      <td>19</td>\n",
       "      <td>47</td>\n",
       "    </tr>\n",
       "    <tr>\n",
       "      <th>23</th>\n",
       "      <td>1504</td>\n",
       "      <td>1721</td>\n",
       "      <td>1336</td>\n",
       "      <td>1820</td>\n",
       "      <td>18</td>\n",
       "      <td>20</td>\n",
       "      <td>14</td>\n",
       "      <td>21</td>\n",
       "    </tr>\n",
       "    <tr>\n",
       "      <th>24</th>\n",
       "      <td>1011</td>\n",
       "      <td>1116</td>\n",
       "      <td>925</td>\n",
       "      <td>1222</td>\n",
       "      <td>13</td>\n",
       "      <td>13</td>\n",
       "      <td>5</td>\n",
       "      <td>13</td>\n",
       "    </tr>\n",
       "    <tr>\n",
       "      <th>25</th>\n",
       "      <td>540</td>\n",
       "      <td>572</td>\n",
       "      <td>451</td>\n",
       "      <td>702</td>\n",
       "      <td>6</td>\n",
       "      <td>3</td>\n",
       "      <td>0</td>\n",
       "      <td>2</td>\n",
       "    </tr>\n",
       "  </tbody>\n",
       "</table>\n",
       "</div>"
      ],
      "text/plain": [
       "                  C2C12D_1.PASS  C2C12D_2.PASS  C2C12P_1.PASS  C2C12P_2.PASS  \\\n",
       "T_Stretch_Length                                                               \n",
       "0                             0              0              0              0   \n",
       "1                             0              0              0              0   \n",
       "2                         26951          33287          23126          34187   \n",
       "3                         12848          16625          11027          17603   \n",
       "4                         12911          16502          12140          19292   \n",
       "5                         22911          27231          21657          31764   \n",
       "6                         43355          50925          42752          60634   \n",
       "7                         88473         102926          87717         116531   \n",
       "8                        167443         196638         163820         200532   \n",
       "9                        356048         418779         336612         401294   \n",
       "10                       712882         812345         638599         762194   \n",
       "11                      1045046        1184801         895236        1092507   \n",
       "12                      1075473        1228466         879020        1115172   \n",
       "13                       603811         704143         480882         636132   \n",
       "14                       223625         265045         171920         237452   \n",
       "15                        61913          71642          45674          64324   \n",
       "16                        15025          16537          10403          15001   \n",
       "17                         4913           5147           3176           4604   \n",
       "18                         2494           2703           1815           2550   \n",
       "19                         2182           2323           1629           2179   \n",
       "20                         2254           2603           1734           2289   \n",
       "21                         2177           2553           1793           2388   \n",
       "22                         2095           2338           1680           2270   \n",
       "23                         1504           1721           1336           1820   \n",
       "24                         1011           1116            925           1222   \n",
       "25                          540            572            451            702   \n",
       "\n",
       "                  C2C12D_1.nonPASS  C2C12D_2.nonPASS  C2C12P_1.nonPASS  \\\n",
       "T_Stretch_Length                                                         \n",
       "0                          2000224           3126792           1634765   \n",
       "1                          1065704           1421741            845853   \n",
       "2                           505352            657286            408240   \n",
       "3                           143384            191543            123008   \n",
       "4                            40562             54154             34155   \n",
       "5                            15036             18499             13253   \n",
       "6                            14067             16180             13092   \n",
       "7                            29153             36545             25915   \n",
       "8                            30080             37007             29116   \n",
       "9                            37015             44958             35644   \n",
       "10                           41014             49609             34460   \n",
       "11                           46646             54291             40620   \n",
       "12                           46088             54174             38123   \n",
       "13                           22279             26729             19966   \n",
       "14                            8269              9764              8055   \n",
       "15                            2327              2874              2435   \n",
       "16                             378               454               378   \n",
       "17                             113                95                86   \n",
       "18                              44                38                37   \n",
       "19                              49                48                43   \n",
       "20                              24                44                26   \n",
       "21                              49                48                36   \n",
       "22                              42                37                19   \n",
       "23                              18                20                14   \n",
       "24                              13                13                 5   \n",
       "25                               6                 3                 0   \n",
       "\n",
       "                  C2C12P_2.nonPASS  \n",
       "T_Stretch_Length                    \n",
       "0                          2960093  \n",
       "1                          1360394  \n",
       "2                           651404  \n",
       "3                           199540  \n",
       "4                            56241  \n",
       "5                            20968  \n",
       "6                            18802  \n",
       "7                            36937  \n",
       "8                            40104  \n",
       "9                            46483  \n",
       "10                           44114  \n",
       "11                           52059  \n",
       "12                           51211  \n",
       "13                           26599  \n",
       "14                           11082  \n",
       "15                            3380  \n",
       "16                             547  \n",
       "17                             124  \n",
       "18                              52  \n",
       "19                              44  \n",
       "20                              43  \n",
       "21                              51  \n",
       "22                              47  \n",
       "23                              21  \n",
       "24                              13  \n",
       "25                               2  "
      ]
     },
     "metadata": {},
     "output_type": "display_data"
    }
   ],
   "source": [
    "display(TS)"
   ]
  },
  {
   "cell_type": "code",
   "execution_count": 143,
   "metadata": {
    "ExecuteTime": {
     "end_time": "2019-03-15T00:22:16.687469Z",
     "start_time": "2019-03-15T00:22:16.015747Z"
    },
    "scrolled": false
   },
   "outputs": [
    {
     "data": {
      "text/plain": [
       "png \n",
       "  2 \n"
      ]
     },
     "metadata": {},
     "output_type": "display_data"
    },
    {
     "data": {
      "image/png": "[encoded data removed]"
     },
     "metadata": {},
     "output_type": "display_data"
    }
   ],
   "source": [
    "%%R -i result_dir_str,TS -w 1000 -h 800 -r 100\n",
    "\n",
    "require(dplyr)\n",
    "require(tidyr)\n",
    "require(ggplot2)\n",
    "\n",
    "# Calculation using dplyr and tidyr\n",
    "TS = mutate(TS, T_Stretch_Length = as.numeric(rownames(TS))) %>% \n",
    "     gather(sample_name, Count, -T_Stretch_Length) %>%\n",
    "     mutate(Type = sub(\"^.+\\\\.(.+)$\", \"\\\\1\", sample_name)) %>%\n",
    "     mutate(Sample = sub(\"(^.+)\\\\..+$\", \"\\\\1\", sample_name)) %>%\n",
    "     group_by(Sample) %>% \n",
    "     mutate(Fraction = Count/sum(Count))  \n",
    "\n",
    "# Create plot \n",
    "p = ggplot(TS, aes(x = T_Stretch_Length, y = Fraction, color = Sample)) + \n",
    "    geom_line(aes(linetype = Type), size = 1) + \n",
    "    scale_linetype_manual(values = c(3,1)) +\n",
    "    scale_x_continuous(breaks = 0:25) +\n",
    "    theme(legend.position=c(0.8, 0.5))  + \n",
    "    ggtitle(\"Distribution of 5' T-Stretch Length\") +\n",
    "    theme(plot.title = element_text(hjust = 0.5))\n",
    "\n",
    "# Display in notebook\n",
    "print(p)\n",
    "\n",
    "# Save to pdf\n",
    "pdf(file.path(result_dir_str, 'T_stretch_len_all.pdf'), 8, 6)\n",
    "print(p)\n",
    "dev.off()"
   ]
  },
  {
   "cell_type": "markdown",
   "metadata": {},
   "source": [
    "## Create UCSC genome browser tracks "
   ]
  },
  {
   "cell_type": "code",
   "execution_count": 40,
   "metadata": {
    "ExecuteTime": {
     "end_time": "2019-03-24T22:18:17.067346Z",
     "start_time": "2019-03-24T22:18:17.051266Z"
    }
   },
   "outputs": [],
   "source": [
    "pass_files = sorted([str(sam_file) for sam_file in sam_dir.glob('*.Aligned.out.pass')])\n",
    "nonpass_files = sorted([str(sam_file) for sam_file in sam_dir.glob('*.Aligned.out.nonpass')])"
   ]
  },
  {
   "cell_type": "code",
   "execution_count": 15,
   "metadata": {
    "ExecuteTime": {
     "end_time": "2019-03-19T15:38:36.570529Z",
     "start_time": "2019-03-19T15:36:41.021109Z"
    }
   },
   "outputs": [],
   "source": [
    "# Make UCSC genome browser tracks for PASS reads\n",
    "make_url(project = PROJECT, experiment = EXPERIMENT, sam_dir= sam_dir, sam_files = pass_files, \n",
    "         genome_size = genome_size, sample_description = sample_description, processes = WORKERS, \n",
    "         keep_bam = False, bigDataUrl = f'http://{HTTP_SERVER}/{HTTP_USER}/bigwig/')\n",
    "\n",
    "# Prepare for uploading files\n",
    "pass_bw_dir = sam_dir/PROJECT/EXPERIMENT/'PASS'\n",
    "pass_bw_dir.mkdir(parents=True, exist_ok=True)\n",
    "\n",
    "os.system(f'mv {str(sam_dir)}/*.bw {str(pass_bw_dir)}')\n",
    "os.system(f'mv {str(sam_dir)}/bigwigCaller.txt {str(pass_bw_dir)}')"
   ]
  },
  {
   "cell_type": "code",
   "execution_count": 17,
   "metadata": {
    "ExecuteTime": {
     "end_time": "2019-03-19T15:40:55.124267Z",
     "start_time": "2019-03-19T15:38:36.599351Z"
    }
   },
   "outputs": [],
   "source": [
    "# Make UCSC genome browser tracks for nonPASS reads\n",
    "make_url(project = PROJECT, experiment = EXPERIMENT, sam_dir= sam_dir, sam_files = nonpass_files, \n",
    "         genome_size = genome_size, sample_description = sample_description, processes = WORKERS,\n",
    "         keep_bam = False, bigDataUrl = f'http://{HTTP_SERVER}/{HTTP_USER}/bigwig/')\n",
    "\n",
    "# Prepare for uploading files\n",
    "nonpass_bw_dir = sam_dir/PROJECT/EXPERIMENT/'nonPASS'\n",
    "nonpass_bw_dir.mkdir(parents=True, exist_ok=True)\n",
    "\n",
    "os.system(f'mv {str(sam_dir)}/*.bw {str(nonpass_bw_dir)}')\n",
    "os.system(f'mv {str(sam_dir)}/bigwigCaller.txt {str(nonpass_bw_dir)}')"
   ]
  },
  {
   "cell_type": "code",
   "execution_count": 19,
   "metadata": {
    "ExecuteTime": {
     "end_time": "2019-03-19T15:41:17.466716Z",
     "start_time": "2019-03-19T15:40:55.173157Z"
    },
    "scrolled": false
   },
   "outputs": [
    {
     "name": "stdout",
     "output_type": "stream",
     "text": [
      "bigWig files have been uploaded to http server.\n",
      "The following URL for PASS reads will be opened in a new tab automatically:\n",
      "https://genome.ucsc.edu/cgi-bin/hgTracks?db=mm9&position=chr17%3A35092728-35095537&hgct_customText=http://intron.njms.rutgers.edu/zhengdh/bigwig/ER/160411_C2C12_Dif/PASS/bigwigCaller.txt \n",
      "\n",
      "The following URL for nonPASS reads will be opened in a new tab automatically:\n",
      "https://genome.ucsc.edu/cgi-bin/hgTracks?db=mm9&position=chr17%3A35092728-35095537&hgct_customText=http://intron.njms.rutgers.edu/zhengdh/bigwig/ER/160411_C2C12_Dif/nonPASS/bigwigCaller.txt\n"
     ]
    }
   ],
   "source": [
    "# Upload the bigwig and track definition files to the http-enabled server\n",
    "cmd = f'ssh {HTTP_USER}@{HTTP_SERVER} mkdir ~/../www/{HTTP_USER}/bigwig/{PROJECT}'\n",
    "os.system(cmd)\n",
    "\n",
    "cmd = f'scp -r {str(sam_dir/PROJECT/EXPERIMENT)} {HTTP_USER}@{HTTP_SERVER}:~/../www/{HTTP_USER}/bigwig/{PROJECT}'\n",
    "if not os.system(cmd):\n",
    "    print('bigWig files have been uploaded to http server.')\n",
    "    os.system(f'rm -r {str(sam_dir/PROJECT)}')\n",
    "    if SAVE_SPACE: os.system(f'rm -r {str(sam_dir)}')\n",
    "    \n",
    "    pass_url = (f'https://genome.ucsc.edu/cgi-bin/hgTracks?db={GENOME}'\n",
    "                f'&position=chr17%3A35092728-35095537&hgct_customText='\n",
    "                f'http://{HTTP_SERVER}/{HTTP_USER}/bigwig/{PROJECT}/'\n",
    "                f'{EXPERIMENT}/PASS/bigwigCaller.txt'\n",
    "                )    \n",
    "\n",
    "    print('The following URL for PASS reads will be opened in a new tab automatically:')\n",
    "    print(pass_url, '\\n')\n",
    "    sleep(5)\n",
    "    import webbrowser\n",
    "    _ = webbrowser.open(pass_url)\n",
    "\n",
    "    nonpass_url = (f'https://genome.ucsc.edu/cgi-bin/hgTracks?db={GENOME}'\n",
    "                   f'&position=chr17%3A35092728-35095537&hgct_customText='\n",
    "                   f'http://{HTTP_SERVER}/{HTTP_USER}/bigwig/{PROJECT}/'\n",
    "                   f'{EXPERIMENT}/nonPASS/bigwigCaller.txt'\n",
    "                   ) \n",
    "\n",
    "    print('The following URL for both PASS and nonPASS reads will be opened in a new tab automatically:')\n",
    "    print(nonpass_url)\n",
    "    sleep(15)\n",
    "    _ = webbrowser.open(nonpass_url)\n",
    "\n",
    "else:\n",
    "    print('Cannot upload bigWig files to http server. Please make sure the server is available.')"
   ]
  },
  {
   "cell_type": "markdown",
   "metadata": {},
   "source": [
    "As an example, we can take a look at the PASS and nonPASS reads mappted to the 3'UTRs of Nmt1 gene APA isoforms.\n",
    "![Nmt1 3'UTR](images/Nmt1_3UTR.png)\n",
    "We can see that in the PASS tracks, the reads are concentrated at two peaks, representing two pA sites. On the other hand, the nonPASS tracks have lots of reads mapped to the 3'UTRs, although their are peaks at the two pA sites too, suggesting that the nonPASS reads might be useful for validation of APA."
   ]
  },
  {
   "cell_type": "markdown",
   "metadata": {},
   "source": [
    "What are the nonPASS read peaks? Here is one in exon 2 of Nmt1:\n",
    "![Nmt1 exon 2](images/Nmt1_exon_2.png)\n",
    "We can see that the sequence surrounding the 3'end of the reads is highly A-rich. Maybe those seqence can be bind by the DNA/LNA oligo and cut by RNaseH, suggesting that increasing the RNaseH reaction temperature or decreasing the amount of DNA/RNA oligo may may help. "
   ]
  },
  {
   "cell_type": "markdown",
   "metadata": {},
   "source": [
    "**This is the end for this notebook. The pA cluster files can be used for further analysis.**"
   ]
  }
 ],
 "metadata": {
  "kernelspec": {
   "display_name": "Python 3",
   "language": "python",
   "name": "python3"
  },
  "language_info": {
   "codemirror_mode": {
    "name": "ipython",
    "version": 3
   },
   "file_extension": ".py",
   "mimetype": "text/x-python",
   "name": "python",
   "nbconvert_exporter": "python",
   "pygments_lexer": "ipython3",
   "version": "3.6.7"
  },
  "toc": {
   "nav_menu": {},
   "number_sections": true,
   "sideBar": true,
   "skip_h1_title": false,
   "toc_cell": false,
   "toc_position": {
    "height": "841px",
    "left": "0px",
    "right": "1661px",
    "top": "111px",
    "width": "212px"
   },
   "toc_section_display": "block",
   "toc_window_display": true
  },
  "varInspector": {
   "cols": {
    "lenName": 16,
    "lenType": 16,
    "lenVar": 40
   },
   "kernels_config": {
    "python": {
     "delete_cmd_postfix": "",
     "delete_cmd_prefix": "del ",
     "library": "var_list.py",
     "varRefreshCmd": "print(var_dic_list())"
    },
    "r": {
     "delete_cmd_postfix": ") ",
     "delete_cmd_prefix": "rm(",
     "library": "var_list.r",
     "varRefreshCmd": "cat(var_dic_list()) "
    }
   },
   "oldHeight": 745.09091,
   "position": {
    "height": "766px",
    "left": "1307.08px",
    "right": "20px",
    "top": "109.45px",
    "width": "370px"
   },
   "types_to_exclude": [
    "module",
    "function",
    "builtin_function_or_method",
    "instance",
    "_Feature"
   ],
   "varInspector_section_display": "block",
   "window_display": false
  }
 },
 "nbformat": 4,
 "nbformat_minor": 2
}
