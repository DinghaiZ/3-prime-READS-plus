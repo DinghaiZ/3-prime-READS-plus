{
 "cells": [
  {
   "cell_type": "markdown",
   "metadata": {},
   "source": [
    "**What does this pipeline do?**\n",
    "   This pipeline is built to process 3' end sequencing data generated using the [3'READS+ method](https://www.ncbi.nlm.nih.gov/pubmed/27512124 \"Pubmed\"), which produces sequencing reads with ~13 Ts in the beginning of the reads. Reads containing >= 2 extra Ts originated from the poly(A) tail cannot be mapped to the genome and therefore are called PASS (PolyA Site Supporting) reads. The pipeline will search fastq files on the intron server, merge fastq files, do fastq QC, trim 3' adapter, trim 5' Ts, map reads to the genome, identify PASS reads and unique PASS reads, cluster PASS reads for defining poly(A) sites, and create genome browser tracks. Along the way it will generate a fastq QC report, a read statistics report, and a plot showing distributions of 5' T-stretch length.\n",
    "\n",
    "\n",
    "**What's cool about this pipeline?**\n",
    " * I used both python and R seamlessly in one notebook. It is a great pleasure to mix python and R!\n",
    " * I used parallel computing in in both python and R for all the heavy-lifting steps. It only took ~50 min to process 29 G fastq data for 8 samples on a laptop workstation (Lenovo P50 with 4 cores and 48G RAM).\n",
    " * I developed my own algorithms to identify PASS reads and cluster them. The clustering algorithm uses a divide and conquer technique to cluster neighbouring cleavage sites due to microheterogeneity.   "
   ]
  },
  {
   "cell_type": "markdown",
   "metadata": {},
   "source": [
    "To install new package for the environment used by this notebook, type the following in a terminal:\n",
    "python3.6 -m pip install seaborn --user\n",
    "\n",
    "This environment was not managed by conda, thus the following command will not show the current environment:\n",
    "conda env list"
   ]
  },
  {
   "cell_type": "code",
   "execution_count": 304,
   "metadata": {
    "ExecuteTime": {
     "end_time": "2019-03-01T14:07:00.718098Z",
     "start_time": "2019-03-01T14:07:00.687002Z"
    },
    "scrolled": true
   },
   "outputs": [
    {
     "name": "stdout",
     "output_type": "stream",
     "text": [
      "The rpy2.ipython extension is already loaded. To reload it, use:\n",
      "  %reload_ext rpy2.ipython\n",
      "The autoreload extension is already loaded. To reload it, use:\n",
      "  %reload_ext autoreload\n"
     ]
    }
   ],
   "source": [
    "%load_ext rpy2.ipython \n",
    "%load_ext autoreload\n",
    "%autoreload 2\n",
    "%matplotlib inline\n",
    "\n",
    "#import os\n",
    "from functools import partial\n",
    "from pathlib import Path\n",
    "import re\n",
    "import sys\n",
    "import multiprocessing as mp\n",
    "import numpy as np\n",
    "import pandas as pd\n",
    "import seaborn as sns\n",
    "import rpy2.robjects.numpy2ri as n2r\n",
    "import textwrap\n",
    "import warnings\n",
    "warnings.filterwarnings('ignore')\n",
    "\n",
    "sys.path.append('modules')\n",
    "from PASS import *\n",
    "from time import sleep"
   ]
  },
  {
   "cell_type": "markdown",
   "metadata": {},
   "source": [
    "## Set parameters specific to this project and experiment\n",
    "These parameters can be different for different runs. The sample discription file is in csv format with at least the following columns: \"prefix\" (unique beginning strings in the fastq files), \"sample\" (user defined sample name). This information can be used to make sample names more meaningful. \"color_group\" is optional, but can be used to groups different UCSC tracks by color. If not specified, a unique color will be used for each sample."
   ]
  },
  {
   "cell_type": "code",
   "execution_count": 305,
   "metadata": {
    "ExecuteTime": {
     "end_time": "2019-03-01T14:07:00.795413Z",
     "start_time": "2019-03-01T14:07:00.768287Z"
    }
   },
   "outputs": [],
   "source": [
    "PROJECT = 'example' # project name\n",
    "EXPERIMENT = '181210' # experiment name\n",
    "GENOME = 'hg19' # genome name, either mm9 or hg19\n",
    "SEQUENCER = 'nextseq' # Either \"hiseq\" or \"nextseq\"\n",
    "SAMPLE_DESCRIPTION_FILE = 'sample_description.csv' # sample discription file.\n",
    "\n",
    "#DATA_SOURCE = 'internal_server' # Where the raw data are stored. Can be \"internal_server\", \"basespace\", or \"local\".\n",
    "#DATA_SOURCE = 'basespace'\n",
    "DATA_SOURCE = 'local'\n",
    "if DATA_SOURCE == 'internal_server':\n",
    "    USER = 'zhengdh'\n",
    "    SERVER = 'intron.njms.rutgers.edu'\n",
    "elif DATA_SOURCE == 'basespace':\n",
    "    BASESPACE_PROJECT = ''\n",
    "    BASESPACE_TOKEN = ''\n",
    "elif DATA_SOURCE == 'local':\n",
    "    # LOCAL_DATA_SOURCE = 'path/on/local/computer' ### Don't use \"~\"\n",
    "    LOCAL_DATA_SOURCE = '/home/dinghai/dev/3-prime-READS-plus/tests/data'\n",
    "    assert Path(LOCAL_DATA_SOURCE).exists()\n",
    "    \n",
    "FASTQ_QC_PLOT_NUM_COLUMNS = 4  # number of columns for fastq QC plots\n",
    "SAVE_SPACE = False # to save space, delete intermediate files asap.    \n",
    "\n",
    "GENOME_INDEX_DIR = '/home/dinghai/projects/fud/star_index' # Directory containing index files for different genomes\n",
    "GENOME_FASTA_DIR = '/home/dinghai/projects/fud/ucsc/genomes' # Directory containing fasta files for different genomes\n",
    "\n",
    "MAX_WORKERS = 8  # Maximum number of processes for parallel computing\n",
    "CUTADAPT_MINLEN = 25  # Minimum read lenth after removing 5' adapter\n",
    "MIN_MAPQ = 10 # Minimum MAPQ score for alignments in STAR output \n",
    "SEQ_DIRECTION = 'reverse' # Sequencing direction relative to mRNA sequence. Either 'reverse' or 'forward'.\n",
    "SPIKE_IN = None # A 4-charactor string for identifying spike-in RNA. For example, 'ychr' for yeast RNA spike-in if yeast chromosomes are named as 'ychr*'.\n",
    "MAX_PA_DISTANCE = 24 # Maximum distance between clustered reads"
   ]
  },
  {
   "cell_type": "markdown",
   "metadata": {},
   "source": [
    "## Set general parameters\n",
    "No need to change anything below for different runs."
   ]
  },
  {
   "cell_type": "code",
   "execution_count": 306,
   "metadata": {
    "ExecuteTime": {
     "end_time": "2019-03-01T14:07:00.844159Z",
     "start_time": "2019-03-01T14:07:00.833430Z"
    }
   },
   "outputs": [],
   "source": [
    "# Genome index for STAR\n",
    "genome_index = Path(GENOME_INDEX_DIR)/GENOME\n",
    "# Genome sequence in fasta format for identifying PASS reads\n",
    "genome_dir = Path(GENOME_FASTA_DIR)/GENOME\n",
    "assert genome_index.exists(), f\"Please make sure the following genome index folder exists: {str(genome_index)}\"\n",
    "assert genome_dir.exists(), f\"Please make sure the following genome fasta file folder exists: {str(genome_dir)}\""
   ]
  },
  {
   "cell_type": "code",
   "execution_count": 307,
   "metadata": {
    "ExecuteTime": {
     "end_time": "2019-03-01T14:07:00.864264Z",
     "start_time": "2019-03-01T14:07:00.845326Z"
    }
   },
   "outputs": [],
   "source": [
    "# Project directory\n",
    "project_dir = Path('projects')/PROJECT\n",
    "# Script directory for saving project and experiment-specific scripts\n",
    "script_dir = project_dir/'scripts'/EXPERIMENT\n",
    "# Data directories\n",
    "data_dir = project_dir/'data'/EXPERIMENT\n",
    "rawfastq_dir = data_dir/'rawfastq'\n",
    "fastq_dir = data_dir/'fastq'\n",
    "sam_dir = data_dir/'sam'\n",
    "# Result directory\n",
    "result_dir = project_dir/'result'/EXPERIMENT\n",
    "result_dir_str = str(result_dir.absolute())\n",
    "# Create directories\n",
    "project_dir.mkdir(parents=True, exist_ok=True)\n",
    "script_dir.mkdir(parents=True, exist_ok=True)\n",
    "data_dir.mkdir(parents=True, exist_ok=True)\n",
    "rawfastq_dir.mkdir(parents=True, exist_ok=True)\n",
    "fastq_dir.mkdir(parents=True, exist_ok=True)\n",
    "sam_dir.mkdir(parents=True, exist_ok=True)\n",
    "result_dir.mkdir(parents=True, exist_ok=True)"
   ]
  },
  {
   "cell_type": "markdown",
   "metadata": {},
   "source": [
    "## Read sample annotation and choose colors for UCSC tracks"
   ]
  },
  {
   "cell_type": "code",
   "execution_count": 308,
   "metadata": {
    "ExecuteTime": {
     "end_time": "2019-03-01T14:07:00.980733Z",
     "start_time": "2019-03-01T14:07:00.902174Z"
    },
    "scrolled": true
   },
   "outputs": [
    {
     "name": "stdout",
     "output_type": "stream",
     "text": [
      "\n",
      "Sample description:\n"
     ]
    },
    {
     "data": {
      "text/html": [
       "<div>\n",
       "<style>\n",
       "    .dataframe thead tr:only-child th {\n",
       "        text-align: right;\n",
       "    }\n",
       "\n",
       "    .dataframe thead th {\n",
       "        text-align: left;\n",
       "    }\n",
       "\n",
       "    .dataframe tbody tr th {\n",
       "        vertical-align: top;\n",
       "    }\n",
       "</style>\n",
       "<table border=\"1\" class=\"dataframe\">\n",
       "  <thead>\n",
       "    <tr style=\"text-align: right;\">\n",
       "      <th></th>\n",
       "      <th>warehouse_folder_unique_string</th>\n",
       "      <th>fastq_file_unique_string</th>\n",
       "      <th>sample</th>\n",
       "      <th>genome_browser_track_color</th>\n",
       "    </tr>\n",
       "  </thead>\n",
       "  <tbody>\n",
       "    <tr>\n",
       "      <th>0</th>\n",
       "      <td>181210</td>\n",
       "      <td>siCtrl_1</td>\n",
       "      <td>siCtrl_1</td>\n",
       "      <td>1</td>\n",
       "    </tr>\n",
       "    <tr>\n",
       "      <th>1</th>\n",
       "      <td>181210</td>\n",
       "      <td>siYfg_1</td>\n",
       "      <td>siYfg_1</td>\n",
       "      <td>2</td>\n",
       "    </tr>\n",
       "    <tr>\n",
       "      <th>2</th>\n",
       "      <td>181210</td>\n",
       "      <td>siCtrl_2</td>\n",
       "      <td>siCtrl_2</td>\n",
       "      <td>1</td>\n",
       "    </tr>\n",
       "    <tr>\n",
       "      <th>3</th>\n",
       "      <td>181210</td>\n",
       "      <td>siYfg_2</td>\n",
       "      <td>siYfg_2</td>\n",
       "      <td>2</td>\n",
       "    </tr>\n",
       "  </tbody>\n",
       "</table>\n",
       "</div>"
      ],
      "text/plain": [
       "  warehouse_folder_unique_string fastq_file_unique_string    sample  \\\n",
       "0                         181210                 siCtrl_1  siCtrl_1   \n",
       "1                         181210                  siYfg_1   siYfg_1   \n",
       "2                         181210                 siCtrl_2  siCtrl_2   \n",
       "3                         181210                  siYfg_2   siYfg_2   \n",
       "\n",
       "  genome_browser_track_color  \n",
       "0                          1  \n",
       "1                          2  \n",
       "2                          1  \n",
       "3                          2  "
      ]
     },
     "metadata": {},
     "output_type": "display_data"
    },
    {
     "name": "stdout",
     "output_type": "stream",
     "text": [
      "The following colors will be used for UCSC genome browser tracks:\n"
     ]
    },
    {
     "data": {
      "image/png": "[encoded data removed]",
      "text/plain": [
       "<matplotlib.figure.Figure at 0x7fb51863afd0>"
      ]
     },
     "metadata": {},
     "output_type": "display_data"
    }
   ],
   "source": [
    "sample_description = pd.read_csv(data_dir/SAMPLE_DESCRIPTION_FILE, dtype = 'str')\n",
    "\n",
    "if not set(['warehouse_folder_unique_string', 'fastq_file_unique_string', 'sample']\n",
    "          ) <= set(sample_description.columns):\n",
    "    msg = '''\n",
    "    The sample discription file should at least have the following columns: \n",
    "    \"warehouse_folder_unique_string\": unique string in the data warehouse folder name containing the fastq files, \n",
    "    \"fastq_folder_unique_string\": unique string in the fastq files corresponding to different samples,\n",
    "    \"sample\": user defined sample name.\n",
    "    '''\n",
    "    msg = textwrap.dedent(msg).strip()\n",
    "    print(msg)\n",
    "    \n",
    "\n",
    "# Remove potential whitespace \n",
    "sample_description.apply(lambda x: x.str.strip(), axis=1)\n",
    "\n",
    "print(\"\\nSample description:\")\n",
    "display(sample_description)    \n",
    "\n",
    "print('The following colors will be used for UCSC genome browser tracks:')\n",
    "if 'genome_browser_track_color' in sample_description.columns:\n",
    "    color_max = sample_description.genome_browser_track_color.astype(int).max(axis=0)\n",
    "else:\n",
    "    color_max = sample_description.shape[0]\n",
    "    \n",
    "sns.palplot(sns.color_palette(\"colorblind\", color_max))"
   ]
  },
  {
   "cell_type": "markdown",
   "metadata": {},
   "source": [
    "## Find, download, merge, and rename fastq files\n",
    "Fastq files with the same file_string will be merged and renamed using the corresponding \"sample\" name defined in sample_description.csv."
   ]
  },
  {
   "cell_type": "code",
   "execution_count": 309,
   "metadata": {
    "ExecuteTime": {
     "end_time": "2019-03-01T14:07:00.991487Z",
     "start_time": "2019-03-01T14:07:00.982010Z"
    }
   },
   "outputs": [],
   "source": [
    "# To rename multiple files, use command: mmv \\*_small.fastq \\#1.fastq"
   ]
  },
  {
   "cell_type": "code",
   "execution_count": 310,
   "metadata": {
    "ExecuteTime": {
     "end_time": "2019-03-01T14:07:01.019681Z",
     "start_time": "2019-03-01T14:07:00.993095Z"
    }
   },
   "outputs": [],
   "source": [
    "def merge_and_rename(selected_fastq_files, df, file_string):\n",
    "    '''Unzip (if necessary), merge, and rename a list of selected fastq files. \n",
    "    selected_fastq_files: a list of selected fastq files. Must all be in either .fastq or .fastq.gz format.\n",
    "    df: a sub-dataframe of sample_description used for renaming files\n",
    "    '''    \n",
    "    if len(selected_fastq_files) > 0:\n",
    "        joint_file_names = ' '.join(selected_fastq_files)\n",
    "        \n",
    "        if selected_fastq_files[0].endswith('.gz'):\n",
    "            print('\\nMerging, unzipping, and renaming fastq files ....')\n",
    "            cmd = f'cat {joint_file_names} | gunzip > {str(rawfastq_dir)}/{df[df.fastq_file_unique_string == file_string][\"sample\"].values[0]}.fastq'\n",
    "        else:\n",
    "            print('\\nMerging and renaming fastq files ....')\n",
    "            cmd = f'cat {joint_file_names} > {str(rawfastq_dir)}/{df[df.fastq_file_unique_string == file_string][\"sample\"].values[0]}.fastq'\n",
    "        print(cmd)\n",
    "        os.system(cmd)\n",
    "        # Remove downloaded raw fastq files immediately to save space \n",
    "        #cmd = 'rm ' + joint_file_names\n",
    "        #os.system(cmd)\n",
    "   "
   ]
  },
  {
   "cell_type": "code",
   "execution_count": 311,
   "metadata": {
    "ExecuteTime": {
     "end_time": "2019-03-01T14:07:01.242962Z",
     "start_time": "2019-03-01T14:07:01.024526Z"
    },
    "scrolled": false
   },
   "outputs": [
    {
     "name": "stdout",
     "output_type": "stream",
     "text": [
      "\n",
      "Local fastq folders found: /home/dinghai/dev/3-prime-READS-plus/tests/data/181210\n",
      "\n",
      "Merging and renaming fastq files ....\n",
      "cat /home/dinghai/dev/3-prime-READS-plus/tests/data/181210/siCtrl_1.fastq > projects/example/data/181210/rawfastq/siCtrl_1.fastq\n",
      "\n",
      "Merging and renaming fastq files ....\n",
      "cat /home/dinghai/dev/3-prime-READS-plus/tests/data/181210/siYfg_1.fastq > projects/example/data/181210/rawfastq/siYfg_1.fastq\n",
      "\n",
      "Merging and renaming fastq files ....\n",
      "cat /home/dinghai/dev/3-prime-READS-plus/tests/data/181210/siCtrl_2.fastq > projects/example/data/181210/rawfastq/siCtrl_2.fastq\n",
      "\n",
      "Merging and renaming fastq files ....\n",
      "cat /home/dinghai/dev/3-prime-READS-plus/tests/data/181210/siYfg_2.fastq > projects/example/data/181210/rawfastq/siYfg_2.fastq\n"
     ]
    }
   ],
   "source": [
    "for folder_string in sample_description.warehouse_folder_unique_string.unique():\n",
    "    df = sample_description[sample_description.warehouse_folder_unique_string == folder_string]\n",
    "    rawfastq_subdir = rawfastq_dir/folder_string\n",
    "    rawfastq_subdir.mkdir(parents=True, exist_ok=True)\n",
    "    \n",
    "    if DATA_SOURCE == 'internal_server':\n",
    "        # Find folder in the warehouse that may contain the fastq files\n",
    "        cmd = f'ssh {USER}@{SERVER} find ../database* -type d -name *{folder_string}*'\n",
    "        print(f'\\nLooking for folders with {folder_string} in their names on the server {SERVER}')\n",
    "        print(f'\\nUsing command {cmd}')\n",
    "        fastq_folders = check_output(cmd, shell=True).decode().split('\\n')\n",
    "        print('\\nFastq folders found:')\n",
    "        print('\\n'.join(fastq_folders))\n",
    "\n",
    "        # Find fastq files in the folders\n",
    "        for file_string in df.fastq_file_unique_string:\n",
    "            # Some of the folders may not contain fastq data\n",
    "            for fastq_folder in fastq_folders:\n",
    "                if SEQUENCER == \"hiseq\":\n",
    "                    cmd = f'ssh {USER}@{SERVER} find {fastq_folder} -type f -name *{file_string}*R1*'\n",
    "                elif SEQUENCER == \"nextseq\":\n",
    "                    cmd = f'ssh {USER}@{SERVER} find {fastq_folder} -type f -name *{file_string}*'\n",
    "                print(f'\\nSerching files using the command {cmd}')\n",
    "                fastq_files = check_output(cmd, shell=True).decode().replace('\\n', \" \")\n",
    "                # Escape special characters\n",
    "                fastq_files = fastq_files.replace(\"&\", \"\\&\").replace(\":\", \"\\:\")\n",
    "                print('\\nFastq files found:')\n",
    "                print(fastq_files, '\\n')\n",
    "                if not fastq_files == '': # Skip the current fastq_folder if fastq_files have already been found\n",
    "                    break\n",
    "            # Download fastq files from internal server\n",
    "            print('\\nDownloading fastq files ....')\n",
    "            cmd = f'scp {USER}@{SERVER}:\"{fastq_files}\" {rawfastq_subdir}'\n",
    "            os.system(cmd)\n",
    "\n",
    "            # Find fastq file names begining with file_string\n",
    "            fastq_gz_with_file_string = [str(filename) for filename in rawfastq_subdir.iterdir() \n",
    "                                         if re.search(file_string + '.+fastq.gz$', str(filename))]\n",
    "            \n",
    "            fastq_with_file_string = [str(filename) for filename in rawfastq_subdir.iterdir() \n",
    "                                         if re.search(file_string + '.+fastq$', str(filename))]\n",
    "            \n",
    "            merge_and_rename(fastq_gz_with_file_string, df, file_string)\n",
    "            merge_and_rename(fastq_with_file_string, df, file_string)\n",
    "        \n",
    "    elif DATA_SOURCE == 'local':\n",
    "        cmd = f'find {LOCAL_DATA_SOURCE} -type d -name *{folder_string}*'\n",
    "        # On the local computer, there is usually just one folder for each data set.\n",
    "        fastq_folder = check_output(cmd, shell=True).decode().strip() \n",
    "        print('\\nLocal fastq folders found:', fastq_folder)\n",
    "\n",
    "        # Find fastq files in the folders\n",
    "        for file_string in df.fastq_file_unique_string:\n",
    "            if SEQUENCER == \"hiseq\":\n",
    "                # find fastq file names begining with file_string\n",
    "                fastq_gz_with_file_string = [str(filename) for filename in Path(fastq_folder).iterdir() \n",
    "                                             if re.search(file_string + '.*R1.+fastq.gz$', str(filename))]\n",
    "                fastq_with_file_string = [str(filename) for filename in Path(fastq_folder).iterdir() \n",
    "                                          if re.search(file_string + '.*R1.+fastq$', str(filename))]\n",
    "            elif SEQUENCER == \"nextseq\":\n",
    "                fastq_gz_with_file_string = [str(filename) for filename in Path(fastq_folder).iterdir() \n",
    "                                             if re.search(file_string + '.+fastq.gz$', str(filename))]\n",
    "                fastq_with_file_string = [str(filename) for filename in Path(fastq_folder).iterdir() \n",
    "                                          if re.search(file_string + '.+fastq$', str(filename))]\n",
    "            \n",
    "            merge_and_rename(fastq_gz_with_file_string, df, file_string)\n",
    "            merge_and_rename(fastq_with_file_string, df, file_string)\n",
    "    \n",
    "    elif DATA_SOURCE == 'basespace':\n",
    "        pass"
   ]
  },
  {
   "cell_type": "code",
   "execution_count": 312,
   "metadata": {
    "ExecuteTime": {
     "end_time": "2019-03-01T14:07:01.260912Z",
     "start_time": "2019-03-01T14:07:01.244739Z"
    },
    "code_folding": [],
    "scrolled": false
   },
   "outputs": [
    {
     "name": "stdout",
     "output_type": "stream",
     "text": [
      "\n",
      "4 workers will be used for all parallel computing.\n"
     ]
    }
   ],
   "source": [
    "fastq_files = sorted([str(filename.absolute()) for filename in rawfastq_dir.glob('*.fastq')])\n",
    "\n",
    "if len(fastq_files) == 0:\n",
    "    print(f\"\\nPleae put fastq files in the {str(rawfastq_dir)} folder first.\")    \n",
    "    \n",
    "WORKERS = min(MAX_WORKERS, len(fastq_files))\n",
    "print(f'\\n{WORKERS} workers will be used for all parallel computing.')    "
   ]
  },
  {
   "cell_type": "code",
   "execution_count": 313,
   "metadata": {
    "ExecuteTime": {
     "end_time": "2019-03-01T14:07:01.422591Z",
     "start_time": "2019-03-01T14:07:01.262454Z"
    }
   },
   "outputs": [
    {
     "name": "stdout",
     "output_type": "stream",
     "text": [
      "\n",
      "Raw fastq counts in each file:\n"
     ]
    },
    {
     "data": {
      "text/html": [
       "<div>\n",
       "<style>\n",
       "    .dataframe thead tr:only-child th {\n",
       "        text-align: right;\n",
       "    }\n",
       "\n",
       "    .dataframe thead th {\n",
       "        text-align: left;\n",
       "    }\n",
       "\n",
       "    .dataframe tbody tr th {\n",
       "        vertical-align: top;\n",
       "    }\n",
       "</style>\n",
       "<table border=\"1\" class=\"dataframe\">\n",
       "  <thead>\n",
       "    <tr style=\"text-align: right;\">\n",
       "      <th></th>\n",
       "      <th>Raw</th>\n",
       "    </tr>\n",
       "    <tr>\n",
       "      <th>File_Name</th>\n",
       "      <th></th>\n",
       "    </tr>\n",
       "  </thead>\n",
       "  <tbody>\n",
       "    <tr>\n",
       "      <th>siCtrl_1</th>\n",
       "      <td>250</td>\n",
       "    </tr>\n",
       "    <tr>\n",
       "      <th>siCtrl_2</th>\n",
       "      <td>250</td>\n",
       "    </tr>\n",
       "    <tr>\n",
       "      <th>siYfg_1</th>\n",
       "      <td>250</td>\n",
       "    </tr>\n",
       "    <tr>\n",
       "      <th>siYfg_2</th>\n",
       "      <td>250</td>\n",
       "    </tr>\n",
       "  </tbody>\n",
       "</table>\n",
       "</div>"
      ],
      "text/plain": [
       "           Raw\n",
       "File_Name     \n",
       "siCtrl_1   250\n",
       "siCtrl_2   250\n",
       "siYfg_1    250\n",
       "siYfg_2    250"
      ]
     },
     "execution_count": 313,
     "metadata": {},
     "output_type": "execute_result"
    }
   ],
   "source": [
    "# Count raw reads   \n",
    "with mp.Pool(processes=WORKERS) as pool:\n",
    "    raw_fastq_counts = pool.map(count_fastq, fastq_files)\n",
    "    \n",
    "raw_fastq_counts = pd.DataFrame(raw_fastq_counts, columns = [\"File_Name\", \"Raw\"])\n",
    "raw_fastq_counts[\"File_Name\"] = raw_fastq_counts[\"File_Name\"].str.replace('.fastq', '') \n",
    "raw_fastq_counts = raw_fastq_counts.set_index(\"File_Name\")\n",
    "\n",
    "print('\\nRaw fastq counts in each file:')\n",
    "raw_fastq_counts "
   ]
  },
  {
   "cell_type": "markdown",
   "metadata": {},
   "source": [
    "## FASTQ QC using R\n",
    "1. python list -> R list (not vector)\n",
    "2. Multiple inputs after -i can be separated using \",\", without space."
   ]
  },
  {
   "cell_type": "code",
   "execution_count": 314,
   "metadata": {
    "ExecuteTime": {
     "end_time": "2019-03-01T14:07:11.805921Z",
     "start_time": "2019-03-01T14:07:01.423886Z"
    },
    "scrolled": false
   },
   "outputs": [
    {
     "data": {
      "image/png": "[encoded data removed]"
     },
     "metadata": {},
     "output_type": "display_data"
    }
   ],
   "source": [
    "%%R -i fastq_files,FASTQ_QC_PLOT_NUM_COLUMNS,result_dir_str,WORKERS -w 1000 -h 1500\n",
    "\n",
    "## load helper functions\n",
    "source(\"modules/FastqQC.R\")\n",
    "library(foreach)\n",
    "library(doParallel)\n",
    "\n",
    "## Step 1: Creat list of plots using parellel computing             \n",
    "registerDoParallel(WORKERS)   \n",
    "fqlist = foreach(f=1:length(fastq_files), \n",
    "                 .packages=c(\"ShortRead\", \"Biostrings\")) %dopar%{\n",
    "    seeFastq(fastq=fastq_files[[f]])\n",
    "    }\n",
    "names(fqlist) = sapply(fastq_files, function(x) sub(\".+\\\\/(.+).fastq\", \"\\\\1\", x))                     \n",
    "\n",
    "## Step 2: Output pdf and browser image              \n",
    "n = min(FASTQ_QC_PLOT_NUM_COLUMNS, length(fastq_files))            \n",
    "mycol = seq(along=fqlist)     \n",
    "myrow = c(1, 3, 2, 4)\n",
    "if(length(mycol) %% n){\n",
    "  groups = 0:floor(length(mycol)/n)\n",
    "}else{\n",
    "  groups = 0:(length(mycol)/n - 1)\n",
    "}                      \n",
    "# Make pdf plots                        \n",
    "pdf(file.path(result_dir_str, \"fastqReport.pdf\"), height=20, width=4*n)                         \n",
    "for(group in groups){\n",
    "  if(group < max(groups)){\n",
    "    subcol = mycol[n*group + 1:n]\n",
    "  }else{\n",
    "    subcol = mycol[(n*group + 1):length(mycol)]\n",
    "  }\n",
    "  seeFastqPlot(fqlist[subcol], arrange=myrow, n = n)\n",
    "}\n",
    "dev.off()                       \n",
    "# Print to screen\n",
    "for(group in groups){\n",
    "  if(group < max(groups)){\n",
    "    subcol = mycol[n*group + 1:n]\n",
    "  }else{\n",
    "    subcol = mycol[(n*group + 1):length(mycol)]\n",
    "  }\n",
    "  seeFastqPlot(fqlist[subcol], arrange=myrow, n = n)\n",
    "} "
   ]
  },
  {
   "cell_type": "markdown",
   "metadata": {},
   "source": [
    "**Automatically figure out the number of random nucleotides in the 3' adapter (5' end of the reads when the libraries are sequenced in reverse direction)** Usually the base after the random nucleotides has the highest frequency of Ts."
   ]
  },
  {
   "cell_type": "code",
   "execution_count": 315,
   "metadata": {
    "ExecuteTime": {
     "end_time": "2019-03-01T14:07:11.826227Z",
     "start_time": "2019-03-01T14:07:11.807323Z"
    },
    "scrolled": true
   },
   "outputs": [
    {
     "data": {
      "text/plain": [
       "Number of random nucleotides in 3' adapter: 6 6 6 6"
      ]
     },
     "metadata": {},
     "output_type": "display_data"
    }
   ],
   "source": [
    "%%R -o random_NT_lens\n",
    "cycle_with_max_T_frequency = function(fq){\n",
    "    base_frequency = fq$bstats\n",
    "    T_frequency = subset(base_frequency, Base == \"T\")\n",
    "    # The number of random nucleotides in the 3'adapter is also where the frequency of T increased most \n",
    "    which.max(diff(T_frequency$Frequency))\n",
    "}\n",
    "# For libraries prepared using different versions of 3' adapters (usually in different batches), \n",
    "# the numbers of random nucleotides could be different\n",
    "random_NT_lens = sapply(fqlist, cycle_with_max_T_frequency)\n",
    "cat(\"Number of random nucleotides in 3' adapter:\", random_NT_lens)"
   ]
  },
  {
   "cell_type": "markdown",
   "metadata": {},
   "source": [
    "## Clip adapters "
   ]
  },
  {
   "cell_type": "code",
   "execution_count": 316,
   "metadata": {
    "ExecuteTime": {
     "end_time": "2019-03-01T14:07:11.992457Z",
     "start_time": "2019-03-01T14:07:11.828003Z"
    },
    "scrolled": true
   },
   "outputs": [
    {
     "name": "stdout",
     "output_type": "stream",
     "text": [
      "\n",
      "Removing ligation adapters from fastq reads in the following files:\n",
      "\n",
      "siCtrl_1.fastq\n",
      "siCtrl_2.fastq\n",
      "siYfg_1.fastq\n",
      "siYfg_2.fastq\n",
      "\n",
      "Done!\n"
     ]
    }
   ],
   "source": [
    "if SEQUENCER == 'hiseq':\n",
    "    # Clip the read's 3' end adapter (originated from 5' RNA ligation adapter) and only keep 80 (150-70) nt\n",
    "    cmds = [(f'cutadapt -u -70 -a NNNNTGGAATTCTCGGGTGCCAAGG -n 1 -O 10 -m {CUTADAPT_MINLEN} -f fastq '\n",
    "             f'-q 10 {fastq_file} -o {fastq_file.replace(\".fastq\", \".cutadapt.fastq\").replace(\"rawfastq\", \"fastq\")} '\n",
    "             f'&& rm {fastq_file}') for fastq_file in fastq_files]\n",
    "    \n",
    "elif SEQUENCER == 'nextseq':\n",
    "    # Clip the read's 3' end adapter (originated from 5' RNA ligation adapter)\n",
    "    cmds = [(f'cutadapt -a NNNNTGGAATTCTCGGGTGCCAAGG -n 1 -O 10 -m {CUTADAPT_MINLEN} -f fastq -q 10 {fastq_file} '\n",
    "             f'-o {fastq_file.replace(\".fastq\", \".cutadapt.fastq\").replace(\"rawfastq\", \"fastq\")} '\n",
    "             f'&& rm {fastq_file}') for fastq_file in fastq_files]\n",
    "\n",
    "print(\"\\nRemoving ligation adapters from fastq reads in the following files:\\n\") \n",
    "print('\\n'.join([fastq_file.split('/')[-1] for fastq_file in fastq_files]))\n",
    "\n",
    "with mp.Pool(processes = WORKERS) as pool: \n",
    "    pool.map(os.system, cmds)\n",
    "    \n",
    "print('\\nDone!')"
   ]
  },
  {
   "cell_type": "code",
   "execution_count": 317,
   "metadata": {
    "ExecuteTime": {
     "end_time": "2019-03-01T14:07:12.007270Z",
     "start_time": "2019-03-01T14:07:11.993991Z"
    }
   },
   "outputs": [],
   "source": [
    "# # Count reads clipped by cutadapt\n",
    "# cutadapt_output = sorted([str(filename.absolute()) for filename in fastq_dir.glob('*cutadapt.fastq')])\n",
    "\n",
    "# with mp.Pool(processes = WORKERS) as pool: \n",
    "#     cutadapt_fastq_counts = pool.map(count_fastq, cutadapt_output)\n",
    "    \n",
    "# cutadapt_fastq_counts = pd.DataFrame(cutadapt_fastq_counts, columns = [\"File_Name\", \"Cutadapt\"])\n",
    "# cutadapt_fastq_counts[\"File_Name\"] = cutadapt_fastq_counts[\"File_Name\"].str.replace('.cutadapt.fastq', '')    "
   ]
  },
  {
   "cell_type": "markdown",
   "metadata": {},
   "source": [
    "## Trim 5' Ts "
   ]
  },
  {
   "cell_type": "code",
   "execution_count": 318,
   "metadata": {
    "ExecuteTime": {
     "end_time": "2019-03-01T14:07:12.198935Z",
     "start_time": "2019-03-01T14:07:12.008642Z"
    },
    "scrolled": true
   },
   "outputs": [
    {
     "name": "stdout",
     "output_type": "stream",
     "text": [
      "\n",
      "Trimming 5' T-stretches from fastq reads in the following files:\n",
      "\n",
      "siCtrl_1.cutadapt.fastq\n",
      "siCtrl_2.cutadapt.fastq\n",
      "siYfg_1.cutadapt.fastq\n",
      "siYfg_2.cutadapt.fastq\n",
      "\n",
      "Done!\n",
      "\n",
      "Fastq counts in each file:\n"
     ]
    },
    {
     "data": {
      "text/html": [
       "<div>\n",
       "<style>\n",
       "    .dataframe thead tr:only-child th {\n",
       "        text-align: right;\n",
       "    }\n",
       "\n",
       "    .dataframe thead th {\n",
       "        text-align: left;\n",
       "    }\n",
       "\n",
       "    .dataframe tbody tr th {\n",
       "        vertical-align: top;\n",
       "    }\n",
       "</style>\n",
       "<table border=\"1\" class=\"dataframe\">\n",
       "  <thead>\n",
       "    <tr style=\"text-align: right;\">\n",
       "      <th></th>\n",
       "      <th>Raw</th>\n",
       "      <th>CutAdapt</th>\n",
       "      <th>Trimmed</th>\n",
       "    </tr>\n",
       "    <tr>\n",
       "      <th>File_Name</th>\n",
       "      <th></th>\n",
       "      <th></th>\n",
       "      <th></th>\n",
       "    </tr>\n",
       "  </thead>\n",
       "  <tbody>\n",
       "    <tr>\n",
       "      <th>siCtrl_1</th>\n",
       "      <td>250</td>\n",
       "      <td>250</td>\n",
       "      <td>142</td>\n",
       "    </tr>\n",
       "    <tr>\n",
       "      <th>siCtrl_2</th>\n",
       "      <td>250</td>\n",
       "      <td>247</td>\n",
       "      <td>162</td>\n",
       "    </tr>\n",
       "    <tr>\n",
       "      <th>siYfg_1</th>\n",
       "      <td>250</td>\n",
       "      <td>247</td>\n",
       "      <td>192</td>\n",
       "    </tr>\n",
       "    <tr>\n",
       "      <th>siYfg_2</th>\n",
       "      <td>250</td>\n",
       "      <td>249</td>\n",
       "      <td>159</td>\n",
       "    </tr>\n",
       "  </tbody>\n",
       "</table>\n",
       "</div>"
      ],
      "text/plain": [
       "           Raw  CutAdapt  Trimmed\n",
       "File_Name                        \n",
       "siCtrl_1   250       250      142\n",
       "siCtrl_2   250       247      162\n",
       "siYfg_1    250       247      192\n",
       "siYfg_2    250       249      159"
      ]
     },
     "execution_count": 318,
     "metadata": {},
     "output_type": "execute_result"
    }
   ],
   "source": [
    "cutadapt_outputs = sorted([str(filename.absolute()) for filename in fastq_dir.glob('*cutadapt.fastq')])\n",
    "\n",
    "print(\"\\nTrimming 5' T-stretches from fastq reads in the following files:\\n\") \n",
    "print('\\n'.join([fastq_file.split('/')[-1] for fastq_file in cutadapt_outputs]))\n",
    "\n",
    "with mp.Pool(processes = WORKERS) as pool:\n",
    "    trimmed_fastq_counts = pool.starmap(trim_write_count_fastq, \n",
    "                            list(zip(cutadapt_outputs, list(random_NT_lens), [4]*len(random_NT_lens))))\n",
    "    \n",
    "if SAVE_SPACE:\n",
    "    cmd = 'rm ' + ' '.join(cutadapt_outputs)\n",
    "    os.system(cmd)    \n",
    "\n",
    "print('\\nDone!')\n",
    "\n",
    "trimmed_fastq_counts = pd.DataFrame(trimmed_fastq_counts, columns = [\"File_Name\", \"CutAdapt\", \"Trimmed\"])\n",
    "trimmed_fastq_counts[\"File_Name\"] = trimmed_fastq_counts[\"File_Name\"].str.replace('.cutadapt.fastq', '')  \n",
    "trimmed_fastq_counts = trimmed_fastq_counts.set_index(\"File_Name\")\n",
    "fastq_counts = pd.concat([raw_fastq_counts, trimmed_fastq_counts], axis = 1)\n",
    "\n",
    "print('\\nFastq counts in each file:')\n",
    "fastq_counts"
   ]
  },
  {
   "cell_type": "markdown",
   "metadata": {},
   "source": [
    "## Map the reads to the genome using STAR "
   ]
  },
  {
   "cell_type": "markdown",
   "metadata": {},
   "source": [
    "AlignEndsType is set to EndToEnd.\n",
    "According to the STAR manual, add the following lines to /etc/sysctl.conf:\n",
    "1. kernel.shmmax = 31000000000 \n",
    "2. kernel.shmall = 7568360\n",
    "\n",
    "Then run 'sudo /sbin/sysctl -p' to allow large shared memory blocks."
   ]
  },
  {
   "cell_type": "code",
   "execution_count": 319,
   "metadata": {
    "ExecuteTime": {
     "end_time": "2019-03-01T14:07:12.218996Z",
     "start_time": "2019-03-01T14:07:12.201139Z"
    }
   },
   "outputs": [],
   "source": [
    "trimmed_fastq_files = sorted([str(filename.absolute()) for filename in fastq_dir.glob('*trimmed.fastq')])\n",
    "# Commands for mapping reads\n",
    "cmds = [(f'STAR --runThreadN {WORKERS} --genomeDir {genome_index} --genomeLoad LoadAndKeep '\n",
    "         f'--readFilesIn {fastq_file} --alignEndsType EndToEnd --outFilterType BySJout '\n",
    "         f'--outFilterMultimapNmax 10 --alignSJoverhangMin 8 --alignSJDBoverhangMin 1 '\n",
    "         f'--alignIntronMin 20 --alignIntronMax 1000000 --outFileNamePrefix '\n",
    "         f'{fastq_file.replace(\"/fastq/\", \"/sam/\").replace(\"cutadapt.trimmed.fastq\", \"\")}') \n",
    "         for fastq_file in trimmed_fastq_files]\n",
    "\n",
    "# Commands for removing fastq files\n",
    "cmds_rm = ['rm ' + fastq_file for fastq_file in trimmed_fastq_files]  "
   ]
  },
  {
   "cell_type": "code",
   "execution_count": 320,
   "metadata": {
    "ExecuteTime": {
     "end_time": "2019-03-01T14:08:10.125966Z",
     "start_time": "2019-03-01T14:07:12.220930Z"
    },
    "scrolled": false
   },
   "outputs": [
    {
     "name": "stdout",
     "output_type": "stream",
     "text": [
      "\n",
      "Mapping reads from the following files to hg19:\n",
      "\n",
      "siCtrl_1.cutadapt.trimmed.fastq\n",
      "siCtrl_2.cutadapt.trimmed.fastq\n",
      "siYfg_1.cutadapt.trimmed.fastq\n",
      "siYfg_2.cutadapt.trimmed.fastq\n",
      "\n",
      "Done!\n"
     ]
    }
   ],
   "source": [
    "print(f'\\nMapping reads from the following files to {GENOME}:\\n') \n",
    "print('\\n'.join([fastq_file.split('/')[-1] for fastq_file in trimmed_fastq_files]))\n",
    "\n",
    "\n",
    "# Map reads and then delete fastq files immediately\n",
    "for i in range(len(cmds)):\n",
    "    os.system(cmds[i])    \n",
    "    if SAVE_SPACE:\n",
    "        os.system(cmds_rm[i])\n",
    "    \n",
    "# Remove genome from memory. Note \"--genomeDir\" is still needed!\n",
    "cmd = f'STAR --genomeDir {genome_index} --genomeLoad Remove'\n",
    "os.system(cmd)\n",
    "\n",
    "print('\\nDone!')"
   ]
  },
  {
   "cell_type": "markdown",
   "metadata": {},
   "source": [
    "## Identfy PASS reads"
   ]
  },
  {
   "cell_type": "markdown",
   "metadata": {},
   "source": [
    "1. Unlike pool.map(), pool.starmap() allows passing multiple arguments to functions.\n",
    "2. If I pass genome to each process, I will get an error.\n",
    "3. If the pick_PASS is not defined in the notebook but loaded from PASS.py, genome will not be available for all processes."
   ]
  },
  {
   "cell_type": "code",
   "execution_count": 321,
   "metadata": {
    "ExecuteTime": {
     "end_time": "2019-03-01T14:08:10.427752Z",
     "start_time": "2019-03-01T14:08:10.127683Z"
    }
   },
   "outputs": [],
   "source": [
    "def pick_PASS(sam_file, min_mapq = 10, direction = 'reverse', spike_in = None):\n",
    "    '''Split a sam_file into PASS, noPASS, and spike-in sam files.\n",
    "\n",
    "    Loop through records in the sam file, if the record is PASS, write to\n",
    "    pass_file. Mapped non-PASS reads are saved in nopass_file. Reads mapped to \n",
    "    rRNA genes are skipped. Sequencing direction can only be reverse or forward. \n",
    "\n",
    "    Attach matched tail length (ML), unmatched tail length (UL), and last mapped\n",
    "    position (LM) to the end of readname. The head (such as 'TS11AAC') and the \n",
    "    tail (such as 'ML:i:4\\tUL:i:9\\tLM:i:1234') of the read name is the unique \n",
    "    identifier of the read.\n",
    "    \n",
    "    Arguments:\n",
    "    sam_file: string. Name of input sam file.\n",
    "    min_mapq: int. Minimum MAPQ score\n",
    "    direction: string. Either 'reverse' (default) or 'forward'\n",
    "    spike_in: a 4-charactor string for identifying spike-in RNA. For example,\n",
    "    spike_in = 'ychr' for spike-in yeast RNA if yeast chromosomes are named as 'ychr1', \n",
    "    'ychrM', etc. \n",
    "    \n",
    "    Outputs:\n",
    "    Separate sam files containing either PASS reads, nonPASS reads, or spike-ins.\n",
    "    '''\n",
    "    pass_file = open(sam_file.replace('.sam', '.pass'), 'w')\n",
    "    nopass_file = open(sam_file.replace('.sam', '.nopass'), 'w')\n",
    "    if not spike_in: spike_in_file = open(sam_file.replace('.sam', '.spike_in'), 'w')\n",
    "    \n",
    "    lap = 0\n",
    "\n",
    "    with open(sam_file, 'r') as in_file:\n",
    "        for line in in_file:\n",
    "            # Skip header\n",
    "            if line[0] == '@':\n",
    "                pass_file.write(line)\n",
    "                nopass_file.write(line)\n",
    "                if not spike_in: spike_in_file.write(line)\n",
    "                continue\n",
    "            # Process each line\n",
    "            (readname, flag, chromosome, position, mapq, cigar) = line.split()[:6]\n",
    "            position = int(position)\n",
    "            mapq = int(mapq)\n",
    "\n",
    "            # Discard reads with low mapping scores\n",
    "            if mapq < min_mapq:\n",
    "                continue\n",
    "            # Record reads mapped to spiked-in yeast genome \n",
    "            if not spike_in and chromosome[:4] == spike_in:  \n",
    "                spike_in_file.write(line)\n",
    "                continue\n",
    "            # Ignore reads mapped to other chromosomes, such as 'BK000964'\n",
    "            if not chromosome[:3] == 'chr':\n",
    "                continue\n",
    "\n",
    "            # Extract the T-stretch length encoded in the readname\n",
    "            match = re.match('TS(\\d+)', line)\n",
    "            if match:\n",
    "                t_stretch_len = int(match.groups()[0])\n",
    "            # Skip records with short T-stretches\n",
    "            if not match or t_stretch_len < 2:\n",
    "                nopass_file.write(line)\n",
    "                continue\n",
    "\n",
    "            # Get genomic sequence downstream of the LAP (last mapped position).\n",
    "            # (The length of returned sequence is t_stretch_len.)\n",
    "            if (direction.lower() == 'reverse' and flag == '16') or \\\n",
    "                    (direction.lower() == 'forward' and flag == '0'):\n",
    "                strand = '+'\n",
    "                # Process cigar to determine the LAP.\n",
    "                # Insertion (I) will not affect the covered distance.\n",
    "                nums = re.split('[MDN]', re.sub('\\d+I', '', cigar))[:-1]\n",
    "                covered = sum(int(x) for x in nums)\n",
    "                # get_seq() returns reverse complemented sequence if strand == '-'\n",
    "                downstream_seq = get_seq(chromosome, strand,\n",
    "                                         start = position + covered,\n",
    "                                         end = position + covered + t_stretch_len - 1,\n",
    "                                         genome = genome)\n",
    "                lap = position + covered - 1\n",
    "            elif (direction.lower() == 'reverse' and flag == '0') or \\\n",
    "                    (direction.lower() == 'forward' and flag == '16'):\n",
    "                strand = '-'\n",
    "                downstream_seq = get_seq(chromosome, strand,\n",
    "                                         start = position - t_stretch_len, \n",
    "                                         end = position - 1,\n",
    "                                         genome = genome)\n",
    "                lap = position\n",
    "            else:\n",
    "                nopass_file.write(line)\n",
    "                continue\n",
    "\n",
    "            # If the 5' T-stretch was trimmed twice (like 'TTTTTTTGTTTT'),\n",
    "            # check whether GTTTT (reverse-compliment: AAAAC) comes from the genome\n",
    "            elements = readname.split('::')\n",
    "            if len(elements) == 2:\n",
    "                elements[1] = elements[1].split(':')[0]   \n",
    "                match = re.match(reverse_complement(elements[1]), downstream_seq)\n",
    "                if match:\n",
    "                    downstream_seq = downstream_seq[len(elements[1]):]\n",
    "                    t_stretch_len -= len(elements[1])\n",
    "                    if strand == '+':\n",
    "                        lap += len(elements[1])\n",
    "                    if strand == '-':\n",
    "                        lap -= len(elements[1])\n",
    "                    # If the t_stretch_len is reduced enough, no need to analyze downstream sequence\n",
    "                    if t_stretch_len == 0:\n",
    "                        nopass_file.write(line.strip() + '\\tML:i:%d\\tUL:i:%d\\tLM:i:%d\\n'\n",
    "                                              % (0, 0, lap))\n",
    "                        continue\n",
    "\n",
    "            # Analyze downstream sequence\n",
    "            if not downstream_seq[:-1] == 'A' * (t_stretch_len - 1):\n",
    "                match = re.match('A+', downstream_seq)\n",
    "                matched_len = len(match.group()) if match else 0\n",
    "                # ML: Matched Length \n",
    "                # UL: Unmatched Length\n",
    "                # LM: Last Mapped position(UL) \n",
    "                pass_file.write(line.strip() + '\\tML:i:%d\\tUL:i:%d\\tLM:i:%d\\n'\n",
    "                                    % (matched_len, t_stretch_len - matched_len, lap))\n",
    "            else:\n",
    "                match = re.match('A*', downstream_seq)\n",
    "                matched_len = len(match.group())  # value: 1 ~ t_stretch_len\n",
    "                nopass_file.write(line.strip() + '\\tML:i:%d\\tUL:i:%d\\tLM:i:%d\\n'\n",
    "                                      % (matched_len, t_stretch_len - matched_len, lap))\n",
    "    pass_file.close()\n",
    "    nopass_file.close()\n",
    "    if not spike_in: spike_in_file.close()\n",
    "    \n",
    "    os.system('rm ' + sam_file)"
   ]
  },
  {
   "cell_type": "code",
   "execution_count": 322,
   "metadata": {
    "ExecuteTime": {
     "end_time": "2019-03-01T14:08:10.438684Z",
     "start_time": "2019-03-01T14:08:10.428869Z"
    }
   },
   "outputs": [],
   "source": [
    "split_sam = partial(pick_PASS, min_mapq = MIN_MAPQ, direction = SEQ_DIRECTION, spike_in = SPIKE_IN)"
   ]
  },
  {
   "cell_type": "code",
   "execution_count": 323,
   "metadata": {
    "ExecuteTime": {
     "end_time": "2019-03-01T14:08:17.847172Z",
     "start_time": "2019-03-01T14:08:10.440358Z"
    }
   },
   "outputs": [
    {
     "name": "stdout",
     "output_type": "stream",
     "text": [
      "\n",
      "Picking PASS reads from the following files:\n",
      "\n",
      "siCtrl_1.Aligned.out.sam\n",
      "siCtrl_2.Aligned.out.sam\n",
      "siYfg_1.Aligned.out.sam\n",
      "siYfg_2.Aligned.out.sam\n",
      "\n",
      "Done!\n"
     ]
    }
   ],
   "source": [
    "# List of sam files as input\n",
    "sam_files = sorted(str(sam_file) for sam_file in sam_dir.glob('*Aligned.out.sam'))\n",
    "\n",
    "print('\\nPicking PASS reads from the following files:\\n') \n",
    "print('\\n'.join([sam_file.split('/')[-1] for sam_file in sam_files]))\n",
    "\n",
    "# Genome loaded into memory is available for all processes\n",
    "genome = load_fasta_genome(genome_dir)\n",
    "\n",
    "# Try parallel computing, which requires more disk space\n",
    "try:\n",
    "    with mp.Pool(processes = WORKERS) as pool:\n",
    "        pool.map(split_sam, sam_files)\n",
    "except OSError:\n",
    "    os.system(f'rm {str(sam_dir)}/*pass')\n",
    "    if SPIKE_IN: os.system(f'rm {str(sam_dir)}/*.spike_in')\n",
    "    print(\"\\nNo space left on device. Trying again with parallel computing turned off.\")\n",
    "    for sam_file in sam_files:\n",
    "        print(\"Processing \", sam_file)\n",
    "        split_sam(sam_file = sam_file)\n",
    "\n",
    "# Release memory    \n",
    "del genome  \n",
    "\n",
    "print('\\nDone!') "
   ]
  },
  {
   "cell_type": "markdown",
   "metadata": {},
   "source": [
    "## Pick unique PASS reads"
   ]
  },
  {
   "cell_type": "code",
   "execution_count": 324,
   "metadata": {
    "ExecuteTime": {
     "end_time": "2019-03-01T14:08:18.015513Z",
     "start_time": "2019-03-01T14:08:17.848854Z"
    },
    "code_folding": []
   },
   "outputs": [
    {
     "name": "stdout",
     "output_type": "stream",
     "text": [
      "\n",
      "Picking unique PASS reads from the following files:\n",
      "\n",
      "siCtrl_1.Aligned.out.pass\n",
      "siCtrl_2.Aligned.out.pass\n",
      "siYfg_1.Aligned.out.pass\n",
      "siYfg_2.Aligned.out.pass\n",
      "\n",
      "Done!\n"
     ]
    }
   ],
   "source": [
    "pass_files = sorted(str(pass_file) for pass_file in sam_dir.glob('*Aligned.out.pass'))\n",
    "print('\\nPicking unique PASS reads from the following files:\\n') \n",
    "print('\\n'.join([pass_file.split('/')[-1] for pass_file in pass_files]))\n",
    "\n",
    "with mp.Pool(processes = WORKERS) as pool:\n",
    "    pool.starmap(pick_unique_pass, list(zip(pass_files, list(random_NT_lens))))\n",
    "    \n",
    "print('\\nDone!')     "
   ]
  },
  {
   "cell_type": "markdown",
   "metadata": {},
   "source": [
    "## Cluster PASS reads"
   ]
  },
  {
   "cell_type": "code",
   "execution_count": 325,
   "metadata": {
    "ExecuteTime": {
     "end_time": "2019-03-01T14:08:18.071925Z",
     "start_time": "2019-03-01T14:08:18.017192Z"
    }
   },
   "outputs": [
    {
     "name": "stdout",
     "output_type": "stream",
     "text": [
      "Reading sam files containing PASS reads ...\n",
      "Clustering reads ...\n",
      "Writing to output file ...\n",
      "Done!\n"
     ]
    }
   ],
   "source": [
    "# Cluster all PASS reads\n",
    "pass_files = sorted(str(pass_file) for pass_file in sam_dir.glob('*Aligned.out.pass'))\n",
    "cluster_all_pass_reads_outfile = result_dir/'cluster.all.reads.csv'\n",
    "\n",
    "cluster_pass_reads(pass_files, outfile = cluster_all_pass_reads_outfile,\n",
    "                   direction = SEQ_DIRECTION, max_distance = MAX_PA_DISTANCE)"
   ]
  },
  {
   "cell_type": "code",
   "execution_count": 326,
   "metadata": {
    "ExecuteTime": {
     "end_time": "2019-03-01T14:08:18.121740Z",
     "start_time": "2019-03-01T14:08:18.073630Z"
    },
    "scrolled": false
   },
   "outputs": [
    {
     "name": "stdout",
     "output_type": "stream",
     "text": [
      "Reading sam files containing PASS reads ...\n",
      "Clustering reads ...\n",
      "Writing to output file ...\n",
      "Done!\n"
     ]
    }
   ],
   "source": [
    "# Cluster unique PASS reads\n",
    "upass_files = sorted(str(pass_file) for pass_file in sam_dir.glob('*Aligned.out.unique.pass'))\n",
    "cluster_upass_reads_outfile = result_dir/'cluster.unique.reads.csv'\n",
    "\n",
    "cluster_pass_reads(upass_files, outfile = cluster_upass_reads_outfile,\n",
    "                   direction = SEQ_DIRECTION, max_distance = MAX_PA_DISTANCE)\n"
   ]
  },
  {
   "cell_type": "markdown",
   "metadata": {},
   "source": [
    "## Read number statistics"
   ]
  },
  {
   "cell_type": "code",
   "execution_count": 327,
   "metadata": {
    "ExecuteTime": {
     "end_time": "2019-03-01T14:08:18.599914Z",
     "start_time": "2019-03-01T14:08:18.123197Z"
    }
   },
   "outputs": [],
   "source": [
    "with mp.Pool(processes = WORKERS) as pool: \n",
    "    pass_counts = pool.map(count_sam, pass_files)\n",
    "\n",
    "nonpass_files = sorted(str(nonpass_file) for nonpass_file in sam_dir.glob('*Aligned.out.nopass'))\n",
    "with mp.Pool(processes = WORKERS) as pool: \n",
    "    nonpass_counts = pool.map(count_sam, nonpass_files)\n",
    "    \n",
    "with mp.Pool(processes = WORKERS) as pool: \n",
    "    upass_counts = pool.map(count_sam, upass_files)\n",
    "\n",
    "if SPIKE_IN: \n",
    "    spike_in_files = sorted(str(nonpass_file) for nonpass_file in sam_dir.glob('*Aligned.out.spike_in'))\n",
    "    with mp.Pool(processes = WORKERS) as pool: \n",
    "        spike_in_counts = pool.map(count_sam, spike_in_files)\n"
   ]
  },
  {
   "cell_type": "code",
   "execution_count": 328,
   "metadata": {
    "ExecuteTime": {
     "end_time": "2019-03-01T14:08:18.690087Z",
     "start_time": "2019-03-01T14:08:18.603472Z"
    },
    "scrolled": false
   },
   "outputs": [
    {
     "data": {
      "text/html": [
       "<div>\n",
       "<style>\n",
       "    .dataframe thead tr:only-child th {\n",
       "        text-align: right;\n",
       "    }\n",
       "\n",
       "    .dataframe thead th {\n",
       "        text-align: left;\n",
       "    }\n",
       "\n",
       "    .dataframe tbody tr th {\n",
       "        vertical-align: top;\n",
       "    }\n",
       "</style>\n",
       "<table border=\"1\" class=\"dataframe\">\n",
       "  <thead>\n",
       "    <tr style=\"text-align: right;\">\n",
       "      <th></th>\n",
       "      <th>Raw</th>\n",
       "      <th>CutAdapt</th>\n",
       "      <th>Trimmed</th>\n",
       "      <th>Mapped</th>\n",
       "      <th>PASS</th>\n",
       "      <th>nonPASS</th>\n",
       "      <th>uPASS</th>\n",
       "      <th>CutAdapt%</th>\n",
       "      <th>Trimmed%</th>\n",
       "      <th>MAP%</th>\n",
       "      <th>PASS%</th>\n",
       "      <th>uPASS%</th>\n",
       "    </tr>\n",
       "    <tr>\n",
       "      <th>File_Name</th>\n",
       "      <th></th>\n",
       "      <th></th>\n",
       "      <th></th>\n",
       "      <th></th>\n",
       "      <th></th>\n",
       "      <th></th>\n",
       "      <th></th>\n",
       "      <th></th>\n",
       "      <th></th>\n",
       "      <th></th>\n",
       "      <th></th>\n",
       "      <th></th>\n",
       "    </tr>\n",
       "  </thead>\n",
       "  <tbody>\n",
       "    <tr>\n",
       "      <th>siCtrl_1</th>\n",
       "      <td>250</td>\n",
       "      <td>250</td>\n",
       "      <td>142</td>\n",
       "      <td>43</td>\n",
       "      <td>16</td>\n",
       "      <td>27</td>\n",
       "      <td>16</td>\n",
       "      <td>100.0</td>\n",
       "      <td>56.8</td>\n",
       "      <td>30.3</td>\n",
       "      <td>37.2</td>\n",
       "      <td>100.0</td>\n",
       "    </tr>\n",
       "    <tr>\n",
       "      <th>siCtrl_2</th>\n",
       "      <td>250</td>\n",
       "      <td>247</td>\n",
       "      <td>162</td>\n",
       "      <td>179</td>\n",
       "      <td>95</td>\n",
       "      <td>84</td>\n",
       "      <td>95</td>\n",
       "      <td>98.8</td>\n",
       "      <td>65.6</td>\n",
       "      <td>110.5</td>\n",
       "      <td>53.1</td>\n",
       "      <td>100.0</td>\n",
       "    </tr>\n",
       "    <tr>\n",
       "      <th>siYfg_1</th>\n",
       "      <td>250</td>\n",
       "      <td>247</td>\n",
       "      <td>192</td>\n",
       "      <td>175</td>\n",
       "      <td>129</td>\n",
       "      <td>46</td>\n",
       "      <td>129</td>\n",
       "      <td>98.8</td>\n",
       "      <td>77.7</td>\n",
       "      <td>91.1</td>\n",
       "      <td>73.7</td>\n",
       "      <td>100.0</td>\n",
       "    </tr>\n",
       "    <tr>\n",
       "      <th>siYfg_2</th>\n",
       "      <td>250</td>\n",
       "      <td>249</td>\n",
       "      <td>159</td>\n",
       "      <td>162</td>\n",
       "      <td>82</td>\n",
       "      <td>80</td>\n",
       "      <td>82</td>\n",
       "      <td>99.6</td>\n",
       "      <td>63.9</td>\n",
       "      <td>101.9</td>\n",
       "      <td>50.6</td>\n",
       "      <td>100.0</td>\n",
       "    </tr>\n",
       "  </tbody>\n",
       "</table>\n",
       "</div>"
      ],
      "text/plain": [
       "           Raw  CutAdapt  Trimmed  Mapped  PASS  nonPASS  uPASS  CutAdapt%  \\\n",
       "File_Name                                                                    \n",
       "siCtrl_1   250       250      142      43    16       27     16      100.0   \n",
       "siCtrl_2   250       247      162     179    95       84     95       98.8   \n",
       "siYfg_1    250       247      192     175   129       46    129       98.8   \n",
       "siYfg_2    250       249      159     162    82       80     82       99.6   \n",
       "\n",
       "           Trimmed%   MAP%  PASS%  uPASS%  \n",
       "File_Name                                  \n",
       "siCtrl_1       56.8   30.3   37.2   100.0  \n",
       "siCtrl_2       65.6  110.5   53.1   100.0  \n",
       "siYfg_1        77.7   91.1   73.7   100.0  \n",
       "siYfg_2        63.9  101.9   50.6   100.0  "
      ]
     },
     "execution_count": 328,
     "metadata": {},
     "output_type": "execute_result"
    }
   ],
   "source": [
    "mapped_counts = pd.DataFrame([pass_counts, nonpass_counts]).sum(axis=0)\n",
    "\n",
    "if SPIKE_IN: \n",
    "    alignment_counts = pd.DataFrame([mapped_counts.values, pass_counts, nonpass_counts, upass_counts, spike_in_counts]).T\n",
    "    alignment_counts.columns = ['Mapped', 'PASS', 'nonPASS', 'uPASS', 'Spike-in']\n",
    "else:\n",
    "    alignment_counts = pd.DataFrame([mapped_counts.values, pass_counts, nonpass_counts, upass_counts]).T\n",
    "    alignment_counts.columns = ['Mapped', 'PASS', 'nonPASS', 'uPASS']\n",
    "\n",
    "alignment_counts.index = fastq_counts.index\n",
    "count_stats.index.name = 'Sample'\n",
    "count_stats = pd.concat([fastq_counts, alignment_counts], axis = 1)\n",
    "\n",
    "count_stats['CutAdapt%'] = round(count_stats.CutAdapt/count_stats.Raw * 100, 1)\n",
    "count_stats['Trimmed%'] = round(count_stats.Trimmed/count_stats.CutAdapt * 100, 1)\n",
    "count_stats['MAP%'] = round(count_stats.Mapped/count_stats.Trimmed * 100, 1)\n",
    "count_stats['PASS%'] = round(count_stats.PASS/count_stats.Mapped * 100, 1)\n",
    "count_stats['uPASS%'] = round(count_stats.uPASS/count_stats.PASS * 100, 1)\n",
    "\n",
    "count_stats.to_csv(result_dir/'ReadStats.csv')\n",
    "\n",
    "count_stats"
   ]
  },
  {
   "cell_type": "markdown",
   "metadata": {},
   "source": [
    "## T-stretch statistics"
   ]
  },
  {
   "cell_type": "code",
   "execution_count": 329,
   "metadata": {
    "ExecuteTime": {
     "end_time": "2019-03-01T14:08:18.704738Z",
     "start_time": "2019-03-01T14:08:18.691702Z"
    },
    "scrolled": true
   },
   "outputs": [],
   "source": [
    "# summarize T-stretch length in different files\n",
    "TS = count_5Ts(sam_dir=sam_dir)"
   ]
  },
  {
   "cell_type": "code",
   "execution_count": 331,
   "metadata": {
    "ExecuteTime": {
     "end_time": "2019-03-01T14:08:38.663459Z",
     "start_time": "2019-03-01T14:08:38.635605Z"
    },
    "scrolled": false
   },
   "outputs": [
    {
     "ename": "NameError",
     "evalue": "name 'str(result_dir)' is not defined",
     "output_type": "error",
     "traceback": [
      "\u001b[0;31m---------------------------------------------------------------------------\u001b[0m",
      "\u001b[0;31mKeyError\u001b[0m                                  Traceback (most recent call last)",
      "\u001b[0;32m/usr/local/lib/python3.6/dist-packages/rpy2/ipython/rmagic.py\u001b[0m in \u001b[0;36mR\u001b[0;34m(self, line, cell, local_ns)\u001b[0m\n\u001b[1;32m    677\u001b[0m                 \u001b[0;32mtry\u001b[0m\u001b[0;34m:\u001b[0m\u001b[0;34m\u001b[0m\u001b[0;34m\u001b[0m\u001b[0m\n\u001b[0;32m--> 678\u001b[0;31m                     \u001b[0mval\u001b[0m \u001b[0;34m=\u001b[0m \u001b[0mlocal_ns\u001b[0m\u001b[0;34m[\u001b[0m\u001b[0minput\u001b[0m\u001b[0;34m]\u001b[0m\u001b[0;34m\u001b[0m\u001b[0;34m\u001b[0m\u001b[0m\n\u001b[0m\u001b[1;32m    679\u001b[0m                 \u001b[0;32mexcept\u001b[0m \u001b[0mKeyError\u001b[0m\u001b[0;34m:\u001b[0m\u001b[0;34m\u001b[0m\u001b[0;34m\u001b[0m\u001b[0m\n",
      "\u001b[0;31mKeyError\u001b[0m: 'str(result_dir)'",
      "\nDuring handling of the above exception, another exception occurred:\n",
      "\u001b[0;31mKeyError\u001b[0m                                  Traceback (most recent call last)",
      "\u001b[0;32m/usr/local/lib/python3.6/dist-packages/rpy2/ipython/rmagic.py\u001b[0m in \u001b[0;36mR\u001b[0;34m(self, line, cell, local_ns)\u001b[0m\n\u001b[1;32m    680\u001b[0m                     \u001b[0;32mtry\u001b[0m\u001b[0;34m:\u001b[0m\u001b[0;34m\u001b[0m\u001b[0;34m\u001b[0m\u001b[0m\n\u001b[0;32m--> 681\u001b[0;31m                         \u001b[0mval\u001b[0m \u001b[0;34m=\u001b[0m \u001b[0mself\u001b[0m\u001b[0;34m.\u001b[0m\u001b[0mshell\u001b[0m\u001b[0;34m.\u001b[0m\u001b[0muser_ns\u001b[0m\u001b[0;34m[\u001b[0m\u001b[0minput\u001b[0m\u001b[0;34m]\u001b[0m\u001b[0;34m\u001b[0m\u001b[0;34m\u001b[0m\u001b[0m\n\u001b[0m\u001b[1;32m    682\u001b[0m                     \u001b[0;32mexcept\u001b[0m \u001b[0mKeyError\u001b[0m\u001b[0;34m:\u001b[0m\u001b[0;34m\u001b[0m\u001b[0;34m\u001b[0m\u001b[0m\n",
      "\u001b[0;31mKeyError\u001b[0m: 'str(result_dir)'",
      "\nDuring handling of the above exception, another exception occurred:\n",
      "\u001b[0;31mNameError\u001b[0m                                 Traceback (most recent call last)",
      "\u001b[0;32m<ipython-input-331-f70a0461dcff>\u001b[0m in \u001b[0;36m<module>\u001b[0;34m()\u001b[0m\n\u001b[0;32m----> 1\u001b[0;31m \u001b[0mget_ipython\u001b[0m\u001b[0;34m(\u001b[0m\u001b[0;34m)\u001b[0m\u001b[0;34m.\u001b[0m\u001b[0mrun_cell_magic\u001b[0m\u001b[0;34m(\u001b[0m\u001b[0;34m'R'\u001b[0m\u001b[0;34m,\u001b[0m \u001b[0;34m'-i str(result_dir),TS -w 1000 -h 800 -r 100'\u001b[0m\u001b[0;34m,\u001b[0m \u001b[0;34m'\\nrequire(dplyr)\\nrequire(tidyr)\\nrequire(magrittr)\\nrequire(ggplot2)\\n\\n# convert to \"long\" format\\nTS = gather(TS, sample_name, Count, -1)\\n# re-format values\\nTS$PASS_Type = toupper(sub(\"^.+\\\\\\\\.(.+)$\", \"\\\\\\\\1\", TS$sample_name))\\nTS$PASS_Type = sub(\"NO\", \"non\", TS$PASS_Type)\\nTS$Sample = sub(\"(^.+)\\\\\\\\.(.+)$\", \"\\\\\\\\1\", TS$sample_name)\\n# calculate percentage\\nTS %<>% group_by(Sample) %>% mutate(Fraction = Count/sum(Count))  \\n\\n# create the plot \\ntheme_set(theme_gray(base_size = 20))\\np = ggplot(TS, aes(x = T_Stretch_Length, y = Fraction, color = Sample)) + \\n    geom_line(aes(linetype = PASS_Type), size = 1) + \\n    scale_linetype_manual(values = c(3,1)) +\\n    scale_x_continuous(limits = c(0, 25), breaks = 0:25) +\\n    theme(legend.position=c(0.8, 0.5))  + \\n    ggtitle(\"Distribution of 5\\' T-Stretch Length\")\\n\\n# display in notebook\\nprint(p)\\n\\n# print to pdf\\npdf(file.path(result_dir, \\'T_stretch_len_all.pdf\\'), 10, 8)\\nprint(p)\\ndev.off()'\u001b[0m\u001b[0;34m)\u001b[0m\u001b[0;34m\u001b[0m\u001b[0;34m\u001b[0m\u001b[0m\n\u001b[0m",
      "\u001b[0;32m~/.local/lib/python3.6/site-packages/IPython/core/interactiveshell.py\u001b[0m in \u001b[0;36mrun_cell_magic\u001b[0;34m(self, magic_name, line, cell)\u001b[0m\n\u001b[1;32m   2129\u001b[0m             \u001b[0mmagic_arg_s\u001b[0m \u001b[0;34m=\u001b[0m \u001b[0mself\u001b[0m\u001b[0;34m.\u001b[0m\u001b[0mvar_expand\u001b[0m\u001b[0;34m(\u001b[0m\u001b[0mline\u001b[0m\u001b[0;34m,\u001b[0m \u001b[0mstack_depth\u001b[0m\u001b[0;34m)\u001b[0m\u001b[0;34m\u001b[0m\u001b[0;34m\u001b[0m\u001b[0m\n\u001b[1;32m   2130\u001b[0m             \u001b[0;32mwith\u001b[0m \u001b[0mself\u001b[0m\u001b[0;34m.\u001b[0m\u001b[0mbuiltin_trap\u001b[0m\u001b[0;34m:\u001b[0m\u001b[0;34m\u001b[0m\u001b[0;34m\u001b[0m\u001b[0m\n\u001b[0;32m-> 2131\u001b[0;31m                 \u001b[0mresult\u001b[0m \u001b[0;34m=\u001b[0m \u001b[0mfn\u001b[0m\u001b[0;34m(\u001b[0m\u001b[0mmagic_arg_s\u001b[0m\u001b[0;34m,\u001b[0m \u001b[0mcell\u001b[0m\u001b[0;34m)\u001b[0m\u001b[0;34m\u001b[0m\u001b[0;34m\u001b[0m\u001b[0m\n\u001b[0m\u001b[1;32m   2132\u001b[0m             \u001b[0;32mreturn\u001b[0m \u001b[0mresult\u001b[0m\u001b[0;34m\u001b[0m\u001b[0;34m\u001b[0m\u001b[0m\n\u001b[1;32m   2133\u001b[0m \u001b[0;34m\u001b[0m\u001b[0m\n",
      "\u001b[0;32m<decorator-gen-129>\u001b[0m in \u001b[0;36mR\u001b[0;34m(self, line, cell, local_ns)\u001b[0m\n",
      "\u001b[0;32m~/.local/lib/python3.6/site-packages/IPython/core/magic.py\u001b[0m in \u001b[0;36m<lambda>\u001b[0;34m(f, *a, **k)\u001b[0m\n\u001b[1;32m    185\u001b[0m     \u001b[0;31m# but it's overkill for just that one bit of state.\u001b[0m\u001b[0;34m\u001b[0m\u001b[0;34m\u001b[0m\u001b[0;34m\u001b[0m\u001b[0m\n\u001b[1;32m    186\u001b[0m     \u001b[0;32mdef\u001b[0m \u001b[0mmagic_deco\u001b[0m\u001b[0;34m(\u001b[0m\u001b[0marg\u001b[0m\u001b[0;34m)\u001b[0m\u001b[0;34m:\u001b[0m\u001b[0;34m\u001b[0m\u001b[0;34m\u001b[0m\u001b[0m\n\u001b[0;32m--> 187\u001b[0;31m         \u001b[0mcall\u001b[0m \u001b[0;34m=\u001b[0m \u001b[0;32mlambda\u001b[0m \u001b[0mf\u001b[0m\u001b[0;34m,\u001b[0m \u001b[0;34m*\u001b[0m\u001b[0ma\u001b[0m\u001b[0;34m,\u001b[0m \u001b[0;34m**\u001b[0m\u001b[0mk\u001b[0m\u001b[0;34m:\u001b[0m \u001b[0mf\u001b[0m\u001b[0;34m(\u001b[0m\u001b[0;34m*\u001b[0m\u001b[0ma\u001b[0m\u001b[0;34m,\u001b[0m \u001b[0;34m**\u001b[0m\u001b[0mk\u001b[0m\u001b[0;34m)\u001b[0m\u001b[0;34m\u001b[0m\u001b[0;34m\u001b[0m\u001b[0m\n\u001b[0m\u001b[1;32m    188\u001b[0m \u001b[0;34m\u001b[0m\u001b[0m\n\u001b[1;32m    189\u001b[0m         \u001b[0;32mif\u001b[0m \u001b[0mcallable\u001b[0m\u001b[0;34m(\u001b[0m\u001b[0marg\u001b[0m\u001b[0;34m)\u001b[0m\u001b[0;34m:\u001b[0m\u001b[0;34m\u001b[0m\u001b[0;34m\u001b[0m\u001b[0m\n",
      "\u001b[0;32m/usr/local/lib/python3.6/dist-packages/rpy2/ipython/rmagic.py\u001b[0m in \u001b[0;36mR\u001b[0;34m(self, line, cell, local_ns)\u001b[0m\n\u001b[1;32m    681\u001b[0m                         \u001b[0mval\u001b[0m \u001b[0;34m=\u001b[0m \u001b[0mself\u001b[0m\u001b[0;34m.\u001b[0m\u001b[0mshell\u001b[0m\u001b[0;34m.\u001b[0m\u001b[0muser_ns\u001b[0m\u001b[0;34m[\u001b[0m\u001b[0minput\u001b[0m\u001b[0;34m]\u001b[0m\u001b[0;34m\u001b[0m\u001b[0;34m\u001b[0m\u001b[0m\n\u001b[1;32m    682\u001b[0m                     \u001b[0;32mexcept\u001b[0m \u001b[0mKeyError\u001b[0m\u001b[0;34m:\u001b[0m\u001b[0;34m\u001b[0m\u001b[0;34m\u001b[0m\u001b[0m\n\u001b[0;32m--> 683\u001b[0;31m                         \u001b[0;32mraise\u001b[0m \u001b[0mNameError\u001b[0m\u001b[0;34m(\u001b[0m\u001b[0;34m\"name '%s' is not defined\"\u001b[0m \u001b[0;34m%\u001b[0m \u001b[0minput\u001b[0m\u001b[0;34m)\u001b[0m\u001b[0;34m\u001b[0m\u001b[0;34m\u001b[0m\u001b[0m\n\u001b[0m\u001b[1;32m    684\u001b[0m                 \u001b[0;32mwith\u001b[0m \u001b[0mlocalconverter\u001b[0m\u001b[0;34m(\u001b[0m\u001b[0mconverter\u001b[0m\u001b[0;34m)\u001b[0m \u001b[0;32mas\u001b[0m \u001b[0mcv\u001b[0m\u001b[0;34m:\u001b[0m\u001b[0;34m\u001b[0m\u001b[0;34m\u001b[0m\u001b[0m\n\u001b[1;32m    685\u001b[0m                     \u001b[0mro\u001b[0m\u001b[0;34m.\u001b[0m\u001b[0mr\u001b[0m\u001b[0;34m.\u001b[0m\u001b[0massign\u001b[0m\u001b[0;34m(\u001b[0m\u001b[0minput\u001b[0m\u001b[0;34m,\u001b[0m \u001b[0mval\u001b[0m\u001b[0;34m)\u001b[0m\u001b[0;34m\u001b[0m\u001b[0;34m\u001b[0m\u001b[0m\n",
      "\u001b[0;31mNameError\u001b[0m: name 'str(result_dir)' is not defined"
     ]
    }
   ],
   "source": [
    "%%R -i str(result_dir),TS -w 1000 -h 800 -r 100\n",
    "\n",
    "require(dplyr)\n",
    "require(tidyr)\n",
    "require(magrittr)\n",
    "require(ggplot2)\n",
    "\n",
    "# convert to \"long\" format\n",
    "TS = gather(TS, sample_name, Count, -1)\n",
    "# re-format values\n",
    "TS$PASS_Type = toupper(sub(\"^.+\\\\.(.+)$\", \"\\\\1\", TS$sample_name))\n",
    "TS$PASS_Type = sub(\"NO\", \"non\", TS$PASS_Type)\n",
    "TS$Sample = sub(\"(^.+)\\\\.(.+)$\", \"\\\\1\", TS$sample_name)\n",
    "# calculate percentage\n",
    "TS %<>% group_by(Sample) %>% mutate(Fraction = Count/sum(Count))  \n",
    "\n",
    "# create the plot \n",
    "theme_set(theme_gray(base_size = 20))\n",
    "p = ggplot(TS, aes(x = T_Stretch_Length, y = Fraction, color = Sample)) + \n",
    "    geom_line(aes(linetype = PASS_Type), size = 1) + \n",
    "    scale_linetype_manual(values = c(3,1)) +\n",
    "    scale_x_continuous(limits = c(0, 25), breaks = 0:25) +\n",
    "    theme(legend.position=c(0.8, 0.5))  + \n",
    "    ggtitle(\"Distribution of 5' T-Stretch Length\")\n",
    "\n",
    "# display in notebook\n",
    "print(p)\n",
    "\n",
    "# print to pdf\n",
    "pdf(file.path(result_dir, 'T_stretch_len_all.pdf'), 10, 8)\n",
    "print(p)\n",
    "dev.off()"
   ]
  },
  {
   "cell_type": "markdown",
   "metadata": {},
   "source": [
    "## Create UCSC genome browser tracks "
   ]
  },
  {
   "cell_type": "code",
   "execution_count": null,
   "metadata": {
    "ExecuteTime": {
     "end_time": "2019-03-01T14:08:18.738629Z",
     "start_time": "2019-03-01T14:07:02.660Z"
    },
    "scrolled": true
   },
   "outputs": [],
   "source": [
    "samtools = '~/software/ucsc/samtools '\n",
    "genomeCoverageBed = '~/software/ucsc/genomeCoverageBed '\n",
    "genome_size = '~/projects/fud/ucsc/genomes/' + GENOME + '.chrom.sizes'\n",
    "bedGraphToBigWig = '~/software/ucsc/bedGraphToBigWig '"
   ]
  },
  {
   "cell_type": "code",
   "execution_count": null,
   "metadata": {
    "ExecuteTime": {
     "end_time": "2019-03-01T14:08:18.739218Z",
     "start_time": "2019-03-01T14:07:02.662Z"
    },
    "scrolled": true
   },
   "outputs": [],
   "source": [
    "# call the function to make UCSC genome browser tracks\n",
    "make_url(project, EXPERIMENT, sam_dir, genome_size, genomeCoverageBed,\n",
    "         bedGraphToBigWig)"
   ]
  },
  {
   "cell_type": "code",
   "execution_count": null,
   "metadata": {
    "ExecuteTime": {
     "end_time": "2019-03-01T14:08:18.739794Z",
     "start_time": "2019-03-01T14:07:02.664Z"
    }
   },
   "outputs": [],
   "source": [
    "# prepare for copying files\n",
    "if not os.path.exists(os.path.join(sam_dir, PROJECT)):\n",
    "    os.makedirs(os.path.join(sam_dir, PROJECT))\n",
    "os.system('mkdir ' + os.path.join(sam_dir, PROJECT, EXPERIMENT))\n",
    "os.system('mv ' + os.path.join(sam_dir, '*.bw ') +\n",
    "          os.path.join(sam_dir, PROJECT, EXPERIMENT))\n",
    "os.system('mv ' + os.path.join(sam_dir, 'bigwigCaller.txt ') +\n",
    "          os.path.join(sam_dir, PROJECT, EXPERIMENT))"
   ]
  },
  {
   "cell_type": "code",
   "execution_count": null,
   "metadata": {
    "ExecuteTime": {
     "end_time": "2019-03-01T14:08:18.740583Z",
     "start_time": "2019-03-01T14:07:02.666Z"
    },
    "scrolled": false
   },
   "outputs": [],
   "source": [
    "# copy the bigwig and track definition files to the http-enabled intron server\n",
    "cmd = 'scp -r ' + os.path.join(sam_dir, PROJECT) + \\\n",
    "      ' zhengdh@intron.njms.rutgers.edu:' + \\\n",
    "      '~/../www/zhengdh/bigwig/'\n",
    "os.system(cmd)\n",
    "cmd = 'rm -r ' + os.path.join(sam_dir, PROJECT)\n",
    "os.system(cmd)\n",
    "\n",
    "if SAVE_SPACE:\n",
    "    cmd = 'rm -r ' + sam_dir\n",
    "    os.system(cmd)\n",
    "\n",
    "url = 'https://genome.ucsc.edu/cgi-bin/hgTracks?db=' + GENOME + \\\n",
    "      '&position=chr17%3A35092728-35095537&hgct_customText=' + \\\n",
    "      'http://intron.njms.rutgers.edu/zhengdh/bigwig/' + PROJECT + '/' + \\\n",
    "    EXPERIMENT + '/bigwigCaller.txt'\n",
    "print('The following URL will be opened in a new tab automatically:\\n')\n",
    "print(url)\n",
    "#msg = textwrap.fill(url, width=100)\n",
    "#print(msg)\n",
    "# wait for the server to be ready\n",
    "sleep(5)\n",
    "import webbrowser\n",
    "_ = webbrowser.open(url)"
   ]
  },
  {
   "cell_type": "markdown",
   "metadata": {},
   "source": [
    "## Download UCSC genome browser images for selected genes"
   ]
  },
  {
   "cell_type": "code",
   "execution_count": null,
   "metadata": {
    "ExecuteTime": {
     "end_time": "2019-03-01T14:08:18.741594Z",
     "start_time": "2019-03-01T14:07:02.731Z"
    }
   },
   "outputs": [],
   "source": [
    "import pandas as pd\n",
    "input_dir = Path(result_dir)/\"PM\"\n",
    "output_dir = input_dir/\"UCSC_snapshot\"\n",
    "output_dir.mkdir(exist_ok=True, parents=True)\n",
    "df = pd.read_csv(input_dir/\"NT_normalized_deltaPM.csv\")\n",
    "print(df.shape)\n",
    "df = df[df[\"NT_diff_1_norm_RED_n=10\"].abs() >= 1].sort_values(\"gene_symbol\")\n",
    "print(df.shape)\n",
    "df.columns\n",
    "#df.head()"
   ]
  },
  {
   "cell_type": "code",
   "execution_count": null,
   "metadata": {
    "ExecuteTime": {
     "end_time": "2019-03-01T14:08:18.742993Z",
     "start_time": "2019-03-01T14:07:02.733Z"
    },
    "scrolled": true
   },
   "outputs": [],
   "source": [
    "from urllib.request import urlopen, urlretrieve\n",
    "for gene_symbol, url in zip(df.gene_symbol, df.url):\n",
    "    print(gene_symbol)\n",
    "    print(url)\n",
    "    \n",
    "    with urlopen(url) as conn:\n",
    "        source = conn.read(100000)\n",
    "        image_location = re.search('\\/trash\\/hgt\\/hgt_genome(.*?)\\.png',\n",
    "                               str(source)).group()\n",
    "        url_to_image = 'https://genome.ucsc.edu' + image_location\n",
    "        UCSC_snapshot = output_dir/(gene_symbol+\".png\")\n",
    "        urlretrieve(url_to_image, UCSC_snapshot)\n",
    "    \n",
    "\n"
   ]
  },
  {
   "cell_type": "code",
   "execution_count": null,
   "metadata": {
    "ExecuteTime": {
     "end_time": "2019-03-01T14:08:18.743974Z",
     "start_time": "2019-03-01T14:07:02.735Z"
    }
   },
   "outputs": [],
   "source": [
    "import pandas as pd\n",
    "input_dir = Path(result_dir)/\"PM\"\n",
    "output_dir = input_dir/\"AS_UCSC_snapshot\"\n",
    "output_dir.mkdir(exist_ok=True, parents=True)\n",
    "df = pd.read_csv(input_dir/\"AS_normalized_deltaPM.csv\")\n",
    "print(df.shape)\n",
    "df = df[(df[\"AS_diff_1_norm_RED_n=10\"].abs() >= 1) & (df['aUTR_length'] >= 1000)].sort_values(\"gene_symbol\")\n",
    "print(df.shape)\n",
    "df.columns\n",
    "#df.head()"
   ]
  },
  {
   "cell_type": "code",
   "execution_count": null,
   "metadata": {
    "ExecuteTime": {
     "end_time": "2019-03-01T14:08:18.744872Z",
     "start_time": "2019-03-01T14:07:02.737Z"
    }
   },
   "outputs": [],
   "source": [
    "from urllib.request import urlopen, urlretrieve\n",
    "for gene_symbol, url in zip(df.gene_symbol, df.url):\n",
    "    print(gene_symbol)\n",
    "    print(url)\n",
    "    \n",
    "    with urlopen(url) as conn:\n",
    "        source = conn.read(100000)\n",
    "        image_location = re.search('\\/trash\\/hgt\\/hgt_genome(.*?)\\.png',\n",
    "                               str(source)).group()\n",
    "        url_to_image = 'https://genome.ucsc.edu' + image_location\n",
    "        UCSC_snapshot = output_dir/(gene_symbol+\".png\")\n",
    "        urlretrieve(url_to_image, UCSC_snapshot)"
   ]
  }
 ],
 "metadata": {
  "kernelspec": {
   "display_name": "Python 3",
   "language": "python",
   "name": "python3"
  },
  "language_info": {
   "codemirror_mode": {
    "name": "ipython",
    "version": 3
   },
   "file_extension": ".py",
   "mimetype": "text/x-python",
   "name": "python",
   "nbconvert_exporter": "python",
   "pygments_lexer": "ipython3",
   "version": "3.6.7"
  },
  "toc": {
   "nav_menu": {},
   "number_sections": true,
   "sideBar": true,
   "skip_h1_title": false,
   "toc_cell": false,
   "toc_position": {
    "height": "841px",
    "left": "0px",
    "right": "1661px",
    "top": "111px",
    "width": "212px"
   },
   "toc_section_display": "block",
   "toc_window_display": true
  },
  "varInspector": {
   "cols": {
    "lenName": 16,
    "lenType": 16,
    "lenVar": 40
   },
   "kernels_config": {
    "python": {
     "delete_cmd_postfix": "",
     "delete_cmd_prefix": "del ",
     "library": "var_list.py",
     "varRefreshCmd": "print(var_dic_list())"
    },
    "r": {
     "delete_cmd_postfix": ") ",
     "delete_cmd_prefix": "rm(",
     "library": "var_list.r",
     "varRefreshCmd": "cat(var_dic_list()) "
    }
   },
   "oldHeight": 745.09091,
   "position": {
    "height": "766px",
    "left": "1307.08px",
    "right": "20px",
    "top": "109.45px",
    "width": "370px"
   },
   "types_to_exclude": [
    "module",
    "function",
    "builtin_function_or_method",
    "instance",
    "_Feature"
   ],
   "varInspector_section_display": "block",
   "window_display": false
  }
 },
 "nbformat": 4,
 "nbformat_minor": 2
}
