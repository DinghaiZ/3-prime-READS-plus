{
 "cells": [
  {
   "cell_type": "markdown",
   "metadata": {},
   "source": [
    "# 3'READS+ Pipeline (Part 2)\n",
    "**This notebook is the Part 2 of the 3'READS+ pipeline, which will do the following:**\n",
    "\n",
    "1. Map pA sites from Part-1 to genic features\n",
    "2. Calculate other features assciated with the pA sites based on genome annotation.\n",
    "\n",
    "Most of the above computation intensive steps are done by **parallel computing**.\n",
    "\n",
    "**Required softwares**\n",
    " * [dzlib.R](https://github.com/DinghaiZ/3-prime-READS-plus/blob/master/modules/dzlib.R) in the [modules](https://github.com/DinghaiZ/3-prime-READS-plus/tree/master/modules) folder \n",
    " * R packages: foreach, doParallel, ShortRead, Biostrings, dplyr, tidyr, grid, ggplot2\n",
    " * Linux environment\n",
    " \n",
    "**Hardware requirements**\n",
    " * Muticore CPU for parallel computing"
   ]
  },
  {
   "cell_type": "code",
   "execution_count": null,
   "metadata": {},
   "outputs": [],
   "source": []
  },
  {
   "cell_type": "code",
   "execution_count": null,
   "metadata": {},
   "outputs": [],
   "source": []
  }
 ],
 "metadata": {
  "kernelspec": {
   "display_name": "R",
   "language": "R",
   "name": "ir"
  },
  "language_info": {
   "codemirror_mode": "r",
   "file_extension": ".r",
   "mimetype": "text/x-r-source",
   "name": "R",
   "pygments_lexer": "r",
   "version": "3.6.1"
  }
 },
 "nbformat": 4,
 "nbformat_minor": 4
}
