{
 "cells": [
  {
   "cell_type": "markdown",
   "metadata": {},
   "source": [
    "# A CNN model for predicting cleavage and polyadenylation sites\n",
    "\n",
    "This CNN model is based on [fastai v2](https://github.com/fastai/fastai2), a deep learning library based on PyTorch.  \n",
    "\n",
    "During the first few hours of working on this project, the model either had bugs or was as stupid as a coin (with a constant 63% accuracy). After I reduced the width of the input sequences (thus avoiding background and focusing on the signal), the accuracy suddenly improved to 81%. After trying different architectures, the accuracy has reached 94.0% and the AUC is 0.98."
   ]
  },
  {
   "cell_type": "code",
   "execution_count": 1,
   "metadata": {},
   "outputs": [],
   "source": [
    "from fastai2.data.all import *\n",
    "from fastai2.basics import *\n",
    "from fastai2.callback.all import *\n",
    "from fastai2.vision.all import *\n",
    "\n",
    "from sklearn.metrics import roc_curve, auc\n",
    "from sklearn.metrics import confusion_matrix, precision_recall_curve\n",
    "\n",
    "import pandas as pd\n",
    "import matplotlib.pyplot as plt\n"
   ]
  },
  {
   "cell_type": "markdown",
   "metadata": {},
   "source": [
    "## Define functions for extracting genomic DNA sequence"
   ]
  },
  {
   "cell_type": "code",
   "execution_count": 2,
   "metadata": {},
   "outputs": [],
   "source": [
    "def load_genome(genome_dir):\n",
    "    '''Read fasta files containing genomic sequence from genome_dir into a dict.'''\n",
    "    fasta_files = Path(genome_dir).glob('chr*.fa')\n",
    "    genome = {}\n",
    "    for fasta_file in fasta_files:\n",
    "        with open(fasta_file, 'r') as f:\n",
    "            f.readline()\n",
    "            line = f.read()\n",
    "            genome[str(fasta_file.name).replace('.fa', '')] = line.replace('\\n', '')\n",
    "    return genome\n",
    "    \n",
    "       \n",
    "def reverse_complement(seq, mol_type = 'DNA'):\n",
    "    '''Get reverse complement of seq.'''\n",
    "    # Genomic sequences contain both lower and upper case letters   \n",
    "    seq = seq.upper()\n",
    "    if mol_type == 'DNA':\n",
    "        complement = {'A': 'T', 'C': 'G', 'G': 'C', 'T': 'A', 'N': 'N'}\n",
    "    elif mol_type == 'RNA':\n",
    "        complement = {'A': 'U', 'C': 'G', 'G': 'C', 'U': 'A', 'N': 'N'}\n",
    "    return \"\".join(complement.get(base) for base in reversed(seq))\n",
    "    \n",
    "\n",
    "def get_seq(chromosome, strand, position, offset, genome):\n",
    "    '''Get stranded genomic sequence (-80nt ~ 40nt) from the cleavage site (position).'''\n",
    "    if strand == '+': \n",
    "        start = position + offset - 80\n",
    "        end   = position + offset + 40\n",
    "        seq   = genome[chromosome][(start-1) : end].upper() \n",
    "    elif strand == '-': \n",
    "        start = position + offset - 40\n",
    "        end   = position + offset + 80\n",
    "        seq   = genome[chromosome][(start-1) : end].upper() \n",
    "        seq   = reverse_complement(seq, mol_type = 'DNA')\n",
    "    return seq"
   ]
  },
  {
   "cell_type": "markdown",
   "metadata": {},
   "source": [
    "## Get sequences surrounding polyadenylation (pA ) sites"
   ]
  },
  {
   "cell_type": "code",
   "execution_count": 3,
   "metadata": {},
   "outputs": [],
   "source": [
    "# Directory containing fasta files for different genomes\n",
    "GENOME_FASTA_DIR = '/home/dinghai/projects/fud/ucsc/genomes' \n",
    "\n",
    "GENOME = 'mm9' \n",
    "\n",
    "genome_dir = Path(GENOME_FASTA_DIR)/GENOME"
   ]
  },
  {
   "cell_type": "markdown",
   "metadata": {},
   "source": [
    "Reand the file containing pA site information, which is the output from [**Part 1 of my 3'READS+ pipeline**](https://github.com/DinghaiZ/3-prime-READS-plus/blob/master/projects/project_1/experiment_1/notebooks/Part-1.ipynb). Only the first three columns are needed for extracting sequences. The other columns are used to to filter lowly expressed pA sites."
   ]
  },
  {
   "cell_type": "code",
   "execution_count": 4,
   "metadata": {
    "scrolled": true
   },
   "outputs": [
    {
     "data": {
      "text/html": [
       "<div>\n",
       "<style scoped>\n",
       "    .dataframe tbody tr th:only-of-type {\n",
       "        vertical-align: middle;\n",
       "    }\n",
       "\n",
       "    .dataframe tbody tr th {\n",
       "        vertical-align: top;\n",
       "    }\n",
       "\n",
       "    .dataframe thead th {\n",
       "        text-align: right;\n",
       "    }\n",
       "</style>\n",
       "<table border=\"1\" class=\"dataframe\">\n",
       "  <thead>\n",
       "    <tr style=\"text-align: right;\">\n",
       "      <th></th>\n",
       "      <th>chromosome</th>\n",
       "      <th>strand</th>\n",
       "      <th>position</th>\n",
       "      <th>Ctrl_Cyto_1</th>\n",
       "      <th>Ctrl_Cyto_2</th>\n",
       "      <th>Ctrl_ER_1</th>\n",
       "      <th>Ctrl_ER_2</th>\n",
       "      <th>Puro_Cyto_1</th>\n",
       "      <th>Puro_ER_1</th>\n",
       "      <th>Puro_Cyto_2</th>\n",
       "      <th>Puro_ER_2</th>\n",
       "    </tr>\n",
       "  </thead>\n",
       "  <tbody>\n",
       "    <tr>\n",
       "      <th>0</th>\n",
       "      <td>chr12</td>\n",
       "      <td>-</td>\n",
       "      <td>3121202</td>\n",
       "      <td>0</td>\n",
       "      <td>0</td>\n",
       "      <td>0</td>\n",
       "      <td>1</td>\n",
       "      <td>0</td>\n",
       "      <td>0</td>\n",
       "      <td>0</td>\n",
       "      <td>0</td>\n",
       "    </tr>\n",
       "    <tr>\n",
       "      <th>1</th>\n",
       "      <td>chr12</td>\n",
       "      <td>-</td>\n",
       "      <td>3160002</td>\n",
       "      <td>0</td>\n",
       "      <td>1</td>\n",
       "      <td>0</td>\n",
       "      <td>0</td>\n",
       "      <td>0</td>\n",
       "      <td>0</td>\n",
       "      <td>0</td>\n",
       "      <td>0</td>\n",
       "    </tr>\n",
       "    <tr>\n",
       "      <th>2</th>\n",
       "      <td>chr12</td>\n",
       "      <td>-</td>\n",
       "      <td>3232818</td>\n",
       "      <td>0</td>\n",
       "      <td>0</td>\n",
       "      <td>0</td>\n",
       "      <td>1</td>\n",
       "      <td>1</td>\n",
       "      <td>1</td>\n",
       "      <td>0</td>\n",
       "      <td>0</td>\n",
       "    </tr>\n",
       "    <tr>\n",
       "      <th>3</th>\n",
       "      <td>chr12</td>\n",
       "      <td>-</td>\n",
       "      <td>3232888</td>\n",
       "      <td>1</td>\n",
       "      <td>0</td>\n",
       "      <td>0</td>\n",
       "      <td>0</td>\n",
       "      <td>0</td>\n",
       "      <td>0</td>\n",
       "      <td>0</td>\n",
       "      <td>0</td>\n",
       "    </tr>\n",
       "    <tr>\n",
       "      <th>4</th>\n",
       "      <td>chr12</td>\n",
       "      <td>-</td>\n",
       "      <td>3233135</td>\n",
       "      <td>0</td>\n",
       "      <td>3</td>\n",
       "      <td>0</td>\n",
       "      <td>2</td>\n",
       "      <td>0</td>\n",
       "      <td>0</td>\n",
       "      <td>0</td>\n",
       "      <td>0</td>\n",
       "    </tr>\n",
       "  </tbody>\n",
       "</table>\n",
       "</div>"
      ],
      "text/plain": [
       "  chromosome strand  position  Ctrl_Cyto_1  Ctrl_Cyto_2  Ctrl_ER_1  Ctrl_ER_2  \\\n",
       "0      chr12      -   3121202            0            0          0          1   \n",
       "1      chr12      -   3160002            0            1          0          0   \n",
       "2      chr12      -   3232818            0            0          0          1   \n",
       "3      chr12      -   3232888            1            0          0          0   \n",
       "4      chr12      -   3233135            0            3          0          2   \n",
       "\n",
       "   Puro_Cyto_1  Puro_ER_1  Puro_Cyto_2  Puro_ER_2  \n",
       "0            0          0            0          0  \n",
       "1            0          0            0          0  \n",
       "2            1          1            0          0  \n",
       "3            0          0            0          0  \n",
       "4            0          0            0          0  "
      ]
     },
     "execution_count": 4,
     "metadata": {},
     "output_type": "execute_result"
    }
   ],
   "source": [
    "pA_cluster_file = '/home/dinghai/projects/ER/191105_C2C12_Puromycin/results/clusters.using.all.reads.csv'\n",
    "\n",
    "pA_clusters = pd.read_csv(pA_cluster_file)\n",
    "\n",
    "pA_clusters.head()"
   ]
  },
  {
   "cell_type": "code",
   "execution_count": 5,
   "metadata": {},
   "outputs": [
    {
     "data": {
      "text/plain": [
       "(326517, 11)"
      ]
     },
     "execution_count": 5,
     "metadata": {},
     "output_type": "execute_result"
    }
   ],
   "source": [
    "pA_clusters.shape"
   ]
  },
  {
   "cell_type": "markdown",
   "metadata": {},
   "source": [
    "Filter out pA sites in chromosome M, because most of them are not real."
   ]
  },
  {
   "cell_type": "code",
   "execution_count": 6,
   "metadata": {},
   "outputs": [
    {
     "data": {
      "text/plain": [
       "(325800, 11)"
      ]
     },
     "execution_count": 6,
     "metadata": {},
     "output_type": "execute_result"
    }
   ],
   "source": [
    "pA_clusters = pA_clusters[pA_clusters.chromosome != 'chrM']\n",
    "\n",
    "pA_clusters.shape"
   ]
  },
  {
   "cell_type": "markdown",
   "metadata": {},
   "source": [
    "Filter out pA sites supported with low read #, because they tend to be noise too."
   ]
  },
  {
   "cell_type": "code",
   "execution_count": 7,
   "metadata": {},
   "outputs": [
    {
     "data": {
      "text/plain": [
       "(27813, 11)"
      ]
     },
     "execution_count": 7,
     "metadata": {},
     "output_type": "execute_result"
    }
   ],
   "source": [
    "pA_clusters = pA_clusters[pA_clusters.filter(regex='_\\d$', axis=1).sum(axis=1) >= 8*5]\n",
    "\n",
    "pA_clusters.shape"
   ]
  },
  {
   "cell_type": "code",
   "execution_count": 8,
   "metadata": {},
   "outputs": [
    {
     "data": {
      "text/html": [
       "<div>\n",
       "<style scoped>\n",
       "    .dataframe tbody tr th:only-of-type {\n",
       "        vertical-align: middle;\n",
       "    }\n",
       "\n",
       "    .dataframe tbody tr th {\n",
       "        vertical-align: top;\n",
       "    }\n",
       "\n",
       "    .dataframe thead th {\n",
       "        text-align: right;\n",
       "    }\n",
       "</style>\n",
       "<table border=\"1\" class=\"dataframe\">\n",
       "  <thead>\n",
       "    <tr style=\"text-align: right;\">\n",
       "      <th></th>\n",
       "      <th>chromosome</th>\n",
       "      <th>strand</th>\n",
       "      <th>position</th>\n",
       "      <th>Ctrl_Cyto_1</th>\n",
       "      <th>Ctrl_Cyto_2</th>\n",
       "      <th>Ctrl_ER_1</th>\n",
       "      <th>Ctrl_ER_2</th>\n",
       "      <th>Puro_Cyto_1</th>\n",
       "      <th>Puro_ER_1</th>\n",
       "      <th>Puro_Cyto_2</th>\n",
       "      <th>Puro_ER_2</th>\n",
       "    </tr>\n",
       "  </thead>\n",
       "  <tbody>\n",
       "    <tr>\n",
       "      <th>8</th>\n",
       "      <td>chr12</td>\n",
       "      <td>-</td>\n",
       "      <td>3247430</td>\n",
       "      <td>57</td>\n",
       "      <td>65</td>\n",
       "      <td>65</td>\n",
       "      <td>64</td>\n",
       "      <td>59</td>\n",
       "      <td>52</td>\n",
       "      <td>52</td>\n",
       "      <td>71</td>\n",
       "    </tr>\n",
       "    <tr>\n",
       "      <th>10</th>\n",
       "      <td>chr12</td>\n",
       "      <td>-</td>\n",
       "      <td>3247714</td>\n",
       "      <td>7</td>\n",
       "      <td>15</td>\n",
       "      <td>19</td>\n",
       "      <td>53</td>\n",
       "      <td>15</td>\n",
       "      <td>20</td>\n",
       "      <td>13</td>\n",
       "      <td>26</td>\n",
       "    </tr>\n",
       "    <tr>\n",
       "      <th>27</th>\n",
       "      <td>chr12</td>\n",
       "      <td>-</td>\n",
       "      <td>3249475</td>\n",
       "      <td>5</td>\n",
       "      <td>6</td>\n",
       "      <td>9</td>\n",
       "      <td>15</td>\n",
       "      <td>11</td>\n",
       "      <td>7</td>\n",
       "      <td>5</td>\n",
       "      <td>12</td>\n",
       "    </tr>\n",
       "    <tr>\n",
       "      <th>30</th>\n",
       "      <td>chr12</td>\n",
       "      <td>-</td>\n",
       "      <td>3249704</td>\n",
       "      <td>140</td>\n",
       "      <td>129</td>\n",
       "      <td>145</td>\n",
       "      <td>219</td>\n",
       "      <td>210</td>\n",
       "      <td>146</td>\n",
       "      <td>179</td>\n",
       "      <td>161</td>\n",
       "    </tr>\n",
       "    <tr>\n",
       "      <th>63</th>\n",
       "      <td>chr12</td>\n",
       "      <td>-</td>\n",
       "      <td>3631620</td>\n",
       "      <td>0</td>\n",
       "      <td>0</td>\n",
       "      <td>5</td>\n",
       "      <td>6</td>\n",
       "      <td>2</td>\n",
       "      <td>10</td>\n",
       "      <td>3</td>\n",
       "      <td>15</td>\n",
       "    </tr>\n",
       "  </tbody>\n",
       "</table>\n",
       "</div>"
      ],
      "text/plain": [
       "   chromosome strand  position  Ctrl_Cyto_1  Ctrl_Cyto_2  Ctrl_ER_1  \\\n",
       "8       chr12      -   3247430           57           65         65   \n",
       "10      chr12      -   3247714            7           15         19   \n",
       "27      chr12      -   3249475            5            6          9   \n",
       "30      chr12      -   3249704          140          129        145   \n",
       "63      chr12      -   3631620            0            0          5   \n",
       "\n",
       "    Ctrl_ER_2  Puro_Cyto_1  Puro_ER_1  Puro_Cyto_2  Puro_ER_2  \n",
       "8          64           59         52           52         71  \n",
       "10         53           15         20           13         26  \n",
       "27         15           11          7            5         12  \n",
       "30        219          210        146          179        161  \n",
       "63          6            2         10            3         15  "
      ]
     },
     "execution_count": 8,
     "metadata": {},
     "output_type": "execute_result"
    }
   ],
   "source": [
    "pA_clusters.head()"
   ]
  },
  {
   "cell_type": "markdown",
   "metadata": {},
   "source": [
    "Extract genomic sequences surrounding the pA sites."
   ]
  },
  {
   "cell_type": "code",
   "execution_count": 9,
   "metadata": {},
   "outputs": [],
   "source": [
    "genome = load_genome(genome_dir)"
   ]
  },
  {
   "cell_type": "code",
   "execution_count": 10,
   "metadata": {},
   "outputs": [],
   "source": [
    "positive_seqs = pA_clusters.apply(lambda row: \n",
    "                                  get_seq(row.chromosome, row.strand, row.position, \n",
    "                                          offset=0, genome=genome), \n",
    "                                  axis=1) "
   ]
  },
  {
   "cell_type": "code",
   "execution_count": 11,
   "metadata": {
    "scrolled": false
   },
   "outputs": [
    {
     "data": {
      "text/plain": [
       "8     ATACTCTACTTAACAATTTAAATAAACTGAAATATTTCTAGATGGTCTACTTCTGTTCATATAAAAACAAACCTGATTTCCAACTGTGTGGTTTGGTTTTCATTTATTTTTGGAGTTGGAG\n",
       "10    TAATTATAATCGACATTGTACAGAGAAAGGATAAGGCTACCTTTGTTAAATCTGCACTTTCTGAATATCAAAAAAAAAAACAAAAAAAACAAAAAAACCCACCAAAAGGGAAATGGAAGTA\n",
       "27    GATTTACTTGCTCACTCAGCCCTGCACTTCAGTTGTATTATAGTCCAGTTCTTATCAACATTAAACTAGAGCAATCATTTCAACTATTCTGCAAATTGTATAAGAATAAAAGTTAGAATTA\n",
       "30    GCTCTCCTGTCCATCTGCTGCCATCCACCATCCGGTTCTCTTCTTGCTGCAAAATAAAACACTCTGTCCATTTTTAACTCTAAACAGATATTTTTGTTTCTCATCTTAACTATTCAATCCA\n",
       "63    CGTAAGGAGATCTGAATCCCTCTTCTGGAGTGTCTGAAGACAGCTGCCGTGTACTTACATATAATAAATAAATACATCTTTTTTTTTTTTAAATCTACTTTTAAACTAGAAAACCAAAAAT\n",
       "dtype: object"
      ]
     },
     "execution_count": 11,
     "metadata": {},
     "output_type": "execute_result"
    }
   ],
   "source": [
    "positive_seqs.head()"
   ]
  },
  {
   "cell_type": "markdown",
   "metadata": {},
   "source": [
    "## Get background sequences as negative examples\n",
    "I'll use sequences 200nt upstream or downstream of the pA sites as negative examples. Since these sequences are close to the pA sites, they tend be similar to the positive examples in terms of base composition. If we use CDS sequences or intergenic sequences, it might be too easy for the model to tell the difference.\n",
    "\n",
    "But first of all, we need to avoid sequences that overlaps with other pA sites, since the distance between two pA sites could be around 200nt. "
   ]
  },
  {
   "cell_type": "code",
   "execution_count": 12,
   "metadata": {
    "scrolled": true
   },
   "outputs": [],
   "source": [
    "pA_clusters = pA_clusters.sort_values(by=['chromosome', 'position'])"
   ]
  },
  {
   "cell_type": "code",
   "execution_count": 13,
   "metadata": {},
   "outputs": [],
   "source": [
    "previous_pAs = (pA_clusters\n",
    "                .position[:-1]\n",
    "                .reset_index()\n",
    "                .rename(columns={'index': 'previous_index', 'position':'previous_position'})\n",
    "               )\n",
    "\n",
    "next_pAs      = (pA_clusters\n",
    "                .position[1:]\n",
    "                .reset_index()\n",
    "                .rename(columns={'index': 'next_index', 'position':'next_position'})\n",
    "               )\n",
    "\n",
    "aligned_pAs = pd.concat([previous_pAs, next_pAs], axis=1)\n",
    "\n",
    "aligned_pAs['distance'] = aligned_pAs['next_position'] - aligned_pAs['previous_position'] "
   ]
  },
  {
   "cell_type": "markdown",
   "metadata": {},
   "source": [
    "In the cell below, 280 = 200 + 80 and 120 = 200 - 80."
   ]
  },
  {
   "cell_type": "code",
   "execution_count": 14,
   "metadata": {},
   "outputs": [],
   "source": [
    "close_pAs = aligned_pAs[((aligned_pAs['distance'].abs()<280) & (aligned_pAs['distance'].abs()>120)) \n",
    "                        & (aligned_pAs['next_index']-aligned_pAs['previous_index']<10)]\n",
    "\n",
    "close_pA_index = set(close_pAs['previous_index']).union(close_pAs['next_index'])"
   ]
  },
  {
   "cell_type": "code",
   "execution_count": 15,
   "metadata": {},
   "outputs": [
    {
     "data": {
      "text/html": [
       "<div>\n",
       "<style scoped>\n",
       "    .dataframe tbody tr th:only-of-type {\n",
       "        vertical-align: middle;\n",
       "    }\n",
       "\n",
       "    .dataframe tbody tr th {\n",
       "        vertical-align: top;\n",
       "    }\n",
       "\n",
       "    .dataframe thead th {\n",
       "        text-align: right;\n",
       "    }\n",
       "</style>\n",
       "<table border=\"1\" class=\"dataframe\">\n",
       "  <thead>\n",
       "    <tr style=\"text-align: right;\">\n",
       "      <th></th>\n",
       "      <th>chromosome</th>\n",
       "      <th>strand</th>\n",
       "      <th>position</th>\n",
       "      <th>Ctrl_Cyto_1</th>\n",
       "      <th>Ctrl_Cyto_2</th>\n",
       "      <th>Ctrl_ER_1</th>\n",
       "      <th>Ctrl_ER_2</th>\n",
       "      <th>Puro_Cyto_1</th>\n",
       "      <th>Puro_ER_1</th>\n",
       "      <th>Puro_Cyto_2</th>\n",
       "      <th>Puro_ER_2</th>\n",
       "    </tr>\n",
       "  </thead>\n",
       "  <tbody>\n",
       "    <tr>\n",
       "      <th>15593</th>\n",
       "      <td>chr1</td>\n",
       "      <td>-</td>\n",
       "      <td>4764020</td>\n",
       "      <td>6</td>\n",
       "      <td>10</td>\n",
       "      <td>7</td>\n",
       "      <td>5</td>\n",
       "      <td>6</td>\n",
       "      <td>1</td>\n",
       "      <td>10</td>\n",
       "      <td>6</td>\n",
       "    </tr>\n",
       "    <tr>\n",
       "      <th>15596</th>\n",
       "      <td>chr1</td>\n",
       "      <td>-</td>\n",
       "      <td>4766465</td>\n",
       "      <td>2182</td>\n",
       "      <td>2278</td>\n",
       "      <td>1063</td>\n",
       "      <td>2147</td>\n",
       "      <td>2651</td>\n",
       "      <td>1265</td>\n",
       "      <td>2019</td>\n",
       "      <td>1697</td>\n",
       "    </tr>\n",
       "    <tr>\n",
       "      <th>44092</th>\n",
       "      <td>chr1</td>\n",
       "      <td>+</td>\n",
       "      <td>4835279</td>\n",
       "      <td>12</td>\n",
       "      <td>9</td>\n",
       "      <td>6</td>\n",
       "      <td>6</td>\n",
       "      <td>15</td>\n",
       "      <td>4</td>\n",
       "      <td>8</td>\n",
       "      <td>1</td>\n",
       "    </tr>\n",
       "    <tr>\n",
       "      <th>44096</th>\n",
       "      <td>chr1</td>\n",
       "      <td>+</td>\n",
       "      <td>4836815</td>\n",
       "      <td>242</td>\n",
       "      <td>174</td>\n",
       "      <td>120</td>\n",
       "      <td>176</td>\n",
       "      <td>262</td>\n",
       "      <td>95</td>\n",
       "      <td>142</td>\n",
       "      <td>122</td>\n",
       "    </tr>\n",
       "    <tr>\n",
       "      <th>15608</th>\n",
       "      <td>chr1</td>\n",
       "      <td>-</td>\n",
       "      <td>4847354</td>\n",
       "      <td>0</td>\n",
       "      <td>3</td>\n",
       "      <td>2</td>\n",
       "      <td>15</td>\n",
       "      <td>2</td>\n",
       "      <td>9</td>\n",
       "      <td>3</td>\n",
       "      <td>6</td>\n",
       "    </tr>\n",
       "    <tr>\n",
       "      <th>...</th>\n",
       "      <td>...</td>\n",
       "      <td>...</td>\n",
       "      <td>...</td>\n",
       "      <td>...</td>\n",
       "      <td>...</td>\n",
       "      <td>...</td>\n",
       "      <td>...</td>\n",
       "      <td>...</td>\n",
       "      <td>...</td>\n",
       "      <td>...</td>\n",
       "      <td>...</td>\n",
       "    </tr>\n",
       "    <tr>\n",
       "      <th>141967</th>\n",
       "      <td>chrX</td>\n",
       "      <td>-</td>\n",
       "      <td>166414227</td>\n",
       "      <td>2</td>\n",
       "      <td>0</td>\n",
       "      <td>9</td>\n",
       "      <td>7</td>\n",
       "      <td>1</td>\n",
       "      <td>6</td>\n",
       "      <td>5</td>\n",
       "      <td>15</td>\n",
       "    </tr>\n",
       "    <tr>\n",
       "      <th>31894</th>\n",
       "      <td>chrX</td>\n",
       "      <td>+</td>\n",
       "      <td>166428727</td>\n",
       "      <td>36</td>\n",
       "      <td>10</td>\n",
       "      <td>51</td>\n",
       "      <td>17</td>\n",
       "      <td>18</td>\n",
       "      <td>44</td>\n",
       "      <td>16</td>\n",
       "      <td>33</td>\n",
       "    </tr>\n",
       "    <tr>\n",
       "      <th>326027</th>\n",
       "      <td>chrX_random</td>\n",
       "      <td>-</td>\n",
       "      <td>10851</td>\n",
       "      <td>14</td>\n",
       "      <td>14</td>\n",
       "      <td>12</td>\n",
       "      <td>11</td>\n",
       "      <td>10</td>\n",
       "      <td>10</td>\n",
       "      <td>10</td>\n",
       "      <td>9</td>\n",
       "    </tr>\n",
       "    <tr>\n",
       "      <th>326321</th>\n",
       "      <td>chrX_random</td>\n",
       "      <td>+</td>\n",
       "      <td>334185</td>\n",
       "      <td>108</td>\n",
       "      <td>53</td>\n",
       "      <td>164</td>\n",
       "      <td>181</td>\n",
       "      <td>169</td>\n",
       "      <td>93</td>\n",
       "      <td>129</td>\n",
       "      <td>93</td>\n",
       "    </tr>\n",
       "    <tr>\n",
       "      <th>326002</th>\n",
       "      <td>chrY</td>\n",
       "      <td>+</td>\n",
       "      <td>1448251</td>\n",
       "      <td>0</td>\n",
       "      <td>0</td>\n",
       "      <td>0</td>\n",
       "      <td>0</td>\n",
       "      <td>0</td>\n",
       "      <td>4</td>\n",
       "      <td>0</td>\n",
       "      <td>41</td>\n",
       "    </tr>\n",
       "  </tbody>\n",
       "</table>\n",
       "<p>23310 rows × 11 columns</p>\n",
       "</div>"
      ],
      "text/plain": [
       "         chromosome strand   position  Ctrl_Cyto_1  Ctrl_Cyto_2  Ctrl_ER_1  \\\n",
       "15593          chr1      -    4764020            6           10          7   \n",
       "15596          chr1      -    4766465         2182         2278       1063   \n",
       "44092          chr1      +    4835279           12            9          6   \n",
       "44096          chr1      +    4836815          242          174        120   \n",
       "15608          chr1      -    4847354            0            3          2   \n",
       "...             ...    ...        ...          ...          ...        ...   \n",
       "141967         chrX      -  166414227            2            0          9   \n",
       "31894          chrX      +  166428727           36           10         51   \n",
       "326027  chrX_random      -      10851           14           14         12   \n",
       "326321  chrX_random      +     334185          108           53        164   \n",
       "326002         chrY      +    1448251            0            0          0   \n",
       "\n",
       "        Ctrl_ER_2  Puro_Cyto_1  Puro_ER_1  Puro_Cyto_2  Puro_ER_2  \n",
       "15593           5            6          1           10          6  \n",
       "15596        2147         2651       1265         2019       1697  \n",
       "44092           6           15          4            8          1  \n",
       "44096         176          262         95          142        122  \n",
       "15608          15            2          9            3          6  \n",
       "...           ...          ...        ...          ...        ...  \n",
       "141967          7            1          6            5         15  \n",
       "31894          17           18         44           16         33  \n",
       "326027         11           10         10           10          9  \n",
       "326321        181          169         93          129         93  \n",
       "326002          0            0          4            0         41  \n",
       "\n",
       "[23310 rows x 11 columns]"
      ]
     },
     "execution_count": 15,
     "metadata": {},
     "output_type": "execute_result"
    }
   ],
   "source": [
    "pA_clusters = pA_clusters.loc[[i for i in pA_clusters.index.values if not i in close_pA_index]]\n",
    "pA_clusters"
   ]
  },
  {
   "cell_type": "code",
   "execution_count": 16,
   "metadata": {},
   "outputs": [],
   "source": [
    "downstream_seqs = pA_clusters.apply(lambda row: \n",
    "                                    get_seq(row.chromosome, row.strand, row.position, \n",
    "                                            offset=200, genome=genome), \n",
    "                                    axis=1) \n",
    "\n",
    "upstream_seqs   = pA_clusters.apply(lambda row: \n",
    "                                    get_seq(row.chromosome, row.strand, row.position, \n",
    "                                            offset=-200, genome=genome), \n",
    "                                    axis=1) \n",
    "\n",
    "negative_seqs   = pd.concat([upstream_seqs, downstream_seqs])"
   ]
  },
  {
   "cell_type": "code",
   "execution_count": 17,
   "metadata": {},
   "outputs": [
    {
     "data": {
      "text/html": [
       "<div>\n",
       "<style scoped>\n",
       "    .dataframe tbody tr th:only-of-type {\n",
       "        vertical-align: middle;\n",
       "    }\n",
       "\n",
       "    .dataframe tbody tr th {\n",
       "        vertical-align: top;\n",
       "    }\n",
       "\n",
       "    .dataframe thead th {\n",
       "        text-align: right;\n",
       "    }\n",
       "</style>\n",
       "<table border=\"1\" class=\"dataframe\">\n",
       "  <thead>\n",
       "    <tr style=\"text-align: right;\">\n",
       "      <th></th>\n",
       "      <th>seq</th>\n",
       "      <th>label</th>\n",
       "    </tr>\n",
       "  </thead>\n",
       "  <tbody>\n",
       "    <tr>\n",
       "      <th>8</th>\n",
       "      <td>ATACTCTACTTAACAATTTAAATAAACTGAAATATTTCTAGATGGTCTACTTCTGTTCATATAAAAACAAACCTGATTTCCAACTGTGTGGTTTGGTTTTCATTTATTTTTGGAGTTGGAG</td>\n",
       "      <td>pA</td>\n",
       "    </tr>\n",
       "    <tr>\n",
       "      <th>10</th>\n",
       "      <td>TAATTATAATCGACATTGTACAGAGAAAGGATAAGGCTACCTTTGTTAAATCTGCACTTTCTGAATATCAAAAAAAAAAACAAAAAAAACAAAAAAACCCACCAAAAGGGAAATGGAAGTA</td>\n",
       "      <td>pA</td>\n",
       "    </tr>\n",
       "    <tr>\n",
       "      <th>27</th>\n",
       "      <td>GATTTACTTGCTCACTCAGCCCTGCACTTCAGTTGTATTATAGTCCAGTTCTTATCAACATTAAACTAGAGCAATCATTTCAACTATTCTGCAAATTGTATAAGAATAAAAGTTAGAATTA</td>\n",
       "      <td>pA</td>\n",
       "    </tr>\n",
       "    <tr>\n",
       "      <th>30</th>\n",
       "      <td>GCTCTCCTGTCCATCTGCTGCCATCCACCATCCGGTTCTCTTCTTGCTGCAAAATAAAACACTCTGTCCATTTTTAACTCTAAACAGATATTTTTGTTTCTCATCTTAACTATTCAATCCA</td>\n",
       "      <td>pA</td>\n",
       "    </tr>\n",
       "    <tr>\n",
       "      <th>63</th>\n",
       "      <td>CGTAAGGAGATCTGAATCCCTCTTCTGGAGTGTCTGAAGACAGCTGCCGTGTACTTACATATAATAAATAAATACATCTTTTTTTTTTTTAAATCTACTTTTAAACTAGAAAACCAAAAAT</td>\n",
       "      <td>pA</td>\n",
       "    </tr>\n",
       "  </tbody>\n",
       "</table>\n",
       "</div>"
      ],
      "text/plain": [
       "                                                                                                                          seq  \\\n",
       "8   ATACTCTACTTAACAATTTAAATAAACTGAAATATTTCTAGATGGTCTACTTCTGTTCATATAAAAACAAACCTGATTTCCAACTGTGTGGTTTGGTTTTCATTTATTTTTGGAGTTGGAG   \n",
       "10  TAATTATAATCGACATTGTACAGAGAAAGGATAAGGCTACCTTTGTTAAATCTGCACTTTCTGAATATCAAAAAAAAAAACAAAAAAAACAAAAAAACCCACCAAAAGGGAAATGGAAGTA   \n",
       "27  GATTTACTTGCTCACTCAGCCCTGCACTTCAGTTGTATTATAGTCCAGTTCTTATCAACATTAAACTAGAGCAATCATTTCAACTATTCTGCAAATTGTATAAGAATAAAAGTTAGAATTA   \n",
       "30  GCTCTCCTGTCCATCTGCTGCCATCCACCATCCGGTTCTCTTCTTGCTGCAAAATAAAACACTCTGTCCATTTTTAACTCTAAACAGATATTTTTGTTTCTCATCTTAACTATTCAATCCA   \n",
       "63  CGTAAGGAGATCTGAATCCCTCTTCTGGAGTGTCTGAAGACAGCTGCCGTGTACTTACATATAATAAATAAATACATCTTTTTTTTTTTTAAATCTACTTTTAAACTAGAAAACCAAAAAT   \n",
       "\n",
       "   label  \n",
       "8     pA  \n",
       "10    pA  \n",
       "27    pA  \n",
       "30    pA  \n",
       "63    pA  "
      ]
     },
     "execution_count": 17,
     "metadata": {},
     "output_type": "execute_result"
    }
   ],
   "source": [
    "positive_seqs = positive_seqs.to_frame(name='seq')\n",
    "positive_seqs['label'] = 'pA'\n",
    "positive_seqs.head()"
   ]
  },
  {
   "cell_type": "code",
   "execution_count": 18,
   "metadata": {
    "scrolled": true
   },
   "outputs": [
    {
     "data": {
      "text/html": [
       "<div>\n",
       "<style scoped>\n",
       "    .dataframe tbody tr th:only-of-type {\n",
       "        vertical-align: middle;\n",
       "    }\n",
       "\n",
       "    .dataframe tbody tr th {\n",
       "        vertical-align: top;\n",
       "    }\n",
       "\n",
       "    .dataframe thead th {\n",
       "        text-align: right;\n",
       "    }\n",
       "</style>\n",
       "<table border=\"1\" class=\"dataframe\">\n",
       "  <thead>\n",
       "    <tr style=\"text-align: right;\">\n",
       "      <th></th>\n",
       "      <th>seq</th>\n",
       "      <th>label</th>\n",
       "    </tr>\n",
       "  </thead>\n",
       "  <tbody>\n",
       "    <tr>\n",
       "      <th>15593</th>\n",
       "      <td>AGGATAAGAACTCAAACAGGGCAGCAGCTCATGTAGAGACCATGGAGCATGCTGCTTACTGACTTGCTCCTCATGGCTTGCTCAGCCTGCTTCCTTATAAAACCCGAGATCACCAGCCCAC</td>\n",
       "      <td>Non-pA</td>\n",
       "    </tr>\n",
       "    <tr>\n",
       "      <th>15596</th>\n",
       "      <td>TTTAGAAAGGGGATTAAAAAGAAAAAAACCTACTTAAAATTACCTTTCTTTTGGGGGGTGGGGAGACTGTGTTTTGATACATGGTTTCTCTGTGTAGCCCTGGCTGTCCTGGAACTTGTTC</td>\n",
       "      <td>Non-pA</td>\n",
       "    </tr>\n",
       "    <tr>\n",
       "      <th>44092</th>\n",
       "      <td>TTTCTGACTTCTGTAGCTGTTTATTAAATCATTTTTTCCAAACAGGAAATGATGGATGTCAAGCACTTCATTGATAAGCTCCTACCTCCAATTGATTGACATCACTAAGAGGCCTTGAGTA</td>\n",
       "      <td>Non-pA</td>\n",
       "    </tr>\n",
       "    <tr>\n",
       "      <th>44096</th>\n",
       "      <td>AACCAACCAAGAAGCACCTTTATAAACAGGTGCTAATTGATATGAAGATCATTTTGGTATGTCCTAGATAGAATGAAGCCAAATGTCTGGATTTAAAACAATTTCAAACAATCATTTACTA</td>\n",
       "      <td>Non-pA</td>\n",
       "    </tr>\n",
       "    <tr>\n",
       "      <th>15608</th>\n",
       "      <td>ACTAATGTGCATTTTCACACTTTAAACTTAAGATCAAATAAAGTATAGCTCCCCAGGGTAACAGTGAATTCCACTTTGACTAATCAGTTTCTATTGAAAGTAAATGGTTCAGTACCATTTT</td>\n",
       "      <td>Non-pA</td>\n",
       "    </tr>\n",
       "  </tbody>\n",
       "</table>\n",
       "</div>"
      ],
      "text/plain": [
       "                                                                                                                             seq  \\\n",
       "15593  AGGATAAGAACTCAAACAGGGCAGCAGCTCATGTAGAGACCATGGAGCATGCTGCTTACTGACTTGCTCCTCATGGCTTGCTCAGCCTGCTTCCTTATAAAACCCGAGATCACCAGCCCAC   \n",
       "15596  TTTAGAAAGGGGATTAAAAAGAAAAAAACCTACTTAAAATTACCTTTCTTTTGGGGGGTGGGGAGACTGTGTTTTGATACATGGTTTCTCTGTGTAGCCCTGGCTGTCCTGGAACTTGTTC   \n",
       "44092  TTTCTGACTTCTGTAGCTGTTTATTAAATCATTTTTTCCAAACAGGAAATGATGGATGTCAAGCACTTCATTGATAAGCTCCTACCTCCAATTGATTGACATCACTAAGAGGCCTTGAGTA   \n",
       "44096  AACCAACCAAGAAGCACCTTTATAAACAGGTGCTAATTGATATGAAGATCATTTTGGTATGTCCTAGATAGAATGAAGCCAAATGTCTGGATTTAAAACAATTTCAAACAATCATTTACTA   \n",
       "15608  ACTAATGTGCATTTTCACACTTTAAACTTAAGATCAAATAAAGTATAGCTCCCCAGGGTAACAGTGAATTCCACTTTGACTAATCAGTTTCTATTGAAAGTAAATGGTTCAGTACCATTTT   \n",
       "\n",
       "        label  \n",
       "15593  Non-pA  \n",
       "15596  Non-pA  \n",
       "44092  Non-pA  \n",
       "44096  Non-pA  \n",
       "15608  Non-pA  "
      ]
     },
     "execution_count": 18,
     "metadata": {},
     "output_type": "execute_result"
    }
   ],
   "source": [
    "negative_seqs = negative_seqs.to_frame(name='seq')\n",
    "negative_seqs['label'] = 'Non-pA'\n",
    "negative_seqs.head()"
   ]
  },
  {
   "cell_type": "code",
   "execution_count": 19,
   "metadata": {},
   "outputs": [
    {
     "data": {
      "text/plain": [
       "(74433, 2)"
      ]
     },
     "execution_count": 19,
     "metadata": {},
     "output_type": "execute_result"
    }
   ],
   "source": [
    "seqs = pd.concat([positive_seqs, negative_seqs], axis=0)\n",
    "seqs.shape"
   ]
  },
  {
   "cell_type": "code",
   "execution_count": 20,
   "metadata": {},
   "outputs": [
    {
     "data": {
      "text/plain": [
       "(74432, 2)"
      ]
     },
     "execution_count": 20,
     "metadata": {},
     "output_type": "execute_result"
    }
   ],
   "source": [
    "seqs = seqs[~seqs['seq'].str.contains(r'N')]\n",
    "seqs.shape"
   ]
  },
  {
   "cell_type": "markdown",
   "metadata": {},
   "source": [
    "## Define \"Transformations\" for turning sequences into arrays "
   ]
  },
  {
   "cell_type": "code",
   "execution_count": 21,
   "metadata": {},
   "outputs": [],
   "source": [
    "@Transform\n",
    "def extract_from_df(df, col_name): return str(df[col_name])"
   ]
  },
  {
   "cell_type": "markdown",
   "metadata": {},
   "source": [
    "The Transform class usally have 'encodes' and 'decodes' methods for doing the forward and reverse transformation."
   ]
  },
  {
   "cell_type": "code",
   "execution_count": 23,
   "metadata": {},
   "outputs": [],
   "source": [
    "class Seq2Array(Transform):\n",
    "    \"Convert sequence of 'mol_type' into a numpy array\"\n",
    "    order=10\n",
    "    def __init__(self, mol_type = 'DNA'):\n",
    "        self.b2v = {'A':[1., 0, 0, 0],\n",
    "                    'T':[0, 1., 0, 0],\n",
    "                    'C':[0, 0, 1., 0],\n",
    "                    'G':[0, 0, 0, 1.]\n",
    "                    }\n",
    "        self.vocab = ['A', 'T', 'C', 'G']\n",
    "        if mol_type == 'RNA':\n",
    "            del self.b2v['T']\n",
    "            self.b2v['U'] = [0, 1., 0, 0]\n",
    "            self.vocab = ['A', 'U', 'C', 'G']\n",
    "     \n",
    "    def encodes(self, seq:str): return array([self.b2v[b] for b in seq]).T[None]\n",
    "    def decodes(self, arr):  \n",
    "        base_arr = array(self.vocab*arr.shape[2]).reshape(-1, 4)\n",
    "        return ''.join(base_arr[arr[0].T==1])"
   ]
  },
  {
   "cell_type": "markdown",
   "metadata": {},
   "source": [
    "Do some testing:"
   ]
  },
  {
   "cell_type": "code",
   "execution_count": 24,
   "metadata": {},
   "outputs": [
    {
     "data": {
      "text/plain": [
       "array([[[1., 1., 0., 0., 0., 0., 0., 0., 0.],\n",
       "        [0., 0., 1., 0., 0., 0., 0., 1., 1.],\n",
       "        [0., 0., 0., 1., 0., 0., 1., 0., 0.],\n",
       "        [0., 0., 0., 0., 1., 1., 0., 0., 0.]]])"
      ]
     },
     "execution_count": 24,
     "metadata": {},
     "output_type": "execute_result"
    }
   ],
   "source": [
    "s2a = Seq2Array(mol_type='RNA')\n",
    "a = s2a('AAUCGGCUU')\n",
    "test_eq(a.shape, (1, 4, 9))\n",
    "a"
   ]
  },
  {
   "cell_type": "code",
   "execution_count": 26,
   "metadata": {},
   "outputs": [],
   "source": [
    "test_eq(s2a.decodes(a), 'AAUCGGCUU')"
   ]
  },
  {
   "cell_type": "markdown",
   "metadata": {},
   "source": [
    "## Create a DataSource using Transformations and a Splitter.\n",
    "'tfms[0]' will be applied to the independent variable (seq) and 'tfms[1]' will be applied to the dependent variable (label). RandomSplitter() will randomly split the data into a training set (80%) and a test set (20%)."
   ]
  },
  {
   "cell_type": "code",
   "execution_count": 27,
   "metadata": {},
   "outputs": [],
   "source": [
    "tfms = [[partial(extract_from_df, col_name='seq')],\n",
    "        [partial(extract_from_df, col_name='label'), Categorize(), OneHotEncode()]]\n",
    "\n",
    "split_idx = RandomSplitter()(seqs)\n",
    "\n",
    "dsrc = DataSource(seqs, tfms, splits=split_idx)"
   ]
  },
  {
   "cell_type": "code",
   "execution_count": 28,
   "metadata": {},
   "outputs": [
    {
     "data": {
      "text/plain": [
       "('GTATCTTTCTCTCCCTTCACTGGGATGGTTTCTGTAACGACCTGTAAGTGCTGTTTCTGAGATGGAGCCGCCTCATCTTTACCATCGAACCTCCTTTTCTTTCTAGGTTAAGCAGCTGCCC',\n",
       " tensor([1., 0.]))"
      ]
     },
     "execution_count": 28,
     "metadata": {},
     "output_type": "execute_result"
    }
   ],
   "source": [
    "dsrc.train[0]"
   ]
  },
  {
   "cell_type": "markdown",
   "metadata": {},
   "source": [
    "## Create a DataBunch and move the data to GPU"
   ]
  },
  {
   "cell_type": "code",
   "execution_count": 30,
   "metadata": {
    "scrolled": false
   },
   "outputs": [
    {
     "data": {
      "text/plain": [
       "True"
      ]
     },
     "execution_count": 30,
     "metadata": {},
     "output_type": "execute_result"
    }
   ],
   "source": [
    "torch.cuda.is_available()"
   ]
  },
  {
   "cell_type": "markdown",
   "metadata": {},
   "source": [
    "More transforms will be applied to the data:"
   ]
  },
  {
   "cell_type": "code",
   "execution_count": 31,
   "metadata": {},
   "outputs": [],
   "source": [
    "dbch = dsrc.databunch(bs=64, \n",
    "            after_item  = [Seq2Array(mol_type='DNA'), ToTensor()], \n",
    "            after_batch = [Cuda(), IntToFloatTensor()])"
   ]
  },
  {
   "cell_type": "markdown",
   "metadata": {},
   "source": [
    "Have a look at one batch of transformed data:"
   ]
  },
  {
   "cell_type": "code",
   "execution_count": 32,
   "metadata": {},
   "outputs": [
    {
     "data": {
      "text/plain": [
       "(tensor([[[[0., 0., 0.,  ..., 0., 0., 1.],\n",
       "           [0., 0., 0.,  ..., 0., 0., 0.],\n",
       "           [1., 1., 0.,  ..., 0., 1., 0.],\n",
       "           [0., 0., 1.,  ..., 1., 0., 0.]]],\n",
       " \n",
       " \n",
       "         [[[0., 0., 0.,  ..., 0., 0., 0.],\n",
       "           [1., 1., 1.,  ..., 1., 1., 1.],\n",
       "           [0., 0., 0.,  ..., 0., 0., 0.],\n",
       "           [0., 0., 0.,  ..., 0., 0., 0.]]],\n",
       " \n",
       " \n",
       "         [[[0., 1., 0.,  ..., 0., 1., 0.],\n",
       "           [0., 0., 0.,  ..., 1., 0., 0.],\n",
       "           [0., 0., 0.,  ..., 0., 0., 1.],\n",
       "           [1., 0., 1.,  ..., 0., 0., 0.]]],\n",
       " \n",
       " \n",
       "         ...,\n",
       " \n",
       " \n",
       "         [[[0., 1., 0.,  ..., 0., 0., 0.],\n",
       "           [0., 0., 1.,  ..., 1., 0., 1.],\n",
       "           [1., 0., 0.,  ..., 0., 0., 0.],\n",
       "           [0., 0., 0.,  ..., 0., 1., 0.]]],\n",
       " \n",
       " \n",
       "         [[[0., 1., 0.,  ..., 0., 0., 0.],\n",
       "           [1., 0., 0.,  ..., 0., 0., 0.],\n",
       "           [0., 0., 1.,  ..., 0., 0., 0.],\n",
       "           [0., 0., 0.,  ..., 1., 1., 1.]]],\n",
       " \n",
       " \n",
       "         [[[0., 1., 1.,  ..., 0., 0., 0.],\n",
       "           [1., 0., 0.,  ..., 1., 0., 1.],\n",
       "           [0., 0., 0.,  ..., 0., 1., 0.],\n",
       "           [0., 0., 0.,  ..., 0., 0., 0.]]]], device='cuda:0',\n",
       "        dtype=torch.float64), tensor([[0., 1.],\n",
       "         [0., 1.],\n",
       "         [0., 1.],\n",
       "         [1., 0.],\n",
       "         [0., 1.],\n",
       "         [0., 1.],\n",
       "         [1., 0.],\n",
       "         [1., 0.],\n",
       "         [1., 0.],\n",
       "         [0., 1.],\n",
       "         [1., 0.],\n",
       "         [1., 0.],\n",
       "         [0., 1.],\n",
       "         [1., 0.],\n",
       "         [0., 1.],\n",
       "         [1., 0.],\n",
       "         [0., 1.],\n",
       "         [1., 0.],\n",
       "         [1., 0.],\n",
       "         [0., 1.],\n",
       "         [1., 0.],\n",
       "         [1., 0.],\n",
       "         [1., 0.],\n",
       "         [1., 0.],\n",
       "         [0., 1.],\n",
       "         [1., 0.],\n",
       "         [1., 0.],\n",
       "         [0., 1.],\n",
       "         [1., 0.],\n",
       "         [1., 0.],\n",
       "         [0., 1.],\n",
       "         [1., 0.],\n",
       "         [1., 0.],\n",
       "         [0., 1.],\n",
       "         [0., 1.],\n",
       "         [0., 1.],\n",
       "         [0., 1.],\n",
       "         [0., 1.],\n",
       "         [0., 1.],\n",
       "         [1., 0.],\n",
       "         [0., 1.],\n",
       "         [1., 0.],\n",
       "         [1., 0.],\n",
       "         [1., 0.],\n",
       "         [0., 1.],\n",
       "         [1., 0.],\n",
       "         [0., 1.],\n",
       "         [0., 1.],\n",
       "         [1., 0.],\n",
       "         [0., 1.],\n",
       "         [1., 0.],\n",
       "         [1., 0.],\n",
       "         [0., 1.],\n",
       "         [0., 1.],\n",
       "         [0., 1.],\n",
       "         [1., 0.],\n",
       "         [1., 0.],\n",
       "         [1., 0.],\n",
       "         [0., 1.],\n",
       "         [0., 1.],\n",
       "         [1., 0.],\n",
       "         [0., 1.],\n",
       "         [0., 1.],\n",
       "         [0., 1.]], device='cuda:0'))"
      ]
     },
     "execution_count": 32,
     "metadata": {},
     "output_type": "execute_result"
    }
   ],
   "source": [
    "dbch.one_batch()"
   ]
  },
  {
   "cell_type": "markdown",
   "metadata": {},
   "source": [
    "## Define a CNN Model"
   ]
  },
  {
   "cell_type": "code",
   "execution_count": 34,
   "metadata": {},
   "outputs": [],
   "source": [
    "drop_p = 0.1\n",
    "m = nn.Sequential(\n",
    "                  nn.Conv2d(in_channels=1, out_channels=16, kernel_size=(4,6), stride=1),\n",
    "                  nn.BatchNorm2d(16),\n",
    "                  nn.ReLU(),\n",
    "                  nn.Conv2d(in_channels=16, out_channels=32, kernel_size=(1,6), stride=2),\n",
    "                  nn.BatchNorm2d(32),\n",
    "                  nn.ReLU(),\n",
    "                  nn.Conv2d(in_channels=32, out_channels=32, kernel_size=(1,6), stride=2),\n",
    "                  nn.BatchNorm2d(32),\n",
    "                  nn.ReLU(),\n",
    "                  AdaptiveConcatPool2d(size=(1,6)),\n",
    "                  Flatten(),\n",
    "#                   nn.Dropout(drop_p), # Dropout did not help much for this model \n",
    "                  nn.Linear(in_features=384, out_features=2),\n",
    "                 ).double().cuda()"
   ]
  },
  {
   "cell_type": "markdown",
   "metadata": {},
   "source": [
    "I have to overwrite the `accuracy` function from fastai:"
   ]
  },
  {
   "cell_type": "code",
   "execution_count": 35,
   "metadata": {},
   "outputs": [],
   "source": [
    "def accuracy(inp, targ, axis=-1):\n",
    "    \"Compute accuracy with `targ` when `pred` is bs * n_classes\"\n",
    "    pred,targ = flatten_check(inp.argmax(dim=axis), targ.argmax(dim=axis))\n",
    "    return (pred == targ).float().mean()"
   ]
  },
  {
   "cell_type": "markdown",
   "metadata": {},
   "source": [
    "Create a `Learner` consisted of data, model, metrics, loss function, and optimizer:"
   ]
  },
  {
   "cell_type": "code",
   "execution_count": 36,
   "metadata": {},
   "outputs": [],
   "source": [
    "learn = Learner(dbch, m, metrics=accuracy,\n",
    "                loss_func=BCEWithLogitsLossFlat(),\n",
    "                opt_func=partial(Adam, wd=0.01, eps=1e-3)\n",
    "               )"
   ]
  },
  {
   "cell_type": "code",
   "execution_count": 37,
   "metadata": {},
   "outputs": [
    {
     "name": "stdout",
     "output_type": "stream",
     "text": [
      "Sequential (Input shape: 64 x 1 x 4 x 121)\n",
      "================================================================\n",
      "Layer (type)         Output Shape         Param #    Trainable \n",
      "================================================================\n",
      "Conv2d               64 x 16 x 1 x 116    400        True      \n",
      "________________________________________________________________\n",
      "BatchNorm2d          64 x 16 x 1 x 116    32         True      \n",
      "________________________________________________________________\n",
      "ReLU                 64 x 16 x 1 x 116    0          False     \n",
      "________________________________________________________________\n",
      "Conv2d               64 x 32 x 1 x 56     3,104      True      \n",
      "________________________________________________________________\n",
      "BatchNorm2d          64 x 32 x 1 x 56     64         True      \n",
      "________________________________________________________________\n",
      "ReLU                 64 x 32 x 1 x 56     0          False     \n",
      "________________________________________________________________\n",
      "Conv2d               64 x 32 x 1 x 26     6,176      True      \n",
      "________________________________________________________________\n",
      "BatchNorm2d          64 x 32 x 1 x 26     64         True      \n",
      "________________________________________________________________\n",
      "ReLU                 64 x 32 x 1 x 26     0          False     \n",
      "________________________________________________________________\n",
      "AdaptiveAvgPool2d    64 x 32 x 1 x 6      0          False     \n",
      "________________________________________________________________\n",
      "AdaptiveMaxPool2d    64 x 32 x 1 x 6      0          False     \n",
      "________________________________________________________________\n",
      "Flatten              64 x 384             0          False     \n",
      "________________________________________________________________\n",
      "Linear               64 x 2               770        True      \n",
      "________________________________________________________________\n",
      "\n",
      "Total params: 10,610\n",
      "Total trainable params: 10,610\n",
      "Total non-trainable params: 0\n",
      "\n",
      "Optimizer used: functools.partial(<function Adam at 0x7fae5d92fb90>, wd=0.01, eps=0.001)\n",
      "Loss function: FlattenedLoss of BCEWithLogitsLoss()\n",
      "\n",
      "Callbacks:\n",
      "  - TrainEvalCallback\n",
      "  - Recorder\n",
      "  - ProgressCallback\n"
     ]
    }
   ],
   "source": [
    "print(learn.summary())"
   ]
  },
  {
   "cell_type": "markdown",
   "metadata": {},
   "source": [
    "Fit one epoch using the default maximum learning rate of 1e-3:"
   ]
  },
  {
   "cell_type": "code",
   "execution_count": 38,
   "metadata": {
    "scrolled": false
   },
   "outputs": [
    {
     "data": {
      "text/html": [
       "<table border=\"1\" class=\"dataframe\">\n",
       "  <thead>\n",
       "    <tr style=\"text-align: left;\">\n",
       "      <th>epoch</th>\n",
       "      <th>train_loss</th>\n",
       "      <th>valid_loss</th>\n",
       "      <th>accuracy</th>\n",
       "      <th>time</th>\n",
       "    </tr>\n",
       "  </thead>\n",
       "  <tbody>\n",
       "    <tr>\n",
       "      <td>0</td>\n",
       "      <td>0.201177</td>\n",
       "      <td>0.195989</td>\n",
       "      <td>0.929800</td>\n",
       "      <td>00:22</td>\n",
       "    </tr>\n",
       "  </tbody>\n",
       "</table>"
      ],
      "text/plain": [
       "<IPython.core.display.HTML object>"
      ]
     },
     "metadata": {},
     "output_type": "display_data"
    }
   ],
   "source": [
    "learn.fit_one_cycle(1)"
   ]
  },
  {
   "cell_type": "markdown",
   "metadata": {},
   "source": [
    "Plot scheduled learning rate (left) and momentum (right):"
   ]
  },
  {
   "cell_type": "code",
   "execution_count": 39,
   "metadata": {
    "scrolled": true
   },
   "outputs": [
    {
     "data": {
      "image/png": "[encoded data removed]",
      "text/plain": [
       "<Figure size 864x288 with 2 Axes>"
      ]
     },
     "metadata": {
      "needs_background": "light"
     },
     "output_type": "display_data"
    }
   ],
   "source": [
    "learn.recorder.plot_sched()"
   ]
  },
  {
   "cell_type": "markdown",
   "metadata": {},
   "source": [
    "Find optimum learning rate (Personally I don't think the lr_find method is helpful this time.):"
   ]
  },
  {
   "cell_type": "code",
   "execution_count": 42,
   "metadata": {
    "scrolled": false
   },
   "outputs": [],
   "source": [
    "# learn.lr_find(end_lr=0.1) "
   ]
  },
  {
   "cell_type": "markdown",
   "metadata": {},
   "source": [
    "The above plot suggests that we can use 1e-4 as the maximum learning rate."
   ]
  },
  {
   "cell_type": "code",
   "execution_count": 41,
   "metadata": {
    "scrolled": false
   },
   "outputs": [
    {
     "data": {
      "text/html": [
       "<table border=\"1\" class=\"dataframe\">\n",
       "  <thead>\n",
       "    <tr style=\"text-align: left;\">\n",
       "      <th>epoch</th>\n",
       "      <th>train_loss</th>\n",
       "      <th>valid_loss</th>\n",
       "      <th>accuracy</th>\n",
       "      <th>time</th>\n",
       "    </tr>\n",
       "  </thead>\n",
       "  <tbody>\n",
       "    <tr>\n",
       "      <td>0</td>\n",
       "      <td>0.187748</td>\n",
       "      <td>0.193622</td>\n",
       "      <td>0.931882</td>\n",
       "      <td>00:21</td>\n",
       "    </tr>\n",
       "    <tr>\n",
       "      <td>1</td>\n",
       "      <td>0.175895</td>\n",
       "      <td>0.187327</td>\n",
       "      <td>0.933226</td>\n",
       "      <td>00:22</td>\n",
       "    </tr>\n",
       "    <tr>\n",
       "      <td>2</td>\n",
       "      <td>0.174112</td>\n",
       "      <td>0.181609</td>\n",
       "      <td>0.935308</td>\n",
       "      <td>00:21</td>\n",
       "    </tr>\n",
       "    <tr>\n",
       "      <td>3</td>\n",
       "      <td>0.160595</td>\n",
       "      <td>0.179246</td>\n",
       "      <td>0.934838</td>\n",
       "      <td>00:21</td>\n",
       "    </tr>\n",
       "    <tr>\n",
       "      <td>4</td>\n",
       "      <td>0.168756</td>\n",
       "      <td>0.175533</td>\n",
       "      <td>0.936249</td>\n",
       "      <td>00:21</td>\n",
       "    </tr>\n",
       "    <tr>\n",
       "      <td>5</td>\n",
       "      <td>0.151519</td>\n",
       "      <td>0.174252</td>\n",
       "      <td>0.936921</td>\n",
       "      <td>00:21</td>\n",
       "    </tr>\n",
       "    <tr>\n",
       "      <td>6</td>\n",
       "      <td>0.159406</td>\n",
       "      <td>0.172821</td>\n",
       "      <td>0.938063</td>\n",
       "      <td>00:22</td>\n",
       "    </tr>\n",
       "    <tr>\n",
       "      <td>7</td>\n",
       "      <td>0.149600</td>\n",
       "      <td>0.172011</td>\n",
       "      <td>0.937660</td>\n",
       "      <td>00:22</td>\n",
       "    </tr>\n",
       "    <tr>\n",
       "      <td>8</td>\n",
       "      <td>0.163147</td>\n",
       "      <td>0.171780</td>\n",
       "      <td>0.938063</td>\n",
       "      <td>00:22</td>\n",
       "    </tr>\n",
       "    <tr>\n",
       "      <td>9</td>\n",
       "      <td>0.154820</td>\n",
       "      <td>0.171736</td>\n",
       "      <td>0.937928</td>\n",
       "      <td>00:22</td>\n",
       "    </tr>\n",
       "  </tbody>\n",
       "</table>"
      ],
      "text/plain": [
       "<IPython.core.display.HTML object>"
      ]
     },
     "metadata": {},
     "output_type": "display_data"
    }
   ],
   "source": [
    "learn.fit_one_cycle(10, lr_max=1e-4)"
   ]
  },
  {
   "cell_type": "markdown",
   "metadata": {},
   "source": [
    "Since the accuracy is still increasing, I'll train another 10 epochs:"
   ]
  },
  {
   "cell_type": "code",
   "execution_count": 43,
   "metadata": {
    "scrolled": true
   },
   "outputs": [
    {
     "data": {
      "text/html": [
       "<table border=\"1\" class=\"dataframe\">\n",
       "  <thead>\n",
       "    <tr style=\"text-align: left;\">\n",
       "      <th>epoch</th>\n",
       "      <th>train_loss</th>\n",
       "      <th>valid_loss</th>\n",
       "      <th>accuracy</th>\n",
       "      <th>time</th>\n",
       "    </tr>\n",
       "  </thead>\n",
       "  <tbody>\n",
       "    <tr>\n",
       "      <td>0</td>\n",
       "      <td>0.167700</td>\n",
       "      <td>0.171631</td>\n",
       "      <td>0.937525</td>\n",
       "      <td>00:22</td>\n",
       "    </tr>\n",
       "    <tr>\n",
       "      <td>1</td>\n",
       "      <td>0.149820</td>\n",
       "      <td>0.170843</td>\n",
       "      <td>0.937727</td>\n",
       "      <td>00:22</td>\n",
       "    </tr>\n",
       "    <tr>\n",
       "      <td>2</td>\n",
       "      <td>0.153163</td>\n",
       "      <td>0.169974</td>\n",
       "      <td>0.939137</td>\n",
       "      <td>00:22</td>\n",
       "    </tr>\n",
       "    <tr>\n",
       "      <td>3</td>\n",
       "      <td>0.146054</td>\n",
       "      <td>0.167833</td>\n",
       "      <td>0.939003</td>\n",
       "      <td>00:21</td>\n",
       "    </tr>\n",
       "    <tr>\n",
       "      <td>4</td>\n",
       "      <td>0.143583</td>\n",
       "      <td>0.167557</td>\n",
       "      <td>0.938734</td>\n",
       "      <td>00:21</td>\n",
       "    </tr>\n",
       "    <tr>\n",
       "      <td>5</td>\n",
       "      <td>0.138346</td>\n",
       "      <td>0.166229</td>\n",
       "      <td>0.939876</td>\n",
       "      <td>00:21</td>\n",
       "    </tr>\n",
       "    <tr>\n",
       "      <td>6</td>\n",
       "      <td>0.131192</td>\n",
       "      <td>0.165920</td>\n",
       "      <td>0.940347</td>\n",
       "      <td>00:21</td>\n",
       "    </tr>\n",
       "    <tr>\n",
       "      <td>7</td>\n",
       "      <td>0.136286</td>\n",
       "      <td>0.165973</td>\n",
       "      <td>0.940279</td>\n",
       "      <td>00:21</td>\n",
       "    </tr>\n",
       "    <tr>\n",
       "      <td>8</td>\n",
       "      <td>0.138695</td>\n",
       "      <td>0.165985</td>\n",
       "      <td>0.939944</td>\n",
       "      <td>00:22</td>\n",
       "    </tr>\n",
       "    <tr>\n",
       "      <td>9</td>\n",
       "      <td>0.136140</td>\n",
       "      <td>0.166099</td>\n",
       "      <td>0.939944</td>\n",
       "      <td>00:21</td>\n",
       "    </tr>\n",
       "  </tbody>\n",
       "</table>"
      ],
      "text/plain": [
       "<IPython.core.display.HTML object>"
      ]
     },
     "metadata": {},
     "output_type": "display_data"
    }
   ],
   "source": [
    "learn.fit_one_cycle(10, lr_max=1e-4)"
   ]
  },
  {
   "cell_type": "markdown",
   "metadata": {},
   "source": [
    "It seems that the model cannot be further improved by training longer."
   ]
  },
  {
   "cell_type": "code",
   "execution_count": 44,
   "metadata": {},
   "outputs": [],
   "source": [
    "learn.save(\"pA_site_CNN_model\")"
   ]
  },
  {
   "cell_type": "code",
   "execution_count": 46,
   "metadata": {
    "scrolled": true
   },
   "outputs": [],
   "source": [
    "# learn.recorder.plot_loss()"
   ]
  },
  {
   "cell_type": "markdown",
   "metadata": {},
   "source": [
    "## Confusion Matrix\n",
    "You can see that the classes are not too unbalanced. A dumb model that always predict \"Non-pA\" will only get ~63% accuracy."
   ]
  },
  {
   "cell_type": "code",
   "execution_count": 47,
   "metadata": {},
   "outputs": [
    {
     "data": {
      "text/html": [],
      "text/plain": [
       "<IPython.core.display.HTML object>"
      ]
     },
     "metadata": {},
     "output_type": "display_data"
    },
    {
     "data": {
      "text/html": [
       "<div>\n",
       "<style scoped>\n",
       "    .dataframe tbody tr th:only-of-type {\n",
       "        vertical-align: middle;\n",
       "    }\n",
       "\n",
       "    .dataframe tbody tr th {\n",
       "        vertical-align: top;\n",
       "    }\n",
       "\n",
       "    .dataframe thead th {\n",
       "        text-align: right;\n",
       "    }\n",
       "</style>\n",
       "<table border=\"1\" class=\"dataframe\">\n",
       "  <thead>\n",
       "    <tr style=\"text-align: right;\">\n",
       "      <th></th>\n",
       "      <th>Predicted Non-pA</th>\n",
       "      <th>Predicted pA</th>\n",
       "    </tr>\n",
       "  </thead>\n",
       "  <tbody>\n",
       "    <tr>\n",
       "      <th>True Non-pA</th>\n",
       "      <td>8944</td>\n",
       "      <td>383</td>\n",
       "    </tr>\n",
       "    <tr>\n",
       "      <th>True pA</th>\n",
       "      <td>507</td>\n",
       "      <td>5052</td>\n",
       "    </tr>\n",
       "  </tbody>\n",
       "</table>\n",
       "</div>"
      ],
      "text/plain": [
       "             Predicted Non-pA  Predicted pA\n",
       "True Non-pA              8944           383\n",
       "True pA                   507          5052"
      ]
     },
     "execution_count": 47,
     "metadata": {},
     "output_type": "execute_result"
    }
   ],
   "source": [
    "interp = ClassificationInterpretation.from_learner(learn)\n",
    "\n",
    "cm = confusion_matrix(y_true=interp.targs.argmax(axis=1), \n",
    "                      y_pred=interp.decoded.double().argmax(axis=1))\n",
    "\n",
    "pd.DataFrame(cm, \n",
    "             index=['True Non-pA', 'True pA'], \n",
    "             columns=['Predicted Non-pA', 'Predicted pA'])"
   ]
  },
  {
   "cell_type": "markdown",
   "metadata": {},
   "source": [
    "## Precision Recall"
   ]
  },
  {
   "cell_type": "code",
   "execution_count": 48,
   "metadata": {},
   "outputs": [],
   "source": [
    "precision, recall, thresholds = precision_recall_curve(\n",
    "                                y_true=interp.targs.argmax(axis=1), \n",
    "                                probas_pred=interp.preds[:,1])"
   ]
  },
  {
   "cell_type": "code",
   "execution_count": 49,
   "metadata": {
    "scrolled": false
   },
   "outputs": [
    {
     "data": {
      "image/png": "[encoded data removed]",
      "text/plain": [
       "<Figure size 432x288 with 1 Axes>"
      ]
     },
     "metadata": {
      "needs_background": "light"
     },
     "output_type": "display_data"
    }
   ],
   "source": [
    "plt.figure()\n",
    "plt.step(recall, precision)\n",
    "plt.xlabel('Recall')\n",
    "plt.ylabel('Precision')\n",
    "plt.title('Precision-Recall for the Test set');"
   ]
  },
  {
   "cell_type": "markdown",
   "metadata": {},
   "source": [
    "## ROC"
   ]
  },
  {
   "cell_type": "code",
   "execution_count": 50,
   "metadata": {},
   "outputs": [],
   "source": [
    "fpr, tpr, thresholds = roc_curve(y_true=[['Non-pA', 'pA'][i.item()] for i in interp.targs.argmax(axis=1)], \n",
    "                                 y_score=interp.preds[:,1], \n",
    "                                 pos_label='pA')\n",
    "roc_auc = auc(fpr, tpr)"
   ]
  },
  {
   "cell_type": "code",
   "execution_count": 51,
   "metadata": {
    "scrolled": true
   },
   "outputs": [
    {
     "data": {
      "image/png": "[encoded data removed]",
      "text/plain": [
       "<Figure size 432x288 with 1 Axes>"
      ]
     },
     "metadata": {
      "needs_background": "light"
     },
     "output_type": "display_data"
    }
   ],
   "source": [
    "plt.figure()\n",
    "lw = 2\n",
    "plt.plot(fpr, tpr, color='darkorange',\n",
    "         lw=lw, label='ROC curve (area = %0.2f)' % roc_auc)\n",
    "plt.plot([0, 1], [0, 1], color='navy', lw=lw, linestyle='--')\n",
    "plt.xlim([0.0, 1.0])\n",
    "plt.ylim([0.0, 1.05])\n",
    "plt.xlabel('False Positive Rate')\n",
    "plt.ylabel('True Positive Rate')\n",
    "plt.title('Receiver operating characteristic')\n",
    "plt.legend(loc=\"lower right\")\n",
    "plt.show()"
   ]
  },
  {
   "cell_type": "markdown",
   "metadata": {},
   "source": [
    "## What's next?\n",
    "1. Try other architectures, such as ResNet.\n",
    "2. Interpret the model. \n",
    "3. Use the model for to find possible pA sites of inactive genes in the genome."
   ]
  }
 ],
 "metadata": {
  "kernelspec": {
   "display_name": "Python 3",
   "language": "python",
   "name": "python3"
  },
  "language_info": {
   "codemirror_mode": {
    "name": "ipython",
    "version": 3
   },
   "file_extension": ".py",
   "mimetype": "text/x-python",
   "name": "python",
   "nbconvert_exporter": "python",
   "pygments_lexer": "ipython3",
   "version": "3.7.5"
  }
 },
 "nbformat": 4,
 "nbformat_minor": 2
}
